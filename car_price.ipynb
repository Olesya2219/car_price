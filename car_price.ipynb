{
 "cells": [
  {
   "cell_type": "markdown",
   "metadata": {},
   "source": [
    "# Определение стоимости автомобилей"
   ]
  },
  {
   "cell_type": "markdown",
   "metadata": {},
   "source": [
    "Сервис по продаже автомобилей с пробегом «Не бит, не крашен» разрабатывает приложение для привлечения новых клиентов. В нём можно быстро узнать рыночную стоимость своего автомобиля. В вашем распоряжении исторические данные: технические характеристики, комплектации и цены автомобилей. Вам нужно построить модель для определения стоимости. \n",
    "\n",
    "Заказчику важны:\n",
    "\n",
    "- качество предсказания;\n",
    "- скорость предсказания;\n",
    "- время обучения.\n",
    "\n",
    "**Цель проекта:**  построить модель для определения стоимости автомобиля.\n",
    "\n",
    "<br>**Задачи исследования:**\n",
    "<br>1.Изучить исходные данные и выполнить их предобработку.\n",
    "<br>2.Построение модели.\n",
    "<br>3.Сделать общий вывод."
   ]
  },
  {
   "cell_type": "markdown",
   "metadata": {},
   "source": [
    "## Подготовка данных"
   ]
  },
  {
   "cell_type": "code",
   "execution_count": 2,
   "metadata": {},
   "outputs": [
    {
     "name": "stdout",
     "output_type": "stream",
     "text": [
      "Collecting optuna\n",
      "  Downloading optuna-2.10.0-py3-none-any.whl (308 kB)\n",
      "\u001b[K     |████████████████████████████████| 308 kB 1.1 MB/s eta 0:00:01\n",
      "\u001b[?25hRequirement already satisfied: alembic in /opt/conda/lib/python3.9/site-packages (from optuna) (1.6.5)\n",
      "Requirement already satisfied: numpy in /opt/conda/lib/python3.9/site-packages (from optuna) (1.21.1)\n",
      "Collecting cliff\n",
      "  Downloading cliff-3.10.1-py3-none-any.whl (81 kB)\n",
      "\u001b[K     |████████████████████████████████| 81 kB 9.5 MB/s  eta 0:00:01\n",
      "\u001b[?25hRequirement already satisfied: PyYAML in /opt/conda/lib/python3.9/site-packages (from optuna) (6.0)\n",
      "Requirement already satisfied: tqdm in /opt/conda/lib/python3.9/site-packages (from optuna) (4.61.2)\n",
      "Requirement already satisfied: sqlalchemy>=1.1.0 in /opt/conda/lib/python3.9/site-packages (from optuna) (1.4.20)\n",
      "Collecting cmaes>=0.8.2\n",
      "  Downloading cmaes-0.8.2-py3-none-any.whl (15 kB)\n",
      "Collecting colorlog\n",
      "  Downloading colorlog-6.6.0-py2.py3-none-any.whl (11 kB)\n",
      "Requirement already satisfied: scipy!=1.4.0 in /opt/conda/lib/python3.9/site-packages (from optuna) (1.8.0)\n",
      "Requirement already satisfied: packaging>=20.0 in /opt/conda/lib/python3.9/site-packages (from optuna) (21.3)\n",
      "Requirement already satisfied: pyparsing!=3.0.5,>=2.0.2 in /opt/conda/lib/python3.9/site-packages (from packaging>=20.0->optuna) (2.4.7)\n",
      "Requirement already satisfied: greenlet!=0.4.17 in /opt/conda/lib/python3.9/site-packages (from sqlalchemy>=1.1.0->optuna) (1.1.0)\n",
      "Requirement already satisfied: Mako in /opt/conda/lib/python3.9/site-packages (from alembic->optuna) (1.1.4)\n",
      "Requirement already satisfied: python-editor>=0.3 in /opt/conda/lib/python3.9/site-packages (from alembic->optuna) (1.0.4)\n",
      "Requirement already satisfied: python-dateutil in /opt/conda/lib/python3.9/site-packages (from alembic->optuna) (2.8.1)\n",
      "Collecting autopage>=0.4.0\n",
      "  Downloading autopage-0.5.0-py3-none-any.whl (29 kB)\n",
      "Collecting PrettyTable>=0.7.2\n",
      "  Downloading prettytable-3.2.0-py3-none-any.whl (26 kB)\n",
      "Collecting pbr!=2.1.0,>=2.0.0\n",
      "  Downloading pbr-5.8.1-py2.py3-none-any.whl (113 kB)\n",
      "\u001b[K     |████████████████████████████████| 113 kB 18.4 MB/s eta 0:00:01\n",
      "\u001b[?25hCollecting cmd2>=1.0.0\n",
      "  Downloading cmd2-2.4.1-py3-none-any.whl (146 kB)\n",
      "\u001b[K     |████████████████████████████████| 146 kB 19.7 MB/s eta 0:00:01\n",
      "\u001b[?25hCollecting stevedore>=2.0.1\n",
      "  Downloading stevedore-3.5.0-py3-none-any.whl (49 kB)\n",
      "\u001b[K     |████████████████████████████████| 49 kB 7.4 MB/s  eta 0:00:01\n",
      "\u001b[?25hRequirement already satisfied: wcwidth>=0.1.7 in /opt/conda/lib/python3.9/site-packages (from cmd2>=1.0.0->cliff->optuna) (0.2.5)\n",
      "Collecting pyperclip>=1.6\n",
      "  Downloading pyperclip-1.8.2.tar.gz (20 kB)\n",
      "Requirement already satisfied: attrs>=16.3.0 in /opt/conda/lib/python3.9/site-packages (from cmd2>=1.0.0->cliff->optuna) (21.2.0)\n",
      "Requirement already satisfied: MarkupSafe>=0.9.2 in /opt/conda/lib/python3.9/site-packages (from Mako->alembic->optuna) (2.0.1)\n",
      "Requirement already satisfied: six>=1.5 in /opt/conda/lib/python3.9/site-packages (from python-dateutil->alembic->optuna) (1.16.0)\n",
      "Building wheels for collected packages: pyperclip\n",
      "  Building wheel for pyperclip (setup.py) ... \u001b[?25ldone\n",
      "\u001b[?25h  Created wheel for pyperclip: filename=pyperclip-1.8.2-py3-none-any.whl size=11107 sha256=09c7184e83150b4dedb94a366b2a71d4244f1214fef987c960db13640794aa90\n",
      "  Stored in directory: /home/jovyan/.cache/pip/wheels/0c/09/9e/49e21a6840ef7955b06d47394afef0058f0378c0914e48b8b8\n",
      "Successfully built pyperclip\n",
      "Installing collected packages: pyperclip, pbr, stevedore, PrettyTable, cmd2, autopage, colorlog, cmaes, cliff, optuna\n",
      "Successfully installed PrettyTable-3.2.0 autopage-0.5.0 cliff-3.10.1 cmaes-0.8.2 cmd2-2.4.1 colorlog-6.6.0 optuna-2.10.0 pbr-5.8.1 pyperclip-1.8.2 stevedore-3.5.0\n",
      "Note: you may need to restart the kernel to use updated packages.\n"
     ]
    }
   ],
   "source": [
    "pip install optuna"
   ]
  },
  {
   "cell_type": "markdown",
   "metadata": {},
   "source": [
    "### Общая информация о данных"
   ]
  },
  {
   "cell_type": "code",
   "execution_count": 3,
   "metadata": {},
   "outputs": [],
   "source": [
    "import pandas as pd\n",
    "import numpy as np\n",
    "import seaborn as sns\n",
    "from sklearn.linear_model import LinearRegression\n",
    "from sklearn.model_selection import train_test_split\n",
    "from sklearn.metrics import mean_squared_error\n",
    "from sklearn.ensemble import RandomForestRegressor\n",
    "import xgboost as xgb\n",
    "from lightgbm import LGBMRegressor\n",
    "from catboost import CatBoostRegressor\n",
    "import optuna"
   ]
  },
  {
   "cell_type": "code",
   "execution_count": 4,
   "metadata": {},
   "outputs": [],
   "source": [
    "data_raw = pd.read_csv('/datasets/autos.csv')"
   ]
  },
  {
   "cell_type": "code",
   "execution_count": 5,
   "metadata": {},
   "outputs": [
    {
     "data": {
      "text/html": [
       "<div>\n",
       "<style scoped>\n",
       "    .dataframe tbody tr th:only-of-type {\n",
       "        vertical-align: middle;\n",
       "    }\n",
       "\n",
       "    .dataframe tbody tr th {\n",
       "        vertical-align: top;\n",
       "    }\n",
       "\n",
       "    .dataframe thead th {\n",
       "        text-align: right;\n",
       "    }\n",
       "</style>\n",
       "<table border=\"1\" class=\"dataframe\">\n",
       "  <thead>\n",
       "    <tr style=\"text-align: right;\">\n",
       "      <th></th>\n",
       "      <th>DateCrawled</th>\n",
       "      <th>Price</th>\n",
       "      <th>VehicleType</th>\n",
       "      <th>RegistrationYear</th>\n",
       "      <th>Gearbox</th>\n",
       "      <th>Power</th>\n",
       "      <th>Model</th>\n",
       "      <th>Kilometer</th>\n",
       "      <th>RegistrationMonth</th>\n",
       "      <th>FuelType</th>\n",
       "      <th>Brand</th>\n",
       "      <th>NotRepaired</th>\n",
       "      <th>DateCreated</th>\n",
       "      <th>NumberOfPictures</th>\n",
       "      <th>PostalCode</th>\n",
       "      <th>LastSeen</th>\n",
       "    </tr>\n",
       "  </thead>\n",
       "  <tbody>\n",
       "    <tr>\n",
       "      <th>0</th>\n",
       "      <td>2016-03-24 11:52:17</td>\n",
       "      <td>480</td>\n",
       "      <td>NaN</td>\n",
       "      <td>1993</td>\n",
       "      <td>manual</td>\n",
       "      <td>0</td>\n",
       "      <td>golf</td>\n",
       "      <td>150000</td>\n",
       "      <td>0</td>\n",
       "      <td>petrol</td>\n",
       "      <td>volkswagen</td>\n",
       "      <td>NaN</td>\n",
       "      <td>2016-03-24 00:00:00</td>\n",
       "      <td>0</td>\n",
       "      <td>70435</td>\n",
       "      <td>2016-04-07 03:16:57</td>\n",
       "    </tr>\n",
       "    <tr>\n",
       "      <th>1</th>\n",
       "      <td>2016-03-24 10:58:45</td>\n",
       "      <td>18300</td>\n",
       "      <td>coupe</td>\n",
       "      <td>2011</td>\n",
       "      <td>manual</td>\n",
       "      <td>190</td>\n",
       "      <td>NaN</td>\n",
       "      <td>125000</td>\n",
       "      <td>5</td>\n",
       "      <td>gasoline</td>\n",
       "      <td>audi</td>\n",
       "      <td>yes</td>\n",
       "      <td>2016-03-24 00:00:00</td>\n",
       "      <td>0</td>\n",
       "      <td>66954</td>\n",
       "      <td>2016-04-07 01:46:50</td>\n",
       "    </tr>\n",
       "    <tr>\n",
       "      <th>2</th>\n",
       "      <td>2016-03-14 12:52:21</td>\n",
       "      <td>9800</td>\n",
       "      <td>suv</td>\n",
       "      <td>2004</td>\n",
       "      <td>auto</td>\n",
       "      <td>163</td>\n",
       "      <td>grand</td>\n",
       "      <td>125000</td>\n",
       "      <td>8</td>\n",
       "      <td>gasoline</td>\n",
       "      <td>jeep</td>\n",
       "      <td>NaN</td>\n",
       "      <td>2016-03-14 00:00:00</td>\n",
       "      <td>0</td>\n",
       "      <td>90480</td>\n",
       "      <td>2016-04-05 12:47:46</td>\n",
       "    </tr>\n",
       "    <tr>\n",
       "      <th>3</th>\n",
       "      <td>2016-03-17 16:54:04</td>\n",
       "      <td>1500</td>\n",
       "      <td>small</td>\n",
       "      <td>2001</td>\n",
       "      <td>manual</td>\n",
       "      <td>75</td>\n",
       "      <td>golf</td>\n",
       "      <td>150000</td>\n",
       "      <td>6</td>\n",
       "      <td>petrol</td>\n",
       "      <td>volkswagen</td>\n",
       "      <td>no</td>\n",
       "      <td>2016-03-17 00:00:00</td>\n",
       "      <td>0</td>\n",
       "      <td>91074</td>\n",
       "      <td>2016-03-17 17:40:17</td>\n",
       "    </tr>\n",
       "    <tr>\n",
       "      <th>4</th>\n",
       "      <td>2016-03-31 17:25:20</td>\n",
       "      <td>3600</td>\n",
       "      <td>small</td>\n",
       "      <td>2008</td>\n",
       "      <td>manual</td>\n",
       "      <td>69</td>\n",
       "      <td>fabia</td>\n",
       "      <td>90000</td>\n",
       "      <td>7</td>\n",
       "      <td>gasoline</td>\n",
       "      <td>skoda</td>\n",
       "      <td>no</td>\n",
       "      <td>2016-03-31 00:00:00</td>\n",
       "      <td>0</td>\n",
       "      <td>60437</td>\n",
       "      <td>2016-04-06 10:17:21</td>\n",
       "    </tr>\n",
       "  </tbody>\n",
       "</table>\n",
       "</div>"
      ],
      "text/plain": [
       "           DateCrawled  Price VehicleType  RegistrationYear Gearbox  Power  \\\n",
       "0  2016-03-24 11:52:17    480         NaN              1993  manual      0   \n",
       "1  2016-03-24 10:58:45  18300       coupe              2011  manual    190   \n",
       "2  2016-03-14 12:52:21   9800         suv              2004    auto    163   \n",
       "3  2016-03-17 16:54:04   1500       small              2001  manual     75   \n",
       "4  2016-03-31 17:25:20   3600       small              2008  manual     69   \n",
       "\n",
       "   Model  Kilometer  RegistrationMonth  FuelType       Brand NotRepaired  \\\n",
       "0   golf     150000                  0    petrol  volkswagen         NaN   \n",
       "1    NaN     125000                  5  gasoline        audi         yes   \n",
       "2  grand     125000                  8  gasoline        jeep         NaN   \n",
       "3   golf     150000                  6    petrol  volkswagen          no   \n",
       "4  fabia      90000                  7  gasoline       skoda          no   \n",
       "\n",
       "           DateCreated  NumberOfPictures  PostalCode             LastSeen  \n",
       "0  2016-03-24 00:00:00                 0       70435  2016-04-07 03:16:57  \n",
       "1  2016-03-24 00:00:00                 0       66954  2016-04-07 01:46:50  \n",
       "2  2016-03-14 00:00:00                 0       90480  2016-04-05 12:47:46  \n",
       "3  2016-03-17 00:00:00                 0       91074  2016-03-17 17:40:17  \n",
       "4  2016-03-31 00:00:00                 0       60437  2016-04-06 10:17:21  "
      ]
     },
     "execution_count": 5,
     "metadata": {},
     "output_type": "execute_result"
    }
   ],
   "source": [
    "data_raw.head()"
   ]
  },
  {
   "cell_type": "code",
   "execution_count": 6,
   "metadata": {},
   "outputs": [
    {
     "name": "stdout",
     "output_type": "stream",
     "text": [
      "<class 'pandas.core.frame.DataFrame'>\n",
      "RangeIndex: 354369 entries, 0 to 354368\n",
      "Data columns (total 16 columns):\n",
      " #   Column             Non-Null Count   Dtype \n",
      "---  ------             --------------   ----- \n",
      " 0   DateCrawled        354369 non-null  object\n",
      " 1   Price              354369 non-null  int64 \n",
      " 2   VehicleType        316879 non-null  object\n",
      " 3   RegistrationYear   354369 non-null  int64 \n",
      " 4   Gearbox            334536 non-null  object\n",
      " 5   Power              354369 non-null  int64 \n",
      " 6   Model              334664 non-null  object\n",
      " 7   Kilometer          354369 non-null  int64 \n",
      " 8   RegistrationMonth  354369 non-null  int64 \n",
      " 9   FuelType           321474 non-null  object\n",
      " 10  Brand              354369 non-null  object\n",
      " 11  NotRepaired        283215 non-null  object\n",
      " 12  DateCreated        354369 non-null  object\n",
      " 13  NumberOfPictures   354369 non-null  int64 \n",
      " 14  PostalCode         354369 non-null  int64 \n",
      " 15  LastSeen           354369 non-null  object\n",
      "dtypes: int64(7), object(9)\n",
      "memory usage: 43.3+ MB\n"
     ]
    }
   ],
   "source": [
    "data_raw.info()"
   ]
  },
  {
   "cell_type": "markdown",
   "metadata": {},
   "source": [
    "Согласно описанию к данным:\n",
    "\n",
    "DateCrawled — дата скачивания анкеты из базы <br>\n",
    "VehicleType — тип автомобильного кузова<br>\n",
    "RegistrationYear — год регистрации автомобиля<br>\n",
    "Gearbox — тип коробки передач<br>\n",
    "Power — мощность (л. с.)<br>\n",
    "Model — модель автомобиля<br>\n",
    "Kilometer — пробег (км)<br>\n",
    "RegistrationMonth — месяц регистрации автомобиля<br>\n",
    "FuelType — тип топлива<br>\n",
    "Brand — марка автомобиля<br>\n",
    "NotRepaired — была машина в ремонте или нет<br>\n",
    "DateCreated — дата создания анкеты<br>\n",
    "NumberOfPictures — количество фотографий автомобиля<br>\n",
    "PostalCode — почтовый индекс владельца анкеты (пользователя)<br>\n",
    "LastSeen — дата последней активности пользователя<br>"
   ]
  },
  {
   "cell_type": "code",
   "execution_count": 7,
   "metadata": {},
   "outputs": [
    {
     "data": {
      "text/html": [
       "<div>\n",
       "<style scoped>\n",
       "    .dataframe tbody tr th:only-of-type {\n",
       "        vertical-align: middle;\n",
       "    }\n",
       "\n",
       "    .dataframe tbody tr th {\n",
       "        vertical-align: top;\n",
       "    }\n",
       "\n",
       "    .dataframe thead th {\n",
       "        text-align: right;\n",
       "    }\n",
       "</style>\n",
       "<table border=\"1\" class=\"dataframe\">\n",
       "  <thead>\n",
       "    <tr style=\"text-align: right;\">\n",
       "      <th></th>\n",
       "      <th>Price</th>\n",
       "      <th>RegistrationYear</th>\n",
       "      <th>Power</th>\n",
       "      <th>Kilometer</th>\n",
       "      <th>RegistrationMonth</th>\n",
       "      <th>NumberOfPictures</th>\n",
       "      <th>PostalCode</th>\n",
       "    </tr>\n",
       "  </thead>\n",
       "  <tbody>\n",
       "    <tr>\n",
       "      <th>count</th>\n",
       "      <td>354369.000000</td>\n",
       "      <td>354369.000000</td>\n",
       "      <td>354369.000000</td>\n",
       "      <td>354369.000000</td>\n",
       "      <td>354369.000000</td>\n",
       "      <td>354369.0</td>\n",
       "      <td>354369.000000</td>\n",
       "    </tr>\n",
       "    <tr>\n",
       "      <th>mean</th>\n",
       "      <td>4416.656776</td>\n",
       "      <td>2004.234448</td>\n",
       "      <td>110.094337</td>\n",
       "      <td>128211.172535</td>\n",
       "      <td>5.714645</td>\n",
       "      <td>0.0</td>\n",
       "      <td>50508.689087</td>\n",
       "    </tr>\n",
       "    <tr>\n",
       "      <th>std</th>\n",
       "      <td>4514.158514</td>\n",
       "      <td>90.227958</td>\n",
       "      <td>189.850405</td>\n",
       "      <td>37905.341530</td>\n",
       "      <td>3.726421</td>\n",
       "      <td>0.0</td>\n",
       "      <td>25783.096248</td>\n",
       "    </tr>\n",
       "    <tr>\n",
       "      <th>min</th>\n",
       "      <td>0.000000</td>\n",
       "      <td>1000.000000</td>\n",
       "      <td>0.000000</td>\n",
       "      <td>5000.000000</td>\n",
       "      <td>0.000000</td>\n",
       "      <td>0.0</td>\n",
       "      <td>1067.000000</td>\n",
       "    </tr>\n",
       "    <tr>\n",
       "      <th>25%</th>\n",
       "      <td>1050.000000</td>\n",
       "      <td>1999.000000</td>\n",
       "      <td>69.000000</td>\n",
       "      <td>125000.000000</td>\n",
       "      <td>3.000000</td>\n",
       "      <td>0.0</td>\n",
       "      <td>30165.000000</td>\n",
       "    </tr>\n",
       "    <tr>\n",
       "      <th>50%</th>\n",
       "      <td>2700.000000</td>\n",
       "      <td>2003.000000</td>\n",
       "      <td>105.000000</td>\n",
       "      <td>150000.000000</td>\n",
       "      <td>6.000000</td>\n",
       "      <td>0.0</td>\n",
       "      <td>49413.000000</td>\n",
       "    </tr>\n",
       "    <tr>\n",
       "      <th>75%</th>\n",
       "      <td>6400.000000</td>\n",
       "      <td>2008.000000</td>\n",
       "      <td>143.000000</td>\n",
       "      <td>150000.000000</td>\n",
       "      <td>9.000000</td>\n",
       "      <td>0.0</td>\n",
       "      <td>71083.000000</td>\n",
       "    </tr>\n",
       "    <tr>\n",
       "      <th>max</th>\n",
       "      <td>20000.000000</td>\n",
       "      <td>9999.000000</td>\n",
       "      <td>20000.000000</td>\n",
       "      <td>150000.000000</td>\n",
       "      <td>12.000000</td>\n",
       "      <td>0.0</td>\n",
       "      <td>99998.000000</td>\n",
       "    </tr>\n",
       "  </tbody>\n",
       "</table>\n",
       "</div>"
      ],
      "text/plain": [
       "               Price  RegistrationYear          Power      Kilometer  \\\n",
       "count  354369.000000     354369.000000  354369.000000  354369.000000   \n",
       "mean     4416.656776       2004.234448     110.094337  128211.172535   \n",
       "std      4514.158514         90.227958     189.850405   37905.341530   \n",
       "min         0.000000       1000.000000       0.000000    5000.000000   \n",
       "25%      1050.000000       1999.000000      69.000000  125000.000000   \n",
       "50%      2700.000000       2003.000000     105.000000  150000.000000   \n",
       "75%      6400.000000       2008.000000     143.000000  150000.000000   \n",
       "max     20000.000000       9999.000000   20000.000000  150000.000000   \n",
       "\n",
       "       RegistrationMonth  NumberOfPictures     PostalCode  \n",
       "count      354369.000000          354369.0  354369.000000  \n",
       "mean            5.714645               0.0   50508.689087  \n",
       "std             3.726421               0.0   25783.096248  \n",
       "min             0.000000               0.0    1067.000000  \n",
       "25%             3.000000               0.0   30165.000000  \n",
       "50%             6.000000               0.0   49413.000000  \n",
       "75%             9.000000               0.0   71083.000000  \n",
       "max            12.000000               0.0   99998.000000  "
      ]
     },
     "execution_count": 7,
     "metadata": {},
     "output_type": "execute_result"
    }
   ],
   "source": [
    "data_raw.describe()"
   ]
  },
  {
   "cell_type": "markdown",
   "metadata": {},
   "source": [
    "### Предобработка данных"
   ]
  },
  {
   "cell_type": "markdown",
   "metadata": {},
   "source": [
    "Для более удобной работы приведем наименования столбцов к змеиному регистру."
   ]
  },
  {
   "cell_type": "code",
   "execution_count": 8,
   "metadata": {},
   "outputs": [],
   "source": [
    "columns_old = data_raw.columns\n",
    "columns_new = columns_old.str.lower()"
   ]
  },
  {
   "cell_type": "code",
   "execution_count": 9,
   "metadata": {},
   "outputs": [
    {
     "data": {
      "text/plain": [
       "Index(['datecrawled', 'price', 'vehicletype', 'registrationyear', 'gearbox',\n",
       "       'power', 'model', 'kilometer', 'registrationmonth', 'fueltype', 'brand',\n",
       "       'notrepaired', 'datecreated', 'numberofpictures', 'postalcode',\n",
       "       'lastseen'],\n",
       "      dtype='object')"
      ]
     },
     "execution_count": 9,
     "metadata": {},
     "output_type": "execute_result"
    }
   ],
   "source": [
    "columns_new"
   ]
  },
  {
   "cell_type": "code",
   "execution_count": 10,
   "metadata": {},
   "outputs": [],
   "source": [
    "data_raw.columns = columns_new"
   ]
  },
  {
   "cell_type": "code",
   "execution_count": 11,
   "metadata": {},
   "outputs": [],
   "source": [
    "data_raw = data_raw.rename({'datecrawled': 'date_crawled', 'vechicletype': 'vehicle_type',\n",
    "'registrationyear' : 'registration_year', 'registrationmonth' : 'registration_month', 'fueltype' :\n",
    "'fuel_type', 'notrepaired' : 'not_repaired', 'datecreated' : 'date_created', 'numberofpictures' :\n",
    "'number_of_pictures', 'postalcode' : 'postal_code', 'lastseen' : 'last_seen'}, axis=1)"
   ]
  },
  {
   "cell_type": "code",
   "execution_count": 12,
   "metadata": {},
   "outputs": [
    {
     "name": "stdout",
     "output_type": "stream",
     "text": [
      "<class 'pandas.core.frame.DataFrame'>\n",
      "RangeIndex: 354369 entries, 0 to 354368\n",
      "Data columns (total 16 columns):\n",
      " #   Column              Non-Null Count   Dtype \n",
      "---  ------              --------------   ----- \n",
      " 0   date_crawled        354369 non-null  object\n",
      " 1   price               354369 non-null  int64 \n",
      " 2   vehicletype         316879 non-null  object\n",
      " 3   registration_year   354369 non-null  int64 \n",
      " 4   gearbox             334536 non-null  object\n",
      " 5   power               354369 non-null  int64 \n",
      " 6   model               334664 non-null  object\n",
      " 7   kilometer           354369 non-null  int64 \n",
      " 8   registration_month  354369 non-null  int64 \n",
      " 9   fuel_type           321474 non-null  object\n",
      " 10  brand               354369 non-null  object\n",
      " 11  not_repaired        283215 non-null  object\n",
      " 12  date_created        354369 non-null  object\n",
      " 13  number_of_pictures  354369 non-null  int64 \n",
      " 14  postal_code         354369 non-null  int64 \n",
      " 15  last_seen           354369 non-null  object\n",
      "dtypes: int64(7), object(9)\n",
      "memory usage: 43.3+ MB\n"
     ]
    }
   ],
   "source": [
    "data_raw.info()"
   ]
  },
  {
   "cell_type": "markdown",
   "metadata": {},
   "source": [
    "Проверим датасет на наличие дубликатов"
   ]
  },
  {
   "cell_type": "code",
   "execution_count": 13,
   "metadata": {},
   "outputs": [
    {
     "data": {
      "text/plain": [
       "4"
      ]
     },
     "execution_count": 13,
     "metadata": {},
     "output_type": "execute_result"
    }
   ],
   "source": [
    "data_raw.duplicated().sum()"
   ]
  },
  {
   "cell_type": "markdown",
   "metadata": {},
   "source": [
    "Удалим дубликаты из датасета:"
   ]
  },
  {
   "cell_type": "code",
   "execution_count": 14,
   "metadata": {},
   "outputs": [],
   "source": [
    "data_raw = data_raw.drop_duplicates()"
   ]
  },
  {
   "cell_type": "code",
   "execution_count": 15,
   "metadata": {},
   "outputs": [
    {
     "data": {
      "text/plain": [
       "0"
      ]
     },
     "execution_count": 15,
     "metadata": {},
     "output_type": "execute_result"
    }
   ],
   "source": [
    "data_raw.duplicated().sum()"
   ]
  },
  {
   "cell_type": "markdown",
   "metadata": {},
   "source": [
    "Максимальное значение параметра registration_year (год регистрации автомобиля) равно 9999. Найдем количество строк, при условии, что год регистрации автомобиля больше 2022."
   ]
  },
  {
   "cell_type": "code",
   "execution_count": 16,
   "metadata": {},
   "outputs": [
    {
     "data": {
      "text/plain": [
       "105"
      ]
     },
     "execution_count": 16,
     "metadata": {},
     "output_type": "execute_result"
    }
   ],
   "source": [
    "len(data_raw.loc[data_raw.registration_year > 2022])"
   ]
  },
  {
   "cell_type": "markdown",
   "metadata": {},
   "source": [
    "Поскольку количество таких значений составляет менее 1%, то удалим их."
   ]
  },
  {
   "cell_type": "code",
   "execution_count": 17,
   "metadata": {},
   "outputs": [],
   "source": [
    "data_raw = data_raw.loc[data_raw.registration_year < 2022]"
   ]
  },
  {
   "cell_type": "markdown",
   "metadata": {},
   "source": [
    "Изучим распределение переменной number_of_pictures."
   ]
  },
  {
   "cell_type": "code",
   "execution_count": 18,
   "metadata": {},
   "outputs": [
    {
     "data": {
      "text/plain": [
       "0    354260\n",
       "Name: number_of_pictures, dtype: int64"
      ]
     },
     "execution_count": 18,
     "metadata": {},
     "output_type": "execute_result"
    }
   ],
   "source": [
    "data_raw.number_of_pictures.value_counts()"
   ]
  },
  {
   "cell_type": "markdown",
   "metadata": {},
   "source": [
    "Поскольку переменная принимает только одно значение, что не будет влиять на дальнейшие предсказания, удалим ее."
   ]
  },
  {
   "cell_type": "code",
   "execution_count": 19,
   "metadata": {},
   "outputs": [],
   "source": [
    "data_raw = data_raw.drop(['number_of_pictures'], axis = 1)"
   ]
  },
  {
   "cell_type": "code",
   "execution_count": 20,
   "metadata": {},
   "outputs": [
    {
     "data": {
      "text/html": [
       "<style  type=\"text/css\" >\n",
       "#T_04261_row0_col0,#T_04261_row1_col1,#T_04261_row2_col2,#T_04261_row3_col3,#T_04261_row4_col4,#T_04261_row5_col5{\n",
       "            background-color:  #b40426;\n",
       "            color:  #f1f1f1;\n",
       "        }#T_04261_row0_col1{\n",
       "            background-color:  #8caffe;\n",
       "            color:  #000000;\n",
       "        }#T_04261_row0_col2{\n",
       "            background-color:  #6788ee;\n",
       "            color:  #000000;\n",
       "        }#T_04261_row0_col3,#T_04261_row1_col2,#T_04261_row3_col0,#T_04261_row3_col1,#T_04261_row3_col4,#T_04261_row3_col5,#T_04261_row5_col2{\n",
       "            background-color:  #3b4cc0;\n",
       "            color:  #f1f1f1;\n",
       "        }#T_04261_row0_col4{\n",
       "            background-color:  #5a78e4;\n",
       "            color:  #000000;\n",
       "        }#T_04261_row0_col5{\n",
       "            background-color:  #5470de;\n",
       "            color:  #000000;\n",
       "        }#T_04261_row1_col0{\n",
       "            background-color:  #c1d4f4;\n",
       "            color:  #000000;\n",
       "        }#T_04261_row1_col3{\n",
       "            background-color:  #7da0f9;\n",
       "            color:  #000000;\n",
       "        }#T_04261_row1_col4,#T_04261_row2_col4{\n",
       "            background-color:  #445acc;\n",
       "            color:  #f1f1f1;\n",
       "        }#T_04261_row1_col5,#T_04261_row4_col5{\n",
       "            background-color:  #4055c8;\n",
       "            color:  #f1f1f1;\n",
       "        }#T_04261_row2_col0{\n",
       "            background-color:  #b6cefa;\n",
       "            color:  #000000;\n",
       "        }#T_04261_row2_col1{\n",
       "            background-color:  #506bda;\n",
       "            color:  #000000;\n",
       "        }#T_04261_row2_col3{\n",
       "            background-color:  #93b5fe;\n",
       "            color:  #000000;\n",
       "        }#T_04261_row2_col5{\n",
       "            background-color:  #4358cb;\n",
       "            color:  #f1f1f1;\n",
       "        }#T_04261_row3_col2,#T_04261_row5_col4{\n",
       "            background-color:  #3c4ec2;\n",
       "            color:  #f1f1f1;\n",
       "        }#T_04261_row4_col0{\n",
       "            background-color:  #aac7fd;\n",
       "            color:  #000000;\n",
       "        }#T_04261_row4_col1{\n",
       "            background-color:  #5875e1;\n",
       "            color:  #000000;\n",
       "        }#T_04261_row4_col2{\n",
       "            background-color:  #4257c9;\n",
       "            color:  #f1f1f1;\n",
       "        }#T_04261_row4_col3{\n",
       "            background-color:  #8fb1fe;\n",
       "            color:  #000000;\n",
       "        }#T_04261_row5_col0{\n",
       "            background-color:  #a1c0ff;\n",
       "            color:  #000000;\n",
       "        }#T_04261_row5_col1{\n",
       "            background-color:  #4f69d9;\n",
       "            color:  #000000;\n",
       "        }#T_04261_row5_col3{\n",
       "            background-color:  #8badfd;\n",
       "            color:  #000000;\n",
       "        }</style><table id=\"T_04261_\" ><thead>    <tr>        <th class=\"blank level0\" ></th>        <th class=\"col_heading level0 col0\" >price</th>        <th class=\"col_heading level0 col1\" >registration_year</th>        <th class=\"col_heading level0 col2\" >power</th>        <th class=\"col_heading level0 col3\" >kilometer</th>        <th class=\"col_heading level0 col4\" >registration_month</th>        <th class=\"col_heading level0 col5\" >postal_code</th>    </tr></thead><tbody>\n",
       "                <tr>\n",
       "                        <th id=\"T_04261_level0_row0\" class=\"row_heading level0 row0\" >price</th>\n",
       "                        <td id=\"T_04261_row0_col0\" class=\"data row0 col0\" >1.000000</td>\n",
       "                        <td id=\"T_04261_row0_col1\" class=\"data row0 col1\" >0.206408</td>\n",
       "                        <td id=\"T_04261_row0_col2\" class=\"data row0 col2\" >0.159135</td>\n",
       "                        <td id=\"T_04261_row0_col3\" class=\"data row0 col3\" >-0.334048</td>\n",
       "                        <td id=\"T_04261_row0_col4\" class=\"data row0 col4\" >0.110527</td>\n",
       "                        <td id=\"T_04261_row0_col5\" class=\"data row0 col5\" >0.075998</td>\n",
       "            </tr>\n",
       "            <tr>\n",
       "                        <th id=\"T_04261_level0_row1\" class=\"row_heading level0 row1\" >registration_year</th>\n",
       "                        <td id=\"T_04261_row1_col0\" class=\"data row1 col0\" >0.206408</td>\n",
       "                        <td id=\"T_04261_row1_col1\" class=\"data row1 col1\" >1.000000</td>\n",
       "                        <td id=\"T_04261_row1_col2\" class=\"data row1 col2\" >0.017936</td>\n",
       "                        <td id=\"T_04261_row1_col3\" class=\"data row1 col3\" >-0.057920</td>\n",
       "                        <td id=\"T_04261_row1_col4\" class=\"data row1 col4\" >0.041327</td>\n",
       "                        <td id=\"T_04261_row1_col5\" class=\"data row1 col5\" >0.014851</td>\n",
       "            </tr>\n",
       "            <tr>\n",
       "                        <th id=\"T_04261_level0_row2\" class=\"row_heading level0 row2\" >power</th>\n",
       "                        <td id=\"T_04261_row2_col0\" class=\"data row2 col0\" >0.159135</td>\n",
       "                        <td id=\"T_04261_row2_col1\" class=\"data row2 col1\" >0.017936</td>\n",
       "                        <td id=\"T_04261_row2_col2\" class=\"data row2 col2\" >1.000000</td>\n",
       "                        <td id=\"T_04261_row2_col3\" class=\"data row2 col3\" >0.023979</td>\n",
       "                        <td id=\"T_04261_row2_col4\" class=\"data row2 col4\" >0.043208</td>\n",
       "                        <td id=\"T_04261_row2_col5\" class=\"data row2 col5\" >0.021669</td>\n",
       "            </tr>\n",
       "            <tr>\n",
       "                        <th id=\"T_04261_level0_row3\" class=\"row_heading level0 row3\" >kilometer</th>\n",
       "                        <td id=\"T_04261_row3_col0\" class=\"data row3 col0\" >-0.334048</td>\n",
       "                        <td id=\"T_04261_row3_col1\" class=\"data row3 col1\" >-0.057920</td>\n",
       "                        <td id=\"T_04261_row3_col2\" class=\"data row3 col2\" >0.023979</td>\n",
       "                        <td id=\"T_04261_row3_col3\" class=\"data row3 col3\" >1.000000</td>\n",
       "                        <td id=\"T_04261_row3_col4\" class=\"data row3 col4\" >0.008505</td>\n",
       "                        <td id=\"T_04261_row3_col5\" class=\"data row3 col5\" >-0.007962</td>\n",
       "            </tr>\n",
       "            <tr>\n",
       "                        <th id=\"T_04261_level0_row4\" class=\"row_heading level0 row4\" >registration_month</th>\n",
       "                        <td id=\"T_04261_row4_col0\" class=\"data row4 col0\" >0.110527</td>\n",
       "                        <td id=\"T_04261_row4_col1\" class=\"data row4 col1\" >0.041327</td>\n",
       "                        <td id=\"T_04261_row4_col2\" class=\"data row4 col2\" >0.043208</td>\n",
       "                        <td id=\"T_04261_row4_col3\" class=\"data row4 col3\" >0.008505</td>\n",
       "                        <td id=\"T_04261_row4_col4\" class=\"data row4 col4\" >1.000000</td>\n",
       "                        <td id=\"T_04261_row4_col5\" class=\"data row4 col5\" >0.013883</td>\n",
       "            </tr>\n",
       "            <tr>\n",
       "                        <th id=\"T_04261_level0_row5\" class=\"row_heading level0 row5\" >postal_code</th>\n",
       "                        <td id=\"T_04261_row5_col0\" class=\"data row5 col0\" >0.075998</td>\n",
       "                        <td id=\"T_04261_row5_col1\" class=\"data row5 col1\" >0.014851</td>\n",
       "                        <td id=\"T_04261_row5_col2\" class=\"data row5 col2\" >0.021669</td>\n",
       "                        <td id=\"T_04261_row5_col3\" class=\"data row5 col3\" >-0.007962</td>\n",
       "                        <td id=\"T_04261_row5_col4\" class=\"data row5 col4\" >0.013883</td>\n",
       "                        <td id=\"T_04261_row5_col5\" class=\"data row5 col5\" >1.000000</td>\n",
       "            </tr>\n",
       "    </tbody></table>"
      ],
      "text/plain": [
       "<pandas.io.formats.style.Styler at 0x7f65abea4ee0>"
      ]
     },
     "execution_count": 20,
     "metadata": {},
     "output_type": "execute_result"
    }
   ],
   "source": [
    "corr = data_raw.corr()\n",
    "corr.style.background_gradient(cmap='coolwarm')"
   ]
  },
  {
   "cell_type": "markdown",
   "metadata": {},
   "source": [
    "По полученной матрице корреляций можно сделать вывод о том, что связь между параметрами слабая."
   ]
  },
  {
   "cell_type": "code",
   "execution_count": 21,
   "metadata": {},
   "outputs": [
    {
     "name": "stdout",
     "output_type": "stream",
     "text": [
      "<class 'pandas.core.frame.DataFrame'>\n",
      "Int64Index: 354260 entries, 0 to 354368\n",
      "Data columns (total 15 columns):\n",
      " #   Column              Non-Null Count   Dtype \n",
      "---  ------              --------------   ----- \n",
      " 0   date_crawled        354260 non-null  object\n",
      " 1   price               354260 non-null  int64 \n",
      " 2   vehicletype         316875 non-null  object\n",
      " 3   registration_year   354260 non-null  int64 \n",
      " 4   gearbox             334508 non-null  object\n",
      " 5   power               354260 non-null  int64 \n",
      " 6   model               334597 non-null  object\n",
      " 7   kilometer           354260 non-null  int64 \n",
      " 8   registration_month  354260 non-null  int64 \n",
      " 9   fuel_type           321441 non-null  object\n",
      " 10  brand               354260 non-null  object\n",
      " 11  not_repaired        283197 non-null  object\n",
      " 12  date_created        354260 non-null  object\n",
      " 13  postal_code         354260 non-null  int64 \n",
      " 14  last_seen           354260 non-null  object\n",
      "dtypes: int64(6), object(9)\n",
      "memory usage: 43.2+ MB\n"
     ]
    }
   ],
   "source": [
    "data_raw.info()"
   ]
  },
  {
   "cell_type": "markdown",
   "metadata": {},
   "source": [
    "Преобразуем типы данных для переменных date_crawled, date_created, last_seen в формат даты. Из полученного формата данных получим признаки: год, месяц, день недели."
   ]
  },
  {
   "cell_type": "code",
   "execution_count": 22,
   "metadata": {},
   "outputs": [],
   "source": [
    "data_raw['date_crawled'] = pd.to_datetime(\n",
    "    data_raw['date_crawled'], format='%Y-%m-%dT%H:%M:%S')\n",
    "data_raw['year_crawled'] = pd.DatetimeIndex(data_raw['date_crawled']).year\n",
    "data_raw['month_crawled'] = pd.DatetimeIndex(data_raw['date_crawled']).month\n",
    "data_raw['weekday_crawled'] = pd.DatetimeIndex(data_raw['date_crawled']).weekday"
   ]
  },
  {
   "cell_type": "code",
   "execution_count": 23,
   "metadata": {},
   "outputs": [],
   "source": [
    "data_raw['date_created'] = pd.to_datetime(\n",
    "    data_raw['date_created'], format='%Y-%m-%dT%H:%M:%S')\n",
    "data_raw['year_created'] = pd.DatetimeIndex(data_raw['date_created']).year\n",
    "data_raw['month_created'] = pd.DatetimeIndex(data_raw['date_created']).month\n",
    "data_raw['weekday_created'] = pd.DatetimeIndex(data_raw['date_created']).weekday"
   ]
  },
  {
   "cell_type": "code",
   "execution_count": 24,
   "metadata": {},
   "outputs": [],
   "source": [
    "data_raw['last_seen'] = pd.to_datetime(\n",
    "    data_raw['last_seen'], format='%Y-%m-%dT%H:%M:%S')\n",
    "data_raw['year_last_seen'] = pd.DatetimeIndex(data_raw['last_seen']).year\n",
    "data_raw['month_last_seen'] = pd.DatetimeIndex(data_raw['last_seen']).month\n",
    "data_raw['weekday_last_seen'] = pd.DatetimeIndex(data_raw['last_seen']).weekday"
   ]
  },
  {
   "cell_type": "markdown",
   "metadata": {},
   "source": [
    "Выполним категоризацию переменных: vehicletype, gearbox, fuel_type, not_repaired."
   ]
  },
  {
   "cell_type": "code",
   "execution_count": 25,
   "metadata": {},
   "outputs": [
    {
     "name": "stdout",
     "output_type": "stream",
     "text": [
      "<class 'pandas.core.frame.DataFrame'>\n",
      "Int64Index: 354260 entries, 0 to 354368\n",
      "Data columns (total 39 columns):\n",
      " #   Column                   Non-Null Count   Dtype         \n",
      "---  ------                   --------------   -----         \n",
      " 0   date_crawled             354260 non-null  datetime64[ns]\n",
      " 1   price                    354260 non-null  int64         \n",
      " 2   registration_year        354260 non-null  int64         \n",
      " 3   power                    354260 non-null  int64         \n",
      " 4   model                    334597 non-null  object        \n",
      " 5   kilometer                354260 non-null  int64         \n",
      " 6   registration_month       354260 non-null  int64         \n",
      " 7   brand                    354260 non-null  object        \n",
      " 8   date_created             354260 non-null  datetime64[ns]\n",
      " 9   postal_code              354260 non-null  int64         \n",
      " 10  last_seen                354260 non-null  datetime64[ns]\n",
      " 11  year_crawled             354260 non-null  int64         \n",
      " 12  month_crawled            354260 non-null  int64         \n",
      " 13  weekday_crawled          354260 non-null  int64         \n",
      " 14  year_created             354260 non-null  int64         \n",
      " 15  month_created            354260 non-null  int64         \n",
      " 16  weekday_created          354260 non-null  int64         \n",
      " 17  year_last_seen           354260 non-null  int64         \n",
      " 18  month_last_seen          354260 non-null  int64         \n",
      " 19  weekday_last_seen        354260 non-null  int64         \n",
      " 20  vehicletype_bus          354260 non-null  uint8         \n",
      " 21  vehicletype_convertible  354260 non-null  uint8         \n",
      " 22  vehicletype_coupe        354260 non-null  uint8         \n",
      " 23  vehicletype_other        354260 non-null  uint8         \n",
      " 24  vehicletype_sedan        354260 non-null  uint8         \n",
      " 25  vehicletype_small        354260 non-null  uint8         \n",
      " 26  vehicletype_suv          354260 non-null  uint8         \n",
      " 27  vehicletype_wagon        354260 non-null  uint8         \n",
      " 28  gearbox_auto             354260 non-null  uint8         \n",
      " 29  gearbox_manual           354260 non-null  uint8         \n",
      " 30  fuel_type_cng            354260 non-null  uint8         \n",
      " 31  fuel_type_electric       354260 non-null  uint8         \n",
      " 32  fuel_type_gasoline       354260 non-null  uint8         \n",
      " 33  fuel_type_hybrid         354260 non-null  uint8         \n",
      " 34  fuel_type_lpg            354260 non-null  uint8         \n",
      " 35  fuel_type_other          354260 non-null  uint8         \n",
      " 36  fuel_type_petrol         354260 non-null  uint8         \n",
      " 37  not_repaired_no          354260 non-null  uint8         \n",
      " 38  not_repaired_yes         354260 non-null  uint8         \n",
      "dtypes: datetime64[ns](3), int64(15), object(2), uint8(19)\n",
      "memory usage: 63.2+ MB\n"
     ]
    }
   ],
   "source": [
    "data = data_raw\n",
    "data = pd.get_dummies(data, columns=['vehicletype', 'gearbox', 'fuel_type', 'not_repaired'])\n",
    "data.info()"
   ]
  },
  {
   "cell_type": "code",
   "execution_count": 26,
   "metadata": {},
   "outputs": [
    {
     "data": {
      "text/plain": [
       "0    NaN\n",
       "1    yes\n",
       "2    NaN\n",
       "3     no\n",
       "4     no\n",
       "Name: not_repaired, dtype: object"
      ]
     },
     "execution_count": 26,
     "metadata": {},
     "output_type": "execute_result"
    }
   ],
   "source": [
    "data_raw['not_repaired'].head()"
   ]
  },
  {
   "cell_type": "code",
   "execution_count": 27,
   "metadata": {},
   "outputs": [
    {
     "data": {
      "text/html": [
       "<div>\n",
       "<style scoped>\n",
       "    .dataframe tbody tr th:only-of-type {\n",
       "        vertical-align: middle;\n",
       "    }\n",
       "\n",
       "    .dataframe tbody tr th {\n",
       "        vertical-align: top;\n",
       "    }\n",
       "\n",
       "    .dataframe thead th {\n",
       "        text-align: right;\n",
       "    }\n",
       "</style>\n",
       "<table border=\"1\" class=\"dataframe\">\n",
       "  <thead>\n",
       "    <tr style=\"text-align: right;\">\n",
       "      <th></th>\n",
       "      <th>not_repaired_no</th>\n",
       "      <th>not_repaired_yes</th>\n",
       "    </tr>\n",
       "  </thead>\n",
       "  <tbody>\n",
       "    <tr>\n",
       "      <th>0</th>\n",
       "      <td>0</td>\n",
       "      <td>0</td>\n",
       "    </tr>\n",
       "    <tr>\n",
       "      <th>1</th>\n",
       "      <td>0</td>\n",
       "      <td>1</td>\n",
       "    </tr>\n",
       "    <tr>\n",
       "      <th>2</th>\n",
       "      <td>0</td>\n",
       "      <td>0</td>\n",
       "    </tr>\n",
       "    <tr>\n",
       "      <th>3</th>\n",
       "      <td>1</td>\n",
       "      <td>0</td>\n",
       "    </tr>\n",
       "    <tr>\n",
       "      <th>4</th>\n",
       "      <td>1</td>\n",
       "      <td>0</td>\n",
       "    </tr>\n",
       "  </tbody>\n",
       "</table>\n",
       "</div>"
      ],
      "text/plain": [
       "   not_repaired_no  not_repaired_yes\n",
       "0                0                 0\n",
       "1                0                 1\n",
       "2                0                 0\n",
       "3                1                 0\n",
       "4                1                 0"
      ]
     },
     "execution_count": 27,
     "metadata": {},
     "output_type": "execute_result"
    }
   ],
   "source": [
    "data[['not_repaired_no', 'not_repaired_yes']].head()"
   ]
  },
  {
   "cell_type": "markdown",
   "metadata": {},
   "source": [
    "На данном этапе работы были удалены дубликаты, выбросы, выполнена категоризация переменных и преобразвание типов данных."
   ]
  },
  {
   "cell_type": "markdown",
   "metadata": {},
   "source": [
    "## Обучение моделей"
   ]
  },
  {
   "cell_type": "markdown",
   "metadata": {},
   "source": [
    "### Linear Regression"
   ]
  },
  {
   "cell_type": "markdown",
   "metadata": {},
   "source": [
    "Обучим модель линейной регрессии. Для этого необходимо подготовим выборку для обучения и тестирования модели. \n",
    "\n",
    "Для построения точной модели необходимо перемешаем строки в датасете:"
   ]
  },
  {
   "cell_type": "code",
   "execution_count": 28,
   "metadata": {},
   "outputs": [],
   "source": [
    "data = data.sample(frac=1).reset_index(drop=True)"
   ]
  },
  {
   "cell_type": "code",
   "execution_count": 29,
   "metadata": {},
   "outputs": [],
   "source": [
    "features = data.drop(['model', 'brand', 'price', 'date_crawled', 'date_created', 'last_seen'],\n",
    "                        axis = 1)\n",
    "target = data['price']"
   ]
  },
  {
   "cell_type": "code",
   "execution_count": 30,
   "metadata": {},
   "outputs": [
    {
     "data": {
      "text/plain": [
       "40"
      ]
     },
     "execution_count": 30,
     "metadata": {},
     "output_type": "execute_result"
    }
   ],
   "source": [
    "data_raw['brand'].nunique()"
   ]
  },
  {
   "cell_type": "code",
   "execution_count": 31,
   "metadata": {},
   "outputs": [
    {
     "data": {
      "text/plain": [
       "250"
      ]
     },
     "execution_count": 31,
     "metadata": {},
     "output_type": "execute_result"
    }
   ],
   "source": [
    "data_raw['model'].nunique()"
   ]
  },
  {
   "cell_type": "markdown",
   "metadata": {},
   "source": [
    "Разделим датасет на тренировочную, валидационную и тестовую выборки."
   ]
  },
  {
   "cell_type": "code",
   "execution_count": 32,
   "metadata": {},
   "outputs": [],
   "source": [
    "features_train, features_valid, features_test = np.split(features, [int(.6*len(features)),\n",
    "                                                                 int(.8*len(features))])\n",
    "target_train, target_valid, target_test = np.split(target, [int(.6*len(target)),\n",
    "                                                                 int(.8*len(target))])"
   ]
  },
  {
   "cell_type": "markdown",
   "metadata": {},
   "source": [
    "Обучим модель линейной регрессии и с ее помощью предскажем значения для целевой переменной."
   ]
  },
  {
   "cell_type": "code",
   "execution_count": 33,
   "metadata": {},
   "outputs": [
    {
     "name": "stdout",
     "output_type": "stream",
     "text": [
      "CPU times: user 484 ms, sys: 309 ms, total: 793 ms\n",
      "Wall time: 764 ms\n"
     ]
    }
   ],
   "source": [
    "%%time\n",
    "linear_regression = LinearRegression().fit(features_train, target_train)"
   ]
  },
  {
   "cell_type": "code",
   "execution_count": 34,
   "metadata": {},
   "outputs": [
    {
     "name": "stdout",
     "output_type": "stream",
     "text": [
      "CPU times: user 33.7 ms, sys: 71.2 ms, total: 105 ms\n",
      "Wall time: 105 ms\n"
     ]
    }
   ],
   "source": [
    "%%time\n",
    "result_lr = linear_regression.predict(features_test)"
   ]
  },
  {
   "cell_type": "markdown",
   "metadata": {},
   "source": [
    "Оценим качество полученной модели с помощью метрики RMSE."
   ]
  },
  {
   "cell_type": "code",
   "execution_count": 35,
   "metadata": {},
   "outputs": [
    {
     "name": "stdout",
     "output_type": "stream",
     "text": [
      "RMSE для модели линейной регрессии: 3416.2822779862677\n"
     ]
    }
   ],
   "source": [
    "rmse_lr = mean_squared_error(target_test, result_lr)**0.5\n",
    "print('RMSE для модели линейной регрессии:', rmse_lr)"
   ]
  },
  {
   "cell_type": "markdown",
   "metadata": {},
   "source": [
    "### Random Forest"
   ]
  },
  {
   "cell_type": "markdown",
   "metadata": {},
   "source": [
    "Используем модель Random Forest для получения значений цены."
   ]
  },
  {
   "cell_type": "code",
   "execution_count": 36,
   "metadata": {},
   "outputs": [],
   "source": [
    "model_forest = RandomForestRegressor(max_depth = 7, n_estimators = 90)"
   ]
  },
  {
   "cell_type": "code",
   "execution_count": 37,
   "metadata": {},
   "outputs": [
    {
     "name": "stdout",
     "output_type": "stream",
     "text": [
      "CPU times: user 49.5 s, sys: 27 ms, total: 49.5 s\n",
      "Wall time: 49.8 s\n"
     ]
    },
    {
     "data": {
      "text/plain": [
       "RandomForestRegressor(max_depth=7, n_estimators=90)"
      ]
     },
     "execution_count": 37,
     "metadata": {},
     "output_type": "execute_result"
    }
   ],
   "source": [
    "%%time\n",
    "model_forest.fit(features_train, target_train)"
   ]
  },
  {
   "cell_type": "code",
   "execution_count": 38,
   "metadata": {},
   "outputs": [
    {
     "name": "stdout",
     "output_type": "stream",
     "text": [
      "2264.4646457595277\n"
     ]
    }
   ],
   "source": [
    "result_forest_valid = model_forest.predict(features_valid)\n",
    "rmse_forest_valid = mean_squared_error(target_valid, result_forest_valid)**0.5\n",
    "print(rmse_forest_valid)"
   ]
  },
  {
   "cell_type": "code",
   "execution_count": 39,
   "metadata": {},
   "outputs": [
    {
     "name": "stdout",
     "output_type": "stream",
     "text": [
      "CPU times: user 358 ms, sys: 4.16 ms, total: 362 ms\n",
      "Wall time: 371 ms\n"
     ]
    }
   ],
   "source": [
    "%%time\n",
    "result_forest = model_forest.predict(features_test)"
   ]
  },
  {
   "cell_type": "code",
   "execution_count": 40,
   "metadata": {},
   "outputs": [
    {
     "name": "stdout",
     "output_type": "stream",
     "text": [
      "RMSE для модели случайного леса: 2272.864416990728\n"
     ]
    }
   ],
   "source": [
    "rmse_rf = mean_squared_error(target_test, result_forest)**0.5\n",
    "print('RMSE для модели случайного леса:', rmse_rf)"
   ]
  },
  {
   "cell_type": "markdown",
   "metadata": {},
   "source": [
    "### XGBoost"
   ]
  },
  {
   "cell_type": "markdown",
   "metadata": {},
   "source": [
    "Построим модель с помощью алгоритма XGBoost. "
   ]
  },
  {
   "cell_type": "code",
   "execution_count": 41,
   "metadata": {},
   "outputs": [
    {
     "name": "stderr",
     "output_type": "stream",
     "text": [
      "\u001b[32m[I 2022-04-26 13:37:30,767]\u001b[0m A new study created in memory with name: no-name-f8ff5b45-65a6-4f48-be13-24e6cca21acc\u001b[0m\n",
      "\u001b[32m[I 2022-04-26 13:40:52,032]\u001b[0m Trial 0 finished with value: 1937.4742725199746 and parameters: {'max_depth': 6, 'n_estimators': 110}. Best is trial 0 with value: 1937.4742725199746.\u001b[0m\n"
     ]
    },
    {
     "name": "stdout",
     "output_type": "stream",
     "text": [
      "CPU times: user 3min 19s, sys: 1.09 s, total: 3min 20s\n",
      "Wall time: 3min 21s\n"
     ]
    }
   ],
   "source": [
    "%%time\n",
    "def objective(trial):\n",
    "    params = {\n",
    "        \"max_depth\": trial.suggest_int(\"max_depth\", 5, 10, step = 1),\n",
    "        \"n_estimators\": trial.suggest_int(\"n_estimators\", 80, 120, step = 5),\n",
    "    }\n",
    "    reg = xgb.XGBRegressor(**params)\n",
    "    reg.fit(features_train, target_train)\n",
    "    y_pred = reg.predict(features_valid)\n",
    "    rmse = mean_squared_error(target_valid, y_pred)**0.5\n",
    "    return rmse\n",
    "\n",
    "study = optuna.create_study()\n",
    "study.optimize(objective, n_trials = 100, timeout = 6)"
   ]
  },
  {
   "cell_type": "code",
   "execution_count": 42,
   "metadata": {},
   "outputs": [
    {
     "data": {
      "text/plain": [
       "{'max_depth': 6, 'n_estimators': 110}"
      ]
     },
     "execution_count": 42,
     "metadata": {},
     "output_type": "execute_result"
    }
   ],
   "source": [
    "study.best_params"
   ]
  },
  {
   "cell_type": "code",
   "execution_count": 43,
   "metadata": {},
   "outputs": [],
   "source": [
    "model_xgb = xgb.XGBRegressor(max_depth = 6, n_estimators = 110, eval_metric = 'rmse')"
   ]
  },
  {
   "cell_type": "code",
   "execution_count": 44,
   "metadata": {},
   "outputs": [
    {
     "name": "stdout",
     "output_type": "stream",
     "text": [
      "CPU times: user 3min 16s, sys: 861 ms, total: 3min 17s\n",
      "Wall time: 3min 18s\n"
     ]
    },
    {
     "data": {
      "text/plain": [
       "XGBRegressor(base_score=0.5, booster='gbtree', colsample_bylevel=1,\n",
       "             colsample_bynode=1, colsample_bytree=1, enable_categorical=False,\n",
       "             eval_metric='rmse', gamma=0, gpu_id=-1, importance_type=None,\n",
       "             interaction_constraints='', learning_rate=0.300000012,\n",
       "             max_delta_step=0, max_depth=6, min_child_weight=1, missing=nan,\n",
       "             monotone_constraints='()', n_estimators=110, n_jobs=8,\n",
       "             num_parallel_tree=1, predictor='auto', random_state=0, reg_alpha=0,\n",
       "             reg_lambda=1, scale_pos_weight=1, subsample=1, tree_method='exact',\n",
       "             validate_parameters=1, verbosity=None)"
      ]
     },
     "execution_count": 44,
     "metadata": {},
     "output_type": "execute_result"
    }
   ],
   "source": [
    "%%time\n",
    "model_xgb.fit(features_train, target_train)"
   ]
  },
  {
   "cell_type": "code",
   "execution_count": 45,
   "metadata": {},
   "outputs": [],
   "source": [
    "result_xgb_valid = model_xgb.predict(features_valid)"
   ]
  },
  {
   "cell_type": "code",
   "execution_count": 46,
   "metadata": {},
   "outputs": [
    {
     "data": {
      "text/plain": [
       "1937.4742725199746"
      ]
     },
     "execution_count": 46,
     "metadata": {},
     "output_type": "execute_result"
    }
   ],
   "source": [
    "rmse_xgb_valid = mean_squared_error(target_valid, result_xgb_valid)**0.5\n",
    "rmse_xgb_valid"
   ]
  },
  {
   "cell_type": "code",
   "execution_count": 47,
   "metadata": {},
   "outputs": [
    {
     "name": "stdout",
     "output_type": "stream",
     "text": [
      "CPU times: user 350 ms, sys: 0 ns, total: 350 ms\n",
      "Wall time: 378 ms\n"
     ]
    }
   ],
   "source": [
    "%%time\n",
    "result_xgb = model_xgb.predict(features_test)"
   ]
  },
  {
   "cell_type": "code",
   "execution_count": 48,
   "metadata": {},
   "outputs": [
    {
     "name": "stdout",
     "output_type": "stream",
     "text": [
      "RMSE для XGBoost: 1944.1572107361999\n"
     ]
    }
   ],
   "source": [
    "rmse_xgb = mean_squared_error(target_test, result_xgb)**0.5\n",
    "print('RMSE для XGBoost:', rmse_xgb)"
   ]
  },
  {
   "cell_type": "markdown",
   "metadata": {},
   "source": [
    "### LightGBM"
   ]
  },
  {
   "cell_type": "code",
   "execution_count": 49,
   "metadata": {},
   "outputs": [
    {
     "name": "stderr",
     "output_type": "stream",
     "text": [
      "\u001b[32m[I 2022-04-26 13:45:52,564]\u001b[0m A new study created in memory with name: no-name-2ba4bf07-7725-40fb-9624-1718a822c53d\u001b[0m\n",
      "\u001b[32m[I 2022-04-26 13:51:12,989]\u001b[0m Trial 0 finished with value: 2009.633714739668 and parameters: {'max_depth': 8, 'n_estimators': 95}. Best is trial 0 with value: 2009.633714739668.\u001b[0m\n"
     ]
    },
    {
     "name": "stdout",
     "output_type": "stream",
     "text": [
      "CPU times: user 5min 17s, sys: 1.45 s, total: 5min 18s\n",
      "Wall time: 5min 20s\n"
     ]
    }
   ],
   "source": [
    "%%time\n",
    "def lgbm(trial):\n",
    "    params = {\n",
    "        \"max_depth\": trial.suggest_int(\"max_depth\", 5, 10, step = 1),\n",
    "        \"n_estimators\": trial.suggest_int(\"n_estimators\", 80, 120, step = 5),\n",
    "    }\n",
    "    reg = LGBMRegressor(**params)\n",
    "    reg.fit(features_train, target_train)\n",
    "    y_pred = reg.predict(features_valid)\n",
    "    rmse = mean_squared_error(target_valid, y_pred)**0.5\n",
    "    return rmse\n",
    "\n",
    "study = optuna.create_study()\n",
    "study.optimize(lgbm, n_trials = 100, timeout = 6)"
   ]
  },
  {
   "cell_type": "code",
   "execution_count": 50,
   "metadata": {},
   "outputs": [
    {
     "data": {
      "text/plain": [
       "{'max_depth': 8, 'n_estimators': 95}"
      ]
     },
     "execution_count": 50,
     "metadata": {},
     "output_type": "execute_result"
    }
   ],
   "source": [
    "study.best_params"
   ]
  },
  {
   "cell_type": "code",
   "execution_count": 52,
   "metadata": {},
   "outputs": [],
   "source": [
    "model_gbm = LGBMRegressor(max_depth = 8, n_estimators = 95)"
   ]
  },
  {
   "cell_type": "code",
   "execution_count": 53,
   "metadata": {},
   "outputs": [
    {
     "name": "stdout",
     "output_type": "stream",
     "text": [
      "CPU times: user 4min 22s, sys: 1.22 s, total: 4min 23s\n",
      "Wall time: 4min 25s\n"
     ]
    },
    {
     "data": {
      "text/plain": [
       "LGBMRegressor(max_depth=8, n_estimators=95)"
      ]
     },
     "execution_count": 53,
     "metadata": {},
     "output_type": "execute_result"
    }
   ],
   "source": [
    "%%time\n",
    "model_gbm.fit(features_train, target_train)"
   ]
  },
  {
   "cell_type": "code",
   "execution_count": 54,
   "metadata": {},
   "outputs": [
    {
     "data": {
      "text/plain": [
       "2009.633714739668"
      ]
     },
     "execution_count": 54,
     "metadata": {},
     "output_type": "execute_result"
    }
   ],
   "source": [
    "result_gbm_valid = model_gbm.predict(features_valid)\n",
    "rmse_gbm_valid = mean_squared_error(target_valid, result_gbm_valid)**0.5\n",
    "rmse_gbm_valid"
   ]
  },
  {
   "cell_type": "code",
   "execution_count": 55,
   "metadata": {},
   "outputs": [
    {
     "name": "stdout",
     "output_type": "stream",
     "text": [
      "CPU times: user 588 ms, sys: 4.03 ms, total: 592 ms\n",
      "Wall time: 610 ms\n"
     ]
    }
   ],
   "source": [
    "%%time\n",
    "result_gbm = model_gbm.predict(features_test)"
   ]
  },
  {
   "cell_type": "code",
   "execution_count": 56,
   "metadata": {},
   "outputs": [
    {
     "name": "stdout",
     "output_type": "stream",
     "text": [
      "RMSE для LightGBM: 2014.434630350793\n"
     ]
    }
   ],
   "source": [
    "rmse_gbm = mean_squared_error(target_test, result_gbm)**0.5\n",
    "print('RMSE для LightGBM:', rmse_gbm)"
   ]
  },
  {
   "cell_type": "markdown",
   "metadata": {},
   "source": [
    "### CatBoost"
   ]
  },
  {
   "cell_type": "code",
   "execution_count": 57,
   "metadata": {},
   "outputs": [
    {
     "name": "stderr",
     "output_type": "stream",
     "text": [
      "\u001b[32m[I 2022-04-26 13:56:24,609]\u001b[0m A new study created in memory with name: no-name-50c0ed59-56f6-4c4e-9a4c-3f107010cd4f\u001b[0m\n"
     ]
    },
    {
     "name": "stdout",
     "output_type": "stream",
     "text": [
      "Learning rate set to 0.155241\n",
      "0:\tlearn: 4052.8277931\ttotal: 114ms\tremaining: 1m 2s\n",
      "1:\tlearn: 3688.2816305\ttotal: 172ms\tremaining: 47.1s\n",
      "2:\tlearn: 3379.5516512\ttotal: 228ms\tremaining: 41.6s\n",
      "3:\tlearn: 3143.0548009\ttotal: 290ms\tremaining: 39.5s\n",
      "4:\tlearn: 2951.9618816\ttotal: 344ms\tremaining: 37.5s\n",
      "5:\tlearn: 2796.0838642\ttotal: 405ms\tremaining: 36.7s\n",
      "6:\tlearn: 2665.8121649\ttotal: 459ms\tremaining: 35.6s\n",
      "7:\tlearn: 2567.0733710\ttotal: 515ms\tremaining: 34.9s\n",
      "8:\tlearn: 2487.6891312\ttotal: 571ms\tremaining: 34.3s\n",
      "9:\tlearn: 2425.6496622\ttotal: 624ms\tremaining: 33.7s\n",
      "10:\tlearn: 2370.1064944\ttotal: 679ms\tremaining: 33.2s\n",
      "11:\tlearn: 2328.2421514\ttotal: 734ms\tremaining: 32.9s\n",
      "12:\tlearn: 2290.2928448\ttotal: 790ms\tremaining: 32.6s\n",
      "13:\tlearn: 2259.7605089\ttotal: 850ms\tremaining: 32.6s\n",
      "14:\tlearn: 2233.8733566\ttotal: 908ms\tremaining: 32.4s\n",
      "15:\tlearn: 2210.3092576\ttotal: 964ms\tremaining: 32.2s\n",
      "16:\tlearn: 2192.3881356\ttotal: 1s\tremaining: 31.4s\n",
      "17:\tlearn: 2175.9495137\ttotal: 1.04s\tremaining: 30.8s\n",
      "18:\tlearn: 2163.8082605\ttotal: 1.08s\tremaining: 30.1s\n",
      "19:\tlearn: 2152.4865728\ttotal: 1.11s\tremaining: 29.6s\n",
      "20:\tlearn: 2141.9641942\ttotal: 1.15s\tremaining: 29s\n",
      "21:\tlearn: 2131.6913950\ttotal: 1.19s\tremaining: 28.5s\n",
      "22:\tlearn: 2123.8128271\ttotal: 1.23s\tremaining: 28.1s\n",
      "23:\tlearn: 2115.4066823\ttotal: 1.26s\tremaining: 27.7s\n",
      "24:\tlearn: 2108.8933445\ttotal: 1.3s\tremaining: 27.3s\n",
      "25:\tlearn: 2103.2333237\ttotal: 1.34s\tremaining: 27s\n",
      "26:\tlearn: 2097.9325988\ttotal: 1.37s\tremaining: 26.6s\n",
      "27:\tlearn: 2093.1809614\ttotal: 1.41s\tremaining: 26.3s\n",
      "28:\tlearn: 2088.1423627\ttotal: 1.45s\tremaining: 26.1s\n",
      "29:\tlearn: 2084.2540838\ttotal: 1.49s\tremaining: 25.8s\n",
      "30:\tlearn: 2078.8220439\ttotal: 1.52s\tremaining: 25.5s\n",
      "31:\tlearn: 2075.8118409\ttotal: 1.56s\tremaining: 25.2s\n",
      "32:\tlearn: 2071.7866998\ttotal: 1.59s\tremaining: 25s\n",
      "33:\tlearn: 2067.1191872\ttotal: 1.63s\tremaining: 24.8s\n",
      "34:\tlearn: 2062.5581332\ttotal: 1.67s\tremaining: 24.6s\n",
      "35:\tlearn: 2059.2987575\ttotal: 1.7s\tremaining: 24.3s\n",
      "36:\tlearn: 2055.6747483\ttotal: 1.74s\tremaining: 24.2s\n",
      "37:\tlearn: 2051.2864566\ttotal: 1.78s\tremaining: 24s\n",
      "38:\tlearn: 2049.2567461\ttotal: 1.81s\tremaining: 23.7s\n",
      "39:\tlearn: 2046.1142399\ttotal: 1.85s\tremaining: 23.6s\n",
      "40:\tlearn: 2043.2185832\ttotal: 1.88s\tremaining: 23.4s\n",
      "41:\tlearn: 2040.6956744\ttotal: 1.92s\tremaining: 23.2s\n",
      "42:\tlearn: 2038.5621565\ttotal: 1.96s\tremaining: 23.1s\n",
      "43:\tlearn: 2035.7858299\ttotal: 1.99s\tremaining: 22.9s\n",
      "44:\tlearn: 2033.2499131\ttotal: 2.03s\tremaining: 22.8s\n",
      "45:\tlearn: 2031.5759668\ttotal: 2.06s\tremaining: 22.6s\n",
      "46:\tlearn: 2030.3121083\ttotal: 2.1s\tremaining: 22.4s\n",
      "47:\tlearn: 2028.0466483\ttotal: 2.13s\tremaining: 22.3s\n",
      "48:\tlearn: 2025.4220975\ttotal: 2.17s\tremaining: 22.2s\n",
      "49:\tlearn: 2023.8938436\ttotal: 2.2s\tremaining: 22s\n",
      "50:\tlearn: 2021.3085931\ttotal: 2.24s\tremaining: 21.9s\n",
      "51:\tlearn: 2019.0898746\ttotal: 2.27s\tremaining: 21.8s\n",
      "52:\tlearn: 2017.2147913\ttotal: 2.31s\tremaining: 21.7s\n",
      "53:\tlearn: 2015.0517706\ttotal: 2.35s\tremaining: 21.6s\n",
      "54:\tlearn: 2012.6371161\ttotal: 2.39s\tremaining: 21.5s\n",
      "55:\tlearn: 2010.6162775\ttotal: 2.43s\tremaining: 21.4s\n",
      "56:\tlearn: 2008.8084760\ttotal: 2.47s\tremaining: 21.3s\n",
      "57:\tlearn: 2006.6616849\ttotal: 2.5s\tremaining: 21.2s\n",
      "58:\tlearn: 2005.3324767\ttotal: 2.54s\tremaining: 21.2s\n",
      "59:\tlearn: 2003.9798552\ttotal: 2.58s\tremaining: 21s\n",
      "60:\tlearn: 2003.1114738\ttotal: 2.61s\tremaining: 20.9s\n",
      "61:\tlearn: 2001.2250126\ttotal: 2.65s\tremaining: 20.9s\n",
      "62:\tlearn: 1999.9306862\ttotal: 2.68s\tremaining: 20.8s\n",
      "63:\tlearn: 1998.6615654\ttotal: 2.72s\tremaining: 20.7s\n",
      "64:\tlearn: 1996.3666966\ttotal: 2.76s\tremaining: 20.6s\n",
      "65:\tlearn: 1994.9440919\ttotal: 2.8s\tremaining: 20.5s\n",
      "66:\tlearn: 1993.4168685\ttotal: 2.84s\tremaining: 20.5s\n",
      "67:\tlearn: 1992.1041221\ttotal: 2.88s\tremaining: 20.4s\n",
      "68:\tlearn: 1991.5556279\ttotal: 2.91s\tremaining: 20.3s\n",
      "69:\tlearn: 1990.4997600\ttotal: 2.95s\tremaining: 20.2s\n",
      "70:\tlearn: 1989.2277081\ttotal: 2.99s\tremaining: 20.2s\n",
      "71:\tlearn: 1987.6093008\ttotal: 3.03s\tremaining: 20.1s\n",
      "72:\tlearn: 1985.7136491\ttotal: 3.06s\tremaining: 20s\n",
      "73:\tlearn: 1983.5026658\ttotal: 3.1s\tremaining: 20s\n",
      "74:\tlearn: 1981.8761054\ttotal: 3.14s\tremaining: 19.9s\n",
      "75:\tlearn: 1980.8767651\ttotal: 3.17s\tremaining: 19.8s\n",
      "76:\tlearn: 1979.6396631\ttotal: 3.21s\tremaining: 19.7s\n",
      "77:\tlearn: 1978.7941439\ttotal: 3.24s\tremaining: 19.6s\n",
      "78:\tlearn: 1977.2895068\ttotal: 3.28s\tremaining: 19.6s\n",
      "79:\tlearn: 1976.5123097\ttotal: 3.32s\tremaining: 19.5s\n",
      "80:\tlearn: 1974.1944717\ttotal: 3.36s\tremaining: 19.4s\n",
      "81:\tlearn: 1972.3906982\ttotal: 3.4s\tremaining: 19.4s\n",
      "82:\tlearn: 1971.5532759\ttotal: 3.43s\tremaining: 19.3s\n",
      "83:\tlearn: 1969.8769564\ttotal: 3.47s\tremaining: 19.3s\n",
      "84:\tlearn: 1968.2491453\ttotal: 3.51s\tremaining: 19.2s\n",
      "85:\tlearn: 1967.3345341\ttotal: 3.55s\tremaining: 19.1s\n",
      "86:\tlearn: 1965.9162387\ttotal: 3.58s\tremaining: 19.1s\n",
      "87:\tlearn: 1964.6088875\ttotal: 3.62s\tremaining: 19s\n",
      "88:\tlearn: 1963.4660474\ttotal: 3.65s\tremaining: 18.9s\n",
      "89:\tlearn: 1961.9106030\ttotal: 3.69s\tremaining: 18.9s\n",
      "90:\tlearn: 1961.1886461\ttotal: 3.72s\tremaining: 18.8s\n",
      "91:\tlearn: 1960.5213088\ttotal: 3.76s\tremaining: 18.7s\n",
      "92:\tlearn: 1958.8231376\ttotal: 3.79s\tremaining: 18.6s\n",
      "93:\tlearn: 1957.7974865\ttotal: 3.83s\tremaining: 18.6s\n",
      "94:\tlearn: 1956.1240105\ttotal: 3.87s\tremaining: 18.6s\n",
      "95:\tlearn: 1954.8218181\ttotal: 3.92s\tremaining: 18.5s\n",
      "96:\tlearn: 1954.0752224\ttotal: 3.95s\tremaining: 18.5s\n",
      "97:\tlearn: 1952.7026403\ttotal: 3.99s\tremaining: 18.4s\n",
      "98:\tlearn: 1951.8884937\ttotal: 4.03s\tremaining: 18.4s\n",
      "99:\tlearn: 1951.1557985\ttotal: 4.07s\tremaining: 18.3s\n",
      "100:\tlearn: 1949.8364400\ttotal: 4.11s\tremaining: 18.3s\n",
      "101:\tlearn: 1948.9641428\ttotal: 4.15s\tremaining: 18.2s\n",
      "102:\tlearn: 1948.3996531\ttotal: 4.19s\tremaining: 18.2s\n",
      "103:\tlearn: 1947.5880181\ttotal: 4.22s\tremaining: 18.1s\n",
      "104:\tlearn: 1946.1337129\ttotal: 4.26s\tremaining: 18s\n",
      "105:\tlearn: 1945.3270151\ttotal: 4.29s\tremaining: 18s\n",
      "106:\tlearn: 1944.8093275\ttotal: 4.33s\tremaining: 17.9s\n",
      "107:\tlearn: 1943.1127824\ttotal: 4.37s\tremaining: 17.9s\n",
      "108:\tlearn: 1942.3423203\ttotal: 4.41s\tremaining: 17.8s\n",
      "109:\tlearn: 1941.9219549\ttotal: 4.44s\tremaining: 17.8s\n",
      "110:\tlearn: 1941.0784787\ttotal: 4.48s\tremaining: 17.7s\n",
      "111:\tlearn: 1939.9083405\ttotal: 4.52s\tremaining: 17.7s\n",
      "112:\tlearn: 1938.2826890\ttotal: 4.57s\tremaining: 17.7s\n",
      "113:\tlearn: 1937.3101049\ttotal: 4.61s\tremaining: 17.6s\n",
      "114:\tlearn: 1936.6848081\ttotal: 4.64s\tremaining: 17.6s\n",
      "115:\tlearn: 1936.3816461\ttotal: 4.68s\tremaining: 17.5s\n",
      "116:\tlearn: 1935.3557902\ttotal: 4.72s\tremaining: 17.5s\n",
      "117:\tlearn: 1934.4602802\ttotal: 4.75s\tremaining: 17.4s\n",
      "118:\tlearn: 1932.8469074\ttotal: 4.8s\tremaining: 17.4s\n",
      "119:\tlearn: 1931.8551724\ttotal: 4.83s\tremaining: 17.3s\n",
      "120:\tlearn: 1930.8734950\ttotal: 4.88s\tremaining: 17.3s\n",
      "121:\tlearn: 1929.6443834\ttotal: 4.92s\tremaining: 17.3s\n",
      "122:\tlearn: 1928.4478357\ttotal: 4.96s\tremaining: 17.2s\n",
      "123:\tlearn: 1927.8781876\ttotal: 5s\tremaining: 17.2s\n",
      "124:\tlearn: 1927.2894966\ttotal: 5.04s\tremaining: 17.1s\n",
      "125:\tlearn: 1926.7555197\ttotal: 5.08s\tremaining: 17.1s\n",
      "126:\tlearn: 1925.9296378\ttotal: 5.12s\tremaining: 17s\n",
      "127:\tlearn: 1924.9175060\ttotal: 5.15s\tremaining: 17s\n",
      "128:\tlearn: 1923.9371011\ttotal: 5.19s\tremaining: 16.9s\n",
      "129:\tlearn: 1923.2147867\ttotal: 5.23s\tremaining: 16.9s\n",
      "130:\tlearn: 1922.5049363\ttotal: 5.27s\tremaining: 16.9s\n",
      "131:\tlearn: 1922.0306838\ttotal: 5.31s\tremaining: 16.8s\n",
      "132:\tlearn: 1921.3597358\ttotal: 5.34s\tremaining: 16.7s\n",
      "133:\tlearn: 1920.4699490\ttotal: 5.39s\tremaining: 16.7s\n",
      "134:\tlearn: 1919.4693675\ttotal: 5.42s\tremaining: 16.7s\n",
      "135:\tlearn: 1918.5835171\ttotal: 5.46s\tremaining: 16.6s\n",
      "136:\tlearn: 1917.7172537\ttotal: 5.5s\tremaining: 16.6s\n",
      "137:\tlearn: 1917.0799255\ttotal: 5.53s\tremaining: 16.5s\n",
      "138:\tlearn: 1916.3744242\ttotal: 5.57s\tremaining: 16.5s\n",
      "139:\tlearn: 1915.7609799\ttotal: 5.61s\tremaining: 16.4s\n",
      "140:\tlearn: 1915.3849193\ttotal: 5.64s\tremaining: 16.4s\n",
      "141:\tlearn: 1914.0800879\ttotal: 5.68s\tremaining: 16.3s\n",
      "142:\tlearn: 1912.9943874\ttotal: 5.73s\tremaining: 16.3s\n",
      "143:\tlearn: 1912.1545797\ttotal: 5.77s\tremaining: 16.3s\n",
      "144:\tlearn: 1911.1942674\ttotal: 5.8s\tremaining: 16.2s\n",
      "145:\tlearn: 1910.5876695\ttotal: 5.84s\tremaining: 16.2s\n",
      "146:\tlearn: 1909.8356520\ttotal: 5.88s\tremaining: 16.1s\n",
      "147:\tlearn: 1908.8337533\ttotal: 5.91s\tremaining: 16.1s\n",
      "148:\tlearn: 1908.1304977\ttotal: 5.96s\tremaining: 16s\n",
      "149:\tlearn: 1907.6562820\ttotal: 5.99s\tremaining: 16s\n",
      "150:\tlearn: 1907.0479440\ttotal: 6.03s\tremaining: 15.9s\n",
      "151:\tlearn: 1906.5628143\ttotal: 6.06s\tremaining: 15.9s\n",
      "152:\tlearn: 1905.6086024\ttotal: 6.1s\tremaining: 15.8s\n",
      "153:\tlearn: 1904.5725196\ttotal: 6.14s\tremaining: 15.8s\n",
      "154:\tlearn: 1904.0101477\ttotal: 6.18s\tremaining: 15.8s\n",
      "155:\tlearn: 1903.2294147\ttotal: 6.21s\tremaining: 15.7s\n",
      "156:\tlearn: 1902.6813359\ttotal: 6.25s\tremaining: 15.6s\n",
      "157:\tlearn: 1902.0854328\ttotal: 6.28s\tremaining: 15.6s\n",
      "158:\tlearn: 1901.3367976\ttotal: 6.32s\tremaining: 15.6s\n",
      "159:\tlearn: 1900.6318059\ttotal: 6.37s\tremaining: 15.5s\n",
      "160:\tlearn: 1898.9416888\ttotal: 6.41s\tremaining: 15.5s\n",
      "161:\tlearn: 1898.0936382\ttotal: 6.44s\tremaining: 15.4s\n",
      "162:\tlearn: 1897.5846661\ttotal: 6.48s\tremaining: 15.4s\n",
      "163:\tlearn: 1897.1565000\ttotal: 6.51s\tremaining: 15.3s\n",
      "164:\tlearn: 1896.7127230\ttotal: 6.54s\tremaining: 15.3s\n",
      "165:\tlearn: 1896.2145729\ttotal: 6.58s\tremaining: 15.2s\n",
      "166:\tlearn: 1895.6035682\ttotal: 6.61s\tremaining: 15.2s\n",
      "167:\tlearn: 1895.0498739\ttotal: 6.65s\tremaining: 15.1s\n",
      "168:\tlearn: 1894.4139832\ttotal: 6.69s\tremaining: 15.1s\n",
      "169:\tlearn: 1893.3643891\ttotal: 6.73s\tremaining: 15s\n",
      "170:\tlearn: 1892.4280445\ttotal: 6.77s\tremaining: 15s\n",
      "171:\tlearn: 1891.6842159\ttotal: 6.8s\tremaining: 14.9s\n",
      "172:\tlearn: 1890.9643070\ttotal: 6.84s\tremaining: 14.9s\n",
      "173:\tlearn: 1890.0243745\ttotal: 6.87s\tremaining: 14.8s\n",
      "174:\tlearn: 1889.6101466\ttotal: 6.9s\tremaining: 14.8s\n",
      "175:\tlearn: 1888.7741317\ttotal: 6.94s\tremaining: 14.7s\n",
      "176:\tlearn: 1888.1887924\ttotal: 6.97s\tremaining: 14.7s\n",
      "177:\tlearn: 1887.3095948\ttotal: 7.01s\tremaining: 14.7s\n",
      "178:\tlearn: 1886.8634070\ttotal: 7.05s\tremaining: 14.6s\n",
      "179:\tlearn: 1886.3370018\ttotal: 7.08s\tremaining: 14.6s\n",
      "180:\tlearn: 1885.5868058\ttotal: 7.12s\tremaining: 14.5s\n",
      "181:\tlearn: 1884.6296558\ttotal: 7.16s\tremaining: 14.5s\n",
      "182:\tlearn: 1883.7225102\ttotal: 7.19s\tremaining: 14.4s\n",
      "183:\tlearn: 1883.3119279\ttotal: 7.23s\tremaining: 14.4s\n",
      "184:\tlearn: 1882.8581624\ttotal: 7.26s\tremaining: 14.3s\n",
      "185:\tlearn: 1882.2682565\ttotal: 7.31s\tremaining: 14.3s\n",
      "186:\tlearn: 1881.6563474\ttotal: 7.34s\tremaining: 14.3s\n",
      "187:\tlearn: 1881.1195684\ttotal: 7.38s\tremaining: 14.2s\n",
      "188:\tlearn: 1880.5382004\ttotal: 7.42s\tremaining: 14.2s\n",
      "189:\tlearn: 1879.6129330\ttotal: 7.47s\tremaining: 14.2s\n",
      "190:\tlearn: 1878.7983148\ttotal: 7.51s\tremaining: 14.1s\n",
      "191:\tlearn: 1878.0723570\ttotal: 7.54s\tremaining: 14.1s\n",
      "192:\tlearn: 1877.3765216\ttotal: 7.58s\tremaining: 14s\n",
      "193:\tlearn: 1876.8010595\ttotal: 7.61s\tremaining: 14s\n",
      "194:\tlearn: 1876.0621392\ttotal: 7.65s\tremaining: 13.9s\n",
      "195:\tlearn: 1875.8331404\ttotal: 7.69s\tremaining: 13.9s\n",
      "196:\tlearn: 1875.5592032\ttotal: 7.73s\tremaining: 13.8s\n",
      "197:\tlearn: 1874.9467851\ttotal: 7.76s\tremaining: 13.8s\n",
      "198:\tlearn: 1874.4482842\ttotal: 7.79s\tremaining: 13.7s\n",
      "199:\tlearn: 1873.6798234\ttotal: 7.83s\tremaining: 13.7s\n",
      "200:\tlearn: 1873.1015792\ttotal: 7.87s\tremaining: 13.7s\n",
      "201:\tlearn: 1872.6066813\ttotal: 7.91s\tremaining: 13.6s\n",
      "202:\tlearn: 1872.3805796\ttotal: 7.94s\tremaining: 13.6s\n",
      "203:\tlearn: 1871.6324047\ttotal: 7.98s\tremaining: 13.5s\n",
      "204:\tlearn: 1871.2225203\ttotal: 8.01s\tremaining: 13.5s\n",
      "205:\tlearn: 1870.4901724\ttotal: 8.05s\tremaining: 13.4s\n",
      "206:\tlearn: 1870.0694127\ttotal: 8.08s\tremaining: 13.4s\n",
      "207:\tlearn: 1869.6766165\ttotal: 8.12s\tremaining: 13.3s\n",
      "208:\tlearn: 1869.1486934\ttotal: 8.15s\tremaining: 13.3s\n",
      "209:\tlearn: 1868.4038130\ttotal: 8.19s\tremaining: 13.3s\n",
      "210:\tlearn: 1867.6386020\ttotal: 8.23s\tremaining: 13.2s\n",
      "211:\tlearn: 1867.2221047\ttotal: 8.26s\tremaining: 13.2s\n",
      "212:\tlearn: 1866.6676542\ttotal: 8.3s\tremaining: 13.1s\n",
      "213:\tlearn: 1865.7755523\ttotal: 8.36s\tremaining: 13.1s\n",
      "214:\tlearn: 1865.3082152\ttotal: 8.39s\tremaining: 13.1s\n",
      "215:\tlearn: 1864.4977667\ttotal: 8.42s\tremaining: 13s\n",
      "216:\tlearn: 1863.8814973\ttotal: 8.46s\tremaining: 13s\n",
      "217:\tlearn: 1863.5884133\ttotal: 8.49s\tremaining: 12.9s\n",
      "218:\tlearn: 1862.9568938\ttotal: 8.54s\tremaining: 12.9s\n",
      "219:\tlearn: 1862.6072853\ttotal: 8.57s\tremaining: 12.9s\n",
      "220:\tlearn: 1861.8985565\ttotal: 8.61s\tremaining: 12.8s\n",
      "221:\tlearn: 1861.2108578\ttotal: 8.65s\tremaining: 12.8s\n",
      "222:\tlearn: 1860.3741816\ttotal: 8.69s\tremaining: 12.7s\n",
      "223:\tlearn: 1859.9539083\ttotal: 8.73s\tremaining: 12.7s\n",
      "224:\tlearn: 1859.3789606\ttotal: 8.77s\tremaining: 12.7s\n",
      "225:\tlearn: 1859.1266730\ttotal: 8.8s\tremaining: 12.6s\n",
      "226:\tlearn: 1858.6627941\ttotal: 8.84s\tremaining: 12.6s\n",
      "227:\tlearn: 1858.0258583\ttotal: 8.88s\tremaining: 12.5s\n",
      "228:\tlearn: 1857.4405624\ttotal: 8.92s\tremaining: 12.5s\n",
      "229:\tlearn: 1856.7562962\ttotal: 8.96s\tremaining: 12.5s\n",
      "230:\tlearn: 1856.1787510\ttotal: 8.99s\tremaining: 12.4s\n",
      "231:\tlearn: 1855.8052013\ttotal: 9.03s\tremaining: 12.4s\n",
      "232:\tlearn: 1855.2699980\ttotal: 9.07s\tremaining: 12.3s\n",
      "233:\tlearn: 1854.6676707\ttotal: 9.11s\tremaining: 12.3s\n",
      "234:\tlearn: 1854.2635677\ttotal: 9.15s\tremaining: 12.3s\n",
      "235:\tlearn: 1853.3602087\ttotal: 9.19s\tremaining: 12.2s\n",
      "236:\tlearn: 1852.9219251\ttotal: 9.22s\tremaining: 12.2s\n",
      "237:\tlearn: 1852.6487357\ttotal: 9.26s\tremaining: 12.1s\n",
      "238:\tlearn: 1851.9908827\ttotal: 9.3s\tremaining: 12.1s\n",
      "239:\tlearn: 1851.6712146\ttotal: 9.33s\tremaining: 12.1s\n",
      "240:\tlearn: 1850.7478976\ttotal: 9.37s\tremaining: 12s\n",
      "241:\tlearn: 1850.3736701\ttotal: 9.4s\tremaining: 12s\n",
      "242:\tlearn: 1849.8677834\ttotal: 9.45s\tremaining: 11.9s\n",
      "243:\tlearn: 1849.5821791\ttotal: 9.48s\tremaining: 11.9s\n",
      "244:\tlearn: 1849.1031460\ttotal: 9.52s\tremaining: 11.8s\n",
      "245:\tlearn: 1848.5138558\ttotal: 9.55s\tremaining: 11.8s\n",
      "246:\tlearn: 1848.0716530\ttotal: 9.59s\tremaining: 11.8s\n",
      "247:\tlearn: 1847.6347878\ttotal: 9.63s\tremaining: 11.7s\n",
      "248:\tlearn: 1847.0518076\ttotal: 9.68s\tremaining: 11.7s\n",
      "249:\tlearn: 1846.4445269\ttotal: 9.72s\tremaining: 11.7s\n",
      "250:\tlearn: 1845.9751763\ttotal: 9.76s\tremaining: 11.6s\n",
      "251:\tlearn: 1845.5342039\ttotal: 9.79s\tremaining: 11.6s\n",
      "252:\tlearn: 1845.1651690\ttotal: 9.83s\tremaining: 11.5s\n",
      "253:\tlearn: 1844.6136792\ttotal: 9.86s\tremaining: 11.5s\n",
      "254:\tlearn: 1843.9647328\ttotal: 9.9s\tremaining: 11.4s\n",
      "255:\tlearn: 1843.5141626\ttotal: 9.93s\tremaining: 11.4s\n",
      "256:\tlearn: 1843.1839948\ttotal: 9.97s\tremaining: 11.4s\n",
      "257:\tlearn: 1842.8113374\ttotal: 10s\tremaining: 11.3s\n",
      "258:\tlearn: 1842.3838635\ttotal: 10s\tremaining: 11.3s\n",
      "259:\tlearn: 1842.0352465\ttotal: 10.1s\tremaining: 11.2s\n",
      "260:\tlearn: 1841.4928219\ttotal: 10.1s\tremaining: 11.2s\n",
      "261:\tlearn: 1840.7814271\ttotal: 10.2s\tremaining: 11.2s\n",
      "262:\tlearn: 1840.2678986\ttotal: 10.2s\tremaining: 11.1s\n",
      "263:\tlearn: 1839.9172546\ttotal: 10.2s\tremaining: 11.1s\n",
      "264:\tlearn: 1839.4464732\ttotal: 10.3s\tremaining: 11s\n",
      "265:\tlearn: 1838.9572229\ttotal: 10.3s\tremaining: 11s\n",
      "266:\tlearn: 1838.7302084\ttotal: 10.3s\tremaining: 10.9s\n",
      "267:\tlearn: 1838.1285197\ttotal: 10.4s\tremaining: 10.9s\n",
      "268:\tlearn: 1837.7750350\ttotal: 10.4s\tremaining: 10.9s\n",
      "269:\tlearn: 1837.4812052\ttotal: 10.4s\tremaining: 10.8s\n",
      "270:\tlearn: 1837.1036461\ttotal: 10.5s\tremaining: 10.8s\n",
      "271:\tlearn: 1836.6735187\ttotal: 10.5s\tremaining: 10.7s\n",
      "272:\tlearn: 1836.0684827\ttotal: 10.5s\tremaining: 10.7s\n",
      "273:\tlearn: 1835.6245483\ttotal: 10.6s\tremaining: 10.7s\n",
      "274:\tlearn: 1835.2581451\ttotal: 10.6s\tremaining: 10.6s\n",
      "275:\tlearn: 1834.8147719\ttotal: 10.7s\tremaining: 10.6s\n",
      "276:\tlearn: 1834.6869094\ttotal: 10.7s\tremaining: 10.5s\n",
      "277:\tlearn: 1834.1857700\ttotal: 10.7s\tremaining: 10.5s\n",
      "278:\tlearn: 1833.5534614\ttotal: 10.8s\tremaining: 10.5s\n",
      "279:\tlearn: 1833.0398023\ttotal: 10.8s\tremaining: 10.4s\n",
      "280:\tlearn: 1832.3701757\ttotal: 10.8s\tremaining: 10.4s\n",
      "281:\tlearn: 1831.6584067\ttotal: 10.9s\tremaining: 10.3s\n",
      "282:\tlearn: 1831.0282520\ttotal: 10.9s\tremaining: 10.3s\n",
      "283:\tlearn: 1830.6411452\ttotal: 11s\tremaining: 10.3s\n",
      "284:\tlearn: 1830.1975286\ttotal: 11s\tremaining: 10.2s\n",
      "285:\tlearn: 1829.9641791\ttotal: 11s\tremaining: 10.2s\n",
      "286:\tlearn: 1829.5298187\ttotal: 11.1s\tremaining: 10.1s\n",
      "287:\tlearn: 1829.0605661\ttotal: 11.1s\tremaining: 10.1s\n",
      "288:\tlearn: 1828.6291064\ttotal: 11.1s\tremaining: 10.1s\n",
      "289:\tlearn: 1828.3002848\ttotal: 11.2s\tremaining: 10s\n",
      "290:\tlearn: 1827.7949831\ttotal: 11.2s\tremaining: 9.98s\n",
      "291:\tlearn: 1827.1405087\ttotal: 11.2s\tremaining: 9.94s\n",
      "292:\tlearn: 1826.8952059\ttotal: 11.3s\tremaining: 9.89s\n",
      "293:\tlearn: 1826.4710123\ttotal: 11.3s\tremaining: 9.85s\n",
      "294:\tlearn: 1826.1493410\ttotal: 11.3s\tremaining: 9.8s\n",
      "295:\tlearn: 1825.4267874\ttotal: 11.4s\tremaining: 9.76s\n",
      "296:\tlearn: 1824.8745920\ttotal: 11.4s\tremaining: 9.72s\n",
      "297:\tlearn: 1824.6838569\ttotal: 11.4s\tremaining: 9.68s\n",
      "298:\tlearn: 1824.1423085\ttotal: 11.5s\tremaining: 9.64s\n",
      "299:\tlearn: 1823.6321953\ttotal: 11.5s\tremaining: 9.6s\n",
      "300:\tlearn: 1823.1634309\ttotal: 11.6s\tremaining: 9.56s\n",
      "301:\tlearn: 1822.6539265\ttotal: 11.6s\tremaining: 9.52s\n",
      "302:\tlearn: 1822.2620817\ttotal: 11.6s\tremaining: 9.47s\n",
      "303:\tlearn: 1821.7155336\ttotal: 11.7s\tremaining: 9.44s\n",
      "304:\tlearn: 1821.2076478\ttotal: 11.7s\tremaining: 9.4s\n",
      "305:\tlearn: 1820.8431564\ttotal: 11.7s\tremaining: 9.36s\n",
      "306:\tlearn: 1820.4690660\ttotal: 11.8s\tremaining: 9.32s\n",
      "307:\tlearn: 1820.3901029\ttotal: 11.8s\tremaining: 9.27s\n",
      "308:\tlearn: 1820.0153158\ttotal: 11.8s\tremaining: 9.23s\n",
      "309:\tlearn: 1819.6894723\ttotal: 11.9s\tremaining: 9.19s\n",
      "310:\tlearn: 1819.4438106\ttotal: 11.9s\tremaining: 9.15s\n",
      "311:\tlearn: 1819.0187465\ttotal: 11.9s\tremaining: 9.11s\n",
      "312:\tlearn: 1818.5344375\ttotal: 12s\tremaining: 9.07s\n",
      "313:\tlearn: 1818.1283242\ttotal: 12s\tremaining: 9.03s\n",
      "314:\tlearn: 1817.4764105\ttotal: 12.1s\tremaining: 8.99s\n",
      "315:\tlearn: 1816.9875155\ttotal: 12.1s\tremaining: 8.96s\n",
      "316:\tlearn: 1816.6203517\ttotal: 12.1s\tremaining: 8.92s\n",
      "317:\tlearn: 1816.2043619\ttotal: 12.2s\tremaining: 8.88s\n",
      "318:\tlearn: 1815.8982708\ttotal: 12.2s\tremaining: 8.84s\n",
      "319:\tlearn: 1815.2118115\ttotal: 12.2s\tremaining: 8.8s\n",
      "320:\tlearn: 1814.9250661\ttotal: 12.3s\tremaining: 8.76s\n",
      "321:\tlearn: 1814.2650563\ttotal: 12.3s\tremaining: 8.72s\n",
      "322:\tlearn: 1813.9566428\ttotal: 12.4s\tremaining: 8.69s\n",
      "323:\tlearn: 1813.5011547\ttotal: 12.4s\tremaining: 8.65s\n",
      "324:\tlearn: 1813.1535562\ttotal: 12.4s\tremaining: 8.61s\n",
      "325:\tlearn: 1812.5109044\ttotal: 12.5s\tremaining: 8.57s\n",
      "326:\tlearn: 1812.2051986\ttotal: 12.5s\tremaining: 8.53s\n",
      "327:\tlearn: 1811.7361009\ttotal: 12.6s\tremaining: 8.5s\n",
      "328:\tlearn: 1811.4648054\ttotal: 12.6s\tremaining: 8.46s\n",
      "329:\tlearn: 1810.9153583\ttotal: 12.6s\tremaining: 8.42s\n",
      "330:\tlearn: 1810.5049540\ttotal: 12.7s\tremaining: 8.38s\n",
      "331:\tlearn: 1810.1146811\ttotal: 12.7s\tremaining: 8.34s\n",
      "332:\tlearn: 1809.4514830\ttotal: 12.7s\tremaining: 8.3s\n",
      "333:\tlearn: 1809.0002251\ttotal: 12.8s\tremaining: 8.26s\n",
      "334:\tlearn: 1808.5410663\ttotal: 12.8s\tremaining: 8.22s\n",
      "335:\tlearn: 1808.1014827\ttotal: 12.8s\tremaining: 8.18s\n",
      "336:\tlearn: 1807.6790366\ttotal: 12.9s\tremaining: 8.14s\n",
      "337:\tlearn: 1807.3624518\ttotal: 12.9s\tremaining: 8.1s\n",
      "338:\tlearn: 1807.1284826\ttotal: 12.9s\tremaining: 8.06s\n",
      "339:\tlearn: 1806.8180403\ttotal: 13s\tremaining: 8.02s\n",
      "340:\tlearn: 1806.4426664\ttotal: 13s\tremaining: 7.98s\n",
      "341:\tlearn: 1806.1038784\ttotal: 13.1s\tremaining: 7.94s\n",
      "342:\tlearn: 1805.7025219\ttotal: 13.1s\tremaining: 7.9s\n",
      "343:\tlearn: 1805.3147023\ttotal: 13.1s\tremaining: 7.86s\n",
      "344:\tlearn: 1804.6595890\ttotal: 13.2s\tremaining: 7.82s\n",
      "345:\tlearn: 1804.0851798\ttotal: 13.2s\tremaining: 7.78s\n",
      "346:\tlearn: 1803.7324275\ttotal: 13.2s\tremaining: 7.75s\n",
      "347:\tlearn: 1803.5540622\ttotal: 13.3s\tremaining: 7.7s\n",
      "348:\tlearn: 1803.0506308\ttotal: 13.3s\tremaining: 7.66s\n",
      "349:\tlearn: 1802.7911732\ttotal: 13.3s\tremaining: 7.62s\n",
      "350:\tlearn: 1802.5514721\ttotal: 13.4s\tremaining: 7.58s\n",
      "351:\tlearn: 1802.2037729\ttotal: 13.4s\tremaining: 7.54s\n",
      "352:\tlearn: 1801.9345098\ttotal: 13.4s\tremaining: 7.5s\n",
      "353:\tlearn: 1801.4982372\ttotal: 13.5s\tremaining: 7.46s\n",
      "354:\tlearn: 1801.0227684\ttotal: 13.5s\tremaining: 7.43s\n",
      "355:\tlearn: 1800.5050308\ttotal: 13.6s\tremaining: 7.39s\n",
      "356:\tlearn: 1800.1997337\ttotal: 13.6s\tremaining: 7.35s\n",
      "357:\tlearn: 1799.6887733\ttotal: 13.6s\tremaining: 7.31s\n",
      "358:\tlearn: 1799.4740300\ttotal: 13.7s\tremaining: 7.27s\n",
      "359:\tlearn: 1798.9546573\ttotal: 13.7s\tremaining: 7.23s\n",
      "360:\tlearn: 1798.5762063\ttotal: 13.7s\tremaining: 7.19s\n",
      "361:\tlearn: 1798.2660167\ttotal: 13.8s\tremaining: 7.15s\n",
      "362:\tlearn: 1797.8328160\ttotal: 13.8s\tremaining: 7.12s\n",
      "363:\tlearn: 1797.4909990\ttotal: 13.9s\tremaining: 7.08s\n",
      "364:\tlearn: 1797.2379455\ttotal: 13.9s\tremaining: 7.04s\n",
      "365:\tlearn: 1796.8723364\ttotal: 13.9s\tremaining: 7s\n",
      "366:\tlearn: 1796.6059010\ttotal: 14s\tremaining: 6.96s\n",
      "367:\tlearn: 1796.3876727\ttotal: 14s\tremaining: 6.92s\n",
      "368:\tlearn: 1796.3407977\ttotal: 14s\tremaining: 6.88s\n",
      "369:\tlearn: 1795.9577735\ttotal: 14.1s\tremaining: 6.84s\n",
      "370:\tlearn: 1795.3902106\ttotal: 14.1s\tremaining: 6.81s\n",
      "371:\tlearn: 1795.1778286\ttotal: 14.1s\tremaining: 6.77s\n",
      "372:\tlearn: 1794.7794862\ttotal: 14.2s\tremaining: 6.73s\n",
      "373:\tlearn: 1794.4026603\ttotal: 14.2s\tremaining: 6.69s\n",
      "374:\tlearn: 1793.9430084\ttotal: 14.3s\tremaining: 6.65s\n",
      "375:\tlearn: 1793.6934401\ttotal: 14.3s\tremaining: 6.61s\n",
      "376:\tlearn: 1793.3387002\ttotal: 14.3s\tremaining: 6.58s\n",
      "377:\tlearn: 1793.0503347\ttotal: 14.4s\tremaining: 6.54s\n",
      "378:\tlearn: 1792.7766808\ttotal: 14.4s\tremaining: 6.5s\n",
      "379:\tlearn: 1792.2714059\ttotal: 14.4s\tremaining: 6.46s\n",
      "380:\tlearn: 1791.9029513\ttotal: 14.5s\tremaining: 6.42s\n",
      "381:\tlearn: 1791.5415465\ttotal: 14.5s\tremaining: 6.38s\n",
      "382:\tlearn: 1791.2761705\ttotal: 14.6s\tremaining: 6.35s\n",
      "383:\tlearn: 1791.2520430\ttotal: 14.6s\tremaining: 6.3s\n",
      "384:\tlearn: 1790.7463355\ttotal: 14.6s\tremaining: 6.27s\n",
      "385:\tlearn: 1790.2606092\ttotal: 14.7s\tremaining: 6.23s\n",
      "386:\tlearn: 1790.0477951\ttotal: 14.7s\tremaining: 6.19s\n",
      "387:\tlearn: 1789.6472959\ttotal: 14.7s\tremaining: 6.15s\n",
      "388:\tlearn: 1789.2761159\ttotal: 14.8s\tremaining: 6.12s\n",
      "389:\tlearn: 1788.9560847\ttotal: 14.8s\tremaining: 6.08s\n",
      "390:\tlearn: 1788.5909752\ttotal: 14.9s\tremaining: 6.04s\n",
      "391:\tlearn: 1788.2451972\ttotal: 14.9s\tremaining: 6s\n",
      "392:\tlearn: 1787.9693297\ttotal: 14.9s\tremaining: 5.96s\n",
      "393:\tlearn: 1787.4770248\ttotal: 15s\tremaining: 5.92s\n",
      "394:\tlearn: 1787.1330263\ttotal: 15s\tremaining: 5.89s\n",
      "395:\tlearn: 1786.6648472\ttotal: 15s\tremaining: 5.85s\n",
      "396:\tlearn: 1786.3883889\ttotal: 15.1s\tremaining: 5.81s\n",
      "397:\tlearn: 1786.1319704\ttotal: 15.1s\tremaining: 5.78s\n",
      "398:\tlearn: 1785.3765320\ttotal: 15.2s\tremaining: 5.74s\n",
      "399:\tlearn: 1785.0183008\ttotal: 15.2s\tremaining: 5.7s\n",
      "400:\tlearn: 1784.6655123\ttotal: 15.2s\tremaining: 5.66s\n",
      "401:\tlearn: 1784.1815323\ttotal: 15.3s\tremaining: 5.63s\n",
      "402:\tlearn: 1783.7302076\ttotal: 15.3s\tremaining: 5.59s\n",
      "403:\tlearn: 1783.3029944\ttotal: 15.4s\tremaining: 5.55s\n",
      "404:\tlearn: 1782.9466729\ttotal: 15.4s\tremaining: 5.51s\n",
      "405:\tlearn: 1782.6545665\ttotal: 15.4s\tremaining: 5.48s\n",
      "406:\tlearn: 1782.3046033\ttotal: 15.5s\tremaining: 5.44s\n",
      "407:\tlearn: 1781.8970888\ttotal: 15.5s\tremaining: 5.4s\n",
      "408:\tlearn: 1781.6298136\ttotal: 15.6s\tremaining: 5.36s\n",
      "409:\tlearn: 1781.2373614\ttotal: 15.6s\tremaining: 5.32s\n",
      "410:\tlearn: 1780.9345398\ttotal: 15.6s\tremaining: 5.29s\n",
      "411:\tlearn: 1780.5610337\ttotal: 15.7s\tremaining: 5.25s\n",
      "412:\tlearn: 1780.1742028\ttotal: 15.7s\tremaining: 5.21s\n",
      "413:\tlearn: 1779.7905080\ttotal: 15.7s\tremaining: 5.17s\n",
      "414:\tlearn: 1779.5275436\ttotal: 15.8s\tremaining: 5.13s\n",
      "415:\tlearn: 1779.1687103\ttotal: 15.8s\tremaining: 5.1s\n",
      "416:\tlearn: 1778.6902457\ttotal: 15.9s\tremaining: 5.06s\n",
      "417:\tlearn: 1778.3428041\ttotal: 15.9s\tremaining: 5.02s\n",
      "418:\tlearn: 1778.0551875\ttotal: 15.9s\tremaining: 4.98s\n",
      "419:\tlearn: 1777.7502531\ttotal: 16s\tremaining: 4.94s\n",
      "420:\tlearn: 1777.4109013\ttotal: 16s\tremaining: 4.9s\n",
      "421:\tlearn: 1777.0343315\ttotal: 16s\tremaining: 4.87s\n",
      "422:\tlearn: 1776.7755898\ttotal: 16.1s\tremaining: 4.83s\n",
      "423:\tlearn: 1776.6023397\ttotal: 16.1s\tremaining: 4.79s\n",
      "424:\tlearn: 1776.1830598\ttotal: 16.2s\tremaining: 4.75s\n",
      "425:\tlearn: 1775.8405612\ttotal: 16.2s\tremaining: 4.71s\n",
      "426:\tlearn: 1775.6259643\ttotal: 16.2s\tremaining: 4.67s\n",
      "427:\tlearn: 1775.3848491\ttotal: 16.3s\tremaining: 4.64s\n",
      "428:\tlearn: 1774.8954898\ttotal: 16.3s\tremaining: 4.6s\n",
      "429:\tlearn: 1774.4911575\ttotal: 16.3s\tremaining: 4.56s\n",
      "430:\tlearn: 1773.9825050\ttotal: 16.4s\tremaining: 4.53s\n",
      "431:\tlearn: 1773.6043377\ttotal: 16.4s\tremaining: 4.49s\n",
      "432:\tlearn: 1773.0631702\ttotal: 16.5s\tremaining: 4.45s\n",
      "433:\tlearn: 1772.8504695\ttotal: 16.5s\tremaining: 4.41s\n",
      "434:\tlearn: 1772.6004769\ttotal: 16.5s\tremaining: 4.37s\n",
      "435:\tlearn: 1772.1647293\ttotal: 16.6s\tremaining: 4.34s\n",
      "436:\tlearn: 1771.9562721\ttotal: 16.6s\tremaining: 4.3s\n",
      "437:\tlearn: 1771.7122997\ttotal: 16.7s\tremaining: 4.26s\n",
      "438:\tlearn: 1771.5035582\ttotal: 16.7s\tremaining: 4.22s\n",
      "439:\tlearn: 1771.2233413\ttotal: 16.7s\tremaining: 4.18s\n",
      "440:\tlearn: 1770.8404916\ttotal: 16.8s\tremaining: 4.14s\n",
      "441:\tlearn: 1770.5187512\ttotal: 16.8s\tremaining: 4.11s\n",
      "442:\tlearn: 1770.0613903\ttotal: 16.9s\tremaining: 4.07s\n",
      "443:\tlearn: 1769.7494812\ttotal: 16.9s\tremaining: 4.03s\n",
      "444:\tlearn: 1769.5046851\ttotal: 16.9s\tremaining: 3.99s\n",
      "445:\tlearn: 1769.0975960\ttotal: 17s\tremaining: 3.96s\n",
      "446:\tlearn: 1768.8599988\ttotal: 17s\tremaining: 3.92s\n",
      "447:\tlearn: 1768.5244903\ttotal: 17s\tremaining: 3.88s\n",
      "448:\tlearn: 1768.1399427\ttotal: 17.1s\tremaining: 3.84s\n",
      "449:\tlearn: 1767.4548457\ttotal: 17.1s\tremaining: 3.81s\n",
      "450:\tlearn: 1767.1661539\ttotal: 17.2s\tremaining: 3.77s\n",
      "451:\tlearn: 1766.6915652\ttotal: 17.2s\tremaining: 3.73s\n",
      "452:\tlearn: 1766.4746399\ttotal: 17.2s\tremaining: 3.69s\n",
      "453:\tlearn: 1766.0859129\ttotal: 17.3s\tremaining: 3.65s\n",
      "454:\tlearn: 1765.8526985\ttotal: 17.3s\tremaining: 3.62s\n",
      "455:\tlearn: 1765.6878986\ttotal: 17.4s\tremaining: 3.58s\n",
      "456:\tlearn: 1765.3462713\ttotal: 17.4s\tremaining: 3.54s\n",
      "457:\tlearn: 1764.8968891\ttotal: 17.4s\tremaining: 3.5s\n",
      "458:\tlearn: 1764.7140934\ttotal: 17.5s\tremaining: 3.46s\n",
      "459:\tlearn: 1764.4817055\ttotal: 17.5s\tremaining: 3.42s\n",
      "460:\tlearn: 1764.2614238\ttotal: 17.5s\tremaining: 3.38s\n",
      "461:\tlearn: 1763.9578573\ttotal: 17.6s\tremaining: 3.35s\n",
      "462:\tlearn: 1763.7066437\ttotal: 17.6s\tremaining: 3.31s\n",
      "463:\tlearn: 1763.2656579\ttotal: 17.6s\tremaining: 3.27s\n",
      "464:\tlearn: 1762.8667611\ttotal: 17.7s\tremaining: 3.23s\n",
      "465:\tlearn: 1762.5957323\ttotal: 17.7s\tremaining: 3.19s\n",
      "466:\tlearn: 1762.1650592\ttotal: 17.8s\tremaining: 3.16s\n",
      "467:\tlearn: 1761.7874566\ttotal: 17.8s\tremaining: 3.12s\n",
      "468:\tlearn: 1761.1747161\ttotal: 17.8s\tremaining: 3.08s\n",
      "469:\tlearn: 1760.8910210\ttotal: 17.9s\tremaining: 3.04s\n",
      "470:\tlearn: 1760.5068882\ttotal: 17.9s\tremaining: 3s\n",
      "471:\tlearn: 1760.0905042\ttotal: 18s\tremaining: 2.97s\n",
      "472:\tlearn: 1759.6414032\ttotal: 18s\tremaining: 2.93s\n",
      "473:\tlearn: 1759.3027800\ttotal: 18s\tremaining: 2.89s\n",
      "474:\tlearn: 1758.9108289\ttotal: 18.1s\tremaining: 2.85s\n",
      "475:\tlearn: 1758.6593338\ttotal: 18.1s\tremaining: 2.82s\n",
      "476:\tlearn: 1758.4887937\ttotal: 18.1s\tremaining: 2.78s\n",
      "477:\tlearn: 1758.1047616\ttotal: 18.2s\tremaining: 2.74s\n",
      "478:\tlearn: 1757.6627192\ttotal: 18.2s\tremaining: 2.7s\n",
      "479:\tlearn: 1757.3851889\ttotal: 18.3s\tremaining: 2.66s\n",
      "480:\tlearn: 1757.1031005\ttotal: 18.3s\tremaining: 2.63s\n",
      "481:\tlearn: 1756.7940345\ttotal: 18.3s\tremaining: 2.59s\n",
      "482:\tlearn: 1756.2657178\ttotal: 18.4s\tremaining: 2.55s\n",
      "483:\tlearn: 1755.9336483\ttotal: 18.4s\tremaining: 2.51s\n",
      "484:\tlearn: 1755.4356277\ttotal: 18.5s\tremaining: 2.47s\n",
      "485:\tlearn: 1755.0865793\ttotal: 18.5s\tremaining: 2.44s\n",
      "486:\tlearn: 1754.8790816\ttotal: 18.5s\tremaining: 2.4s\n",
      "487:\tlearn: 1754.6526804\ttotal: 18.6s\tremaining: 2.36s\n",
      "488:\tlearn: 1754.3421975\ttotal: 18.6s\tremaining: 2.32s\n",
      "489:\tlearn: 1753.9430356\ttotal: 18.7s\tremaining: 2.28s\n",
      "490:\tlearn: 1753.6578105\ttotal: 18.7s\tremaining: 2.25s\n",
      "491:\tlearn: 1753.2114939\ttotal: 18.7s\tremaining: 2.21s\n",
      "492:\tlearn: 1752.9496219\ttotal: 18.8s\tremaining: 2.17s\n",
      "493:\tlearn: 1752.8011337\ttotal: 18.8s\tremaining: 2.13s\n",
      "494:\tlearn: 1752.5506982\ttotal: 18.8s\tremaining: 2.09s\n",
      "495:\tlearn: 1752.1073083\ttotal: 18.9s\tremaining: 2.06s\n",
      "496:\tlearn: 1751.5986024\ttotal: 18.9s\tremaining: 2.02s\n",
      "497:\tlearn: 1751.2306479\ttotal: 19s\tremaining: 1.98s\n",
      "498:\tlearn: 1750.9094221\ttotal: 19s\tremaining: 1.94s\n",
      "499:\tlearn: 1750.6076532\ttotal: 19s\tremaining: 1.9s\n",
      "500:\tlearn: 1750.3239545\ttotal: 19.1s\tremaining: 1.86s\n",
      "501:\tlearn: 1750.0750794\ttotal: 19.1s\tremaining: 1.83s\n",
      "502:\tlearn: 1749.8667679\ttotal: 19.1s\tremaining: 1.79s\n",
      "503:\tlearn: 1749.6684331\ttotal: 19.2s\tremaining: 1.75s\n",
      "504:\tlearn: 1749.3248644\ttotal: 19.2s\tremaining: 1.71s\n",
      "505:\tlearn: 1748.9639201\ttotal: 19.3s\tremaining: 1.67s\n",
      "506:\tlearn: 1748.6505559\ttotal: 19.3s\tremaining: 1.64s\n",
      "507:\tlearn: 1748.4358070\ttotal: 19.3s\tremaining: 1.6s\n",
      "508:\tlearn: 1747.9755294\ttotal: 19.4s\tremaining: 1.56s\n",
      "509:\tlearn: 1747.6762390\ttotal: 19.4s\tremaining: 1.52s\n",
      "510:\tlearn: 1747.4271471\ttotal: 19.4s\tremaining: 1.48s\n",
      "511:\tlearn: 1747.0340856\ttotal: 19.5s\tremaining: 1.45s\n",
      "512:\tlearn: 1746.5824673\ttotal: 19.5s\tremaining: 1.41s\n",
      "513:\tlearn: 1746.2942948\ttotal: 19.5s\tremaining: 1.37s\n",
      "514:\tlearn: 1745.8610418\ttotal: 19.6s\tremaining: 1.33s\n",
      "515:\tlearn: 1745.6043271\ttotal: 19.6s\tremaining: 1.29s\n",
      "516:\tlearn: 1745.2724347\ttotal: 19.7s\tremaining: 1.25s\n",
      "517:\tlearn: 1744.8910873\ttotal: 19.7s\tremaining: 1.22s\n",
      "518:\tlearn: 1744.6134054\ttotal: 19.7s\tremaining: 1.18s\n",
      "519:\tlearn: 1744.4167385\ttotal: 19.8s\tremaining: 1.14s\n",
      "520:\tlearn: 1744.1279270\ttotal: 19.8s\tremaining: 1.1s\n",
      "521:\tlearn: 1743.7529885\ttotal: 19.8s\tremaining: 1.06s\n",
      "522:\tlearn: 1743.4549077\ttotal: 19.9s\tremaining: 1.02s\n",
      "523:\tlearn: 1743.2028394\ttotal: 19.9s\tremaining: 988ms\n",
      "524:\tlearn: 1742.8614367\ttotal: 19.9s\tremaining: 950ms\n",
      "525:\tlearn: 1742.7204038\ttotal: 20s\tremaining: 912ms\n",
      "526:\tlearn: 1742.0623903\ttotal: 20s\tremaining: 874ms\n",
      "527:\tlearn: 1741.8758083\ttotal: 20.1s\tremaining: 836ms\n",
      "528:\tlearn: 1741.4613796\ttotal: 20.1s\tremaining: 798ms\n",
      "529:\tlearn: 1741.0642989\ttotal: 20.1s\tremaining: 760ms\n",
      "530:\tlearn: 1740.6995489\ttotal: 20.2s\tremaining: 722ms\n",
      "531:\tlearn: 1740.4052369\ttotal: 20.2s\tremaining: 684ms\n",
      "532:\tlearn: 1740.2024779\ttotal: 20.2s\tremaining: 646ms\n",
      "533:\tlearn: 1739.9790982\ttotal: 20.3s\tremaining: 608ms\n",
      "534:\tlearn: 1739.7108130\ttotal: 20.3s\tremaining: 570ms\n",
      "535:\tlearn: 1739.5640003\ttotal: 20.4s\tremaining: 532ms\n",
      "536:\tlearn: 1739.2199635\ttotal: 20.4s\tremaining: 494ms\n",
      "537:\tlearn: 1738.8243603\ttotal: 20.5s\tremaining: 456ms\n",
      "538:\tlearn: 1738.4769448\ttotal: 20.5s\tremaining: 419ms\n",
      "539:\tlearn: 1738.2196318\ttotal: 20.6s\tremaining: 381ms\n",
      "540:\tlearn: 1738.1239450\ttotal: 20.6s\tremaining: 343ms\n",
      "541:\tlearn: 1737.8934067\ttotal: 20.7s\tremaining: 305ms\n",
      "542:\tlearn: 1737.6027318\ttotal: 20.7s\tremaining: 267ms\n",
      "543:\tlearn: 1737.1907351\ttotal: 20.8s\tremaining: 229ms\n",
      "544:\tlearn: 1737.0476081\ttotal: 20.8s\tremaining: 191ms\n",
      "545:\tlearn: 1736.8994787\ttotal: 20.8s\tremaining: 153ms\n",
      "546:\tlearn: 1736.7102659\ttotal: 20.9s\tremaining: 114ms\n",
      "547:\tlearn: 1736.4254920\ttotal: 20.9s\tremaining: 76.3ms\n",
      "548:\tlearn: 1736.1469129\ttotal: 20.9s\tremaining: 38.1ms\n",
      "549:\tlearn: 1735.6329610\ttotal: 21s\tremaining: 0us\n"
     ]
    },
    {
     "name": "stderr",
     "output_type": "stream",
     "text": [
      "\u001b[32m[I 2022-04-26 13:56:47,407]\u001b[0m Trial 0 finished with value: 1899.61943809072 and parameters: {'max_depth': 8, 'n_estimators': 550}. Best is trial 0 with value: 1899.61943809072.\u001b[0m\n"
     ]
    },
    {
     "name": "stdout",
     "output_type": "stream",
     "text": [
      "CPU times: user 21.3 s, sys: 169 ms, total: 21.4 s\n",
      "Wall time: 22.8 s\n"
     ]
    }
   ],
   "source": [
    "%%time\n",
    "def cat(trial):\n",
    "    params = {\n",
    "        \"max_depth\": trial.suggest_int(\"max_depth\", 5, 13, step = 1),\n",
    "        \"n_estimators\": trial.suggest_int(\"n_estimators\", 80, 1200, step = 5),\n",
    "    }\n",
    "    reg = CatBoostRegressor(**params)\n",
    "    reg.fit(features_train, target_train)\n",
    "    y_pred = reg.predict(features_valid)\n",
    "    rmse = mean_squared_error(target_valid, y_pred)**0.5\n",
    "    return rmse\n",
    "\n",
    "study = optuna.create_study()\n",
    "study.optimize(cat, n_trials = 100, timeout = 6)"
   ]
  },
  {
   "cell_type": "code",
   "execution_count": 58,
   "metadata": {},
   "outputs": [
    {
     "data": {
      "text/plain": [
       "{'max_depth': 8, 'n_estimators': 550}"
      ]
     },
     "execution_count": 58,
     "metadata": {},
     "output_type": "execute_result"
    }
   ],
   "source": [
    "study.best_params"
   ]
  },
  {
   "cell_type": "code",
   "execution_count": 62,
   "metadata": {},
   "outputs": [],
   "source": [
    "model_cat = CatBoostRegressor(max_depth = 8, n_estimators = 550, loss_function='RMSE')"
   ]
  },
  {
   "cell_type": "code",
   "execution_count": 63,
   "metadata": {},
   "outputs": [
    {
     "name": "stderr",
     "output_type": "stream",
     "text": [
      "Custom logger is already specified. Specify more than one logger at same time is not thread safe."
     ]
    },
    {
     "name": "stdout",
     "output_type": "stream",
     "text": [
      "Learning rate set to 0.155241\n",
      "0:\tlearn: 4052.8277931\ttotal: 43.9ms\tremaining: 24.1s\n",
      "1:\tlearn: 3688.2816305\ttotal: 82.6ms\tremaining: 22.6s\n",
      "2:\tlearn: 3379.5516512\ttotal: 125ms\tremaining: 22.8s\n",
      "3:\tlearn: 3143.0548009\ttotal: 167ms\tremaining: 22.8s\n",
      "4:\tlearn: 2951.9618816\ttotal: 208ms\tremaining: 22.7s\n",
      "5:\tlearn: 2796.0838642\ttotal: 251ms\tremaining: 22.7s\n",
      "6:\tlearn: 2665.8121649\ttotal: 294ms\tremaining: 22.8s\n",
      "7:\tlearn: 2567.0733710\ttotal: 334ms\tremaining: 22.6s\n",
      "8:\tlearn: 2487.6891312\ttotal: 375ms\tremaining: 22.5s\n",
      "9:\tlearn: 2425.6496622\ttotal: 415ms\tremaining: 22.4s\n",
      "10:\tlearn: 2370.1064944\ttotal: 454ms\tremaining: 22.2s\n",
      "11:\tlearn: 2328.2421514\ttotal: 496ms\tremaining: 22.2s\n",
      "12:\tlearn: 2290.2928448\ttotal: 532ms\tremaining: 22s\n",
      "13:\tlearn: 2259.7605089\ttotal: 568ms\tremaining: 21.7s\n",
      "14:\tlearn: 2233.8733566\ttotal: 605ms\tremaining: 21.6s\n",
      "15:\tlearn: 2210.3092576\ttotal: 640ms\tremaining: 21.4s\n",
      "16:\tlearn: 2192.3881356\ttotal: 673ms\tremaining: 21.1s\n",
      "17:\tlearn: 2175.9495137\ttotal: 707ms\tremaining: 20.9s\n",
      "18:\tlearn: 2163.8082605\ttotal: 741ms\tremaining: 20.7s\n",
      "19:\tlearn: 2152.4865728\ttotal: 776ms\tremaining: 20.6s\n",
      "20:\tlearn: 2141.9641942\ttotal: 812ms\tremaining: 20.5s\n",
      "21:\tlearn: 2131.6913950\ttotal: 848ms\tremaining: 20.3s\n",
      "22:\tlearn: 2123.8128271\ttotal: 882ms\tremaining: 20.2s\n",
      "23:\tlearn: 2115.4066823\ttotal: 918ms\tremaining: 20.1s\n",
      "24:\tlearn: 2108.8933445\ttotal: 952ms\tremaining: 20s\n",
      "25:\tlearn: 2103.2333237\ttotal: 985ms\tremaining: 19.9s\n",
      "26:\tlearn: 2097.9325988\ttotal: 1.02s\tremaining: 19.8s\n",
      "27:\tlearn: 2093.1809614\ttotal: 1.05s\tremaining: 19.6s\n",
      "28:\tlearn: 2088.1423627\ttotal: 1.09s\tremaining: 19.6s\n",
      "29:\tlearn: 2084.2540838\ttotal: 1.12s\tremaining: 19.5s\n",
      "30:\tlearn: 2078.8220439\ttotal: 1.16s\tremaining: 19.4s\n",
      "31:\tlearn: 2075.8118409\ttotal: 1.19s\tremaining: 19.3s\n",
      "32:\tlearn: 2071.7866998\ttotal: 1.23s\tremaining: 19.3s\n",
      "33:\tlearn: 2067.1191872\ttotal: 1.27s\tremaining: 19.2s\n",
      "34:\tlearn: 2062.5581332\ttotal: 1.3s\tremaining: 19.2s\n",
      "35:\tlearn: 2059.2987575\ttotal: 1.34s\tremaining: 19.1s\n",
      "36:\tlearn: 2055.6747483\ttotal: 1.38s\tremaining: 19.1s\n",
      "37:\tlearn: 2051.2864566\ttotal: 1.41s\tremaining: 19s\n",
      "38:\tlearn: 2049.2567461\ttotal: 1.44s\tremaining: 18.9s\n",
      "39:\tlearn: 2046.1142399\ttotal: 1.48s\tremaining: 18.9s\n",
      "40:\tlearn: 2043.2185832\ttotal: 1.52s\tremaining: 18.9s\n",
      "41:\tlearn: 2040.6956744\ttotal: 1.55s\tremaining: 18.8s\n",
      "42:\tlearn: 2038.5621565\ttotal: 1.59s\tremaining: 18.8s\n",
      "43:\tlearn: 2035.7858299\ttotal: 1.63s\tremaining: 18.7s\n",
      "44:\tlearn: 2033.2499131\ttotal: 1.66s\tremaining: 18.7s\n",
      "45:\tlearn: 2031.5759668\ttotal: 1.69s\tremaining: 18.6s\n",
      "46:\tlearn: 2030.3121083\ttotal: 1.73s\tremaining: 18.5s\n",
      "47:\tlearn: 2028.0466483\ttotal: 1.77s\tremaining: 18.5s\n",
      "48:\tlearn: 2025.4220975\ttotal: 1.81s\tremaining: 18.5s\n",
      "49:\tlearn: 2023.8938436\ttotal: 1.84s\tremaining: 18.4s\n",
      "50:\tlearn: 2021.3085931\ttotal: 1.88s\tremaining: 18.4s\n",
      "51:\tlearn: 2019.0898746\ttotal: 1.92s\tremaining: 18.3s\n",
      "52:\tlearn: 2017.2147913\ttotal: 1.95s\tremaining: 18.3s\n",
      "53:\tlearn: 2015.0517706\ttotal: 1.99s\tremaining: 18.3s\n",
      "54:\tlearn: 2012.6371161\ttotal: 2.03s\tremaining: 18.2s\n",
      "55:\tlearn: 2010.6162775\ttotal: 2.06s\tremaining: 18.2s\n",
      "56:\tlearn: 2008.8084760\ttotal: 2.1s\tremaining: 18.2s\n",
      "57:\tlearn: 2006.6616849\ttotal: 2.13s\tremaining: 18.1s\n",
      "58:\tlearn: 2005.3324767\ttotal: 2.17s\tremaining: 18s\n",
      "59:\tlearn: 2003.9798552\ttotal: 2.2s\tremaining: 18s\n",
      "60:\tlearn: 2003.1114738\ttotal: 2.24s\tremaining: 18s\n",
      "61:\tlearn: 2001.2250126\ttotal: 2.28s\tremaining: 18s\n",
      "62:\tlearn: 1999.9306862\ttotal: 2.32s\tremaining: 17.9s\n",
      "63:\tlearn: 1998.6615654\ttotal: 2.35s\tremaining: 17.9s\n",
      "64:\tlearn: 1996.3666966\ttotal: 2.39s\tremaining: 17.8s\n",
      "65:\tlearn: 1994.9440919\ttotal: 2.42s\tremaining: 17.8s\n",
      "66:\tlearn: 1993.4168685\ttotal: 2.46s\tremaining: 17.7s\n",
      "67:\tlearn: 1992.1041221\ttotal: 2.49s\tremaining: 17.7s\n",
      "68:\tlearn: 1991.5556279\ttotal: 2.52s\tremaining: 17.6s\n",
      "69:\tlearn: 1990.4997600\ttotal: 2.56s\tremaining: 17.5s\n",
      "70:\tlearn: 1989.2277081\ttotal: 2.59s\tremaining: 17.5s\n",
      "71:\tlearn: 1987.6093008\ttotal: 2.64s\tremaining: 17.5s\n",
      "72:\tlearn: 1985.7136491\ttotal: 2.67s\tremaining: 17.5s\n",
      "73:\tlearn: 1983.5026658\ttotal: 2.7s\tremaining: 17.4s\n",
      "74:\tlearn: 1981.8761054\ttotal: 2.74s\tremaining: 17.3s\n",
      "75:\tlearn: 1980.8767651\ttotal: 2.77s\tremaining: 17.3s\n",
      "76:\tlearn: 1979.6396631\ttotal: 2.81s\tremaining: 17.2s\n",
      "77:\tlearn: 1978.7941439\ttotal: 2.84s\tremaining: 17.2s\n",
      "78:\tlearn: 1977.2895068\ttotal: 2.88s\tremaining: 17.2s\n",
      "79:\tlearn: 1976.5123097\ttotal: 2.91s\tremaining: 17.1s\n",
      "80:\tlearn: 1974.1944717\ttotal: 2.95s\tremaining: 17.1s\n",
      "81:\tlearn: 1972.3906982\ttotal: 2.99s\tremaining: 17.1s\n",
      "82:\tlearn: 1971.5532759\ttotal: 3.03s\tremaining: 17s\n",
      "83:\tlearn: 1969.8769564\ttotal: 3.06s\tremaining: 17s\n",
      "84:\tlearn: 1968.2491453\ttotal: 3.1s\tremaining: 17s\n",
      "85:\tlearn: 1967.3345341\ttotal: 3.13s\tremaining: 16.9s\n",
      "86:\tlearn: 1965.9162387\ttotal: 3.16s\tremaining: 16.8s\n",
      "87:\tlearn: 1964.6088875\ttotal: 3.2s\tremaining: 16.8s\n",
      "88:\tlearn: 1963.4660474\ttotal: 3.23s\tremaining: 16.7s\n",
      "89:\tlearn: 1961.9106030\ttotal: 3.27s\tremaining: 16.7s\n",
      "90:\tlearn: 1961.1886461\ttotal: 3.3s\tremaining: 16.6s\n",
      "91:\tlearn: 1960.5213088\ttotal: 3.33s\tremaining: 16.6s\n",
      "92:\tlearn: 1958.8231376\ttotal: 3.37s\tremaining: 16.6s\n",
      "93:\tlearn: 1957.7974865\ttotal: 3.41s\tremaining: 16.5s\n",
      "94:\tlearn: 1956.1240105\ttotal: 3.45s\tremaining: 16.5s\n",
      "95:\tlearn: 1954.8218181\ttotal: 3.49s\tremaining: 16.5s\n",
      "96:\tlearn: 1954.0752224\ttotal: 3.52s\tremaining: 16.4s\n",
      "97:\tlearn: 1952.7026403\ttotal: 3.56s\tremaining: 16.4s\n",
      "98:\tlearn: 1951.8884937\ttotal: 3.59s\tremaining: 16.4s\n",
      "99:\tlearn: 1951.1557985\ttotal: 3.62s\tremaining: 16.3s\n",
      "100:\tlearn: 1949.8364400\ttotal: 3.66s\tremaining: 16.3s\n",
      "101:\tlearn: 1948.9641428\ttotal: 3.7s\tremaining: 16.3s\n",
      "102:\tlearn: 1948.3996531\ttotal: 3.73s\tremaining: 16.2s\n",
      "103:\tlearn: 1947.5880181\ttotal: 3.77s\tremaining: 16.1s\n",
      "104:\tlearn: 1946.1337129\ttotal: 3.8s\tremaining: 16.1s\n",
      "105:\tlearn: 1945.3270151\ttotal: 3.83s\tremaining: 16.1s\n",
      "106:\tlearn: 1944.8093275\ttotal: 3.87s\tremaining: 16s\n",
      "107:\tlearn: 1943.1127824\ttotal: 3.91s\tremaining: 16s\n",
      "108:\tlearn: 1942.3423203\ttotal: 3.94s\tremaining: 15.9s\n",
      "109:\tlearn: 1941.9219549\ttotal: 3.97s\tremaining: 15.9s\n",
      "110:\tlearn: 1941.0784787\ttotal: 4.01s\tremaining: 15.9s\n",
      "111:\tlearn: 1939.9083405\ttotal: 4.05s\tremaining: 15.8s\n",
      "112:\tlearn: 1938.2826890\ttotal: 4.09s\tremaining: 15.8s\n",
      "113:\tlearn: 1937.3101049\ttotal: 4.13s\tremaining: 15.8s\n",
      "114:\tlearn: 1936.6848081\ttotal: 4.16s\tremaining: 15.7s\n",
      "115:\tlearn: 1936.3816461\ttotal: 4.19s\tremaining: 15.7s\n",
      "116:\tlearn: 1935.3557902\ttotal: 4.23s\tremaining: 15.6s\n",
      "117:\tlearn: 1934.4602802\ttotal: 4.26s\tremaining: 15.6s\n",
      "118:\tlearn: 1932.8469074\ttotal: 4.3s\tremaining: 15.6s\n",
      "119:\tlearn: 1931.8551724\ttotal: 4.33s\tremaining: 15.5s\n",
      "120:\tlearn: 1930.8734950\ttotal: 4.37s\tremaining: 15.5s\n",
      "121:\tlearn: 1929.6443834\ttotal: 4.41s\tremaining: 15.5s\n",
      "122:\tlearn: 1928.4478357\ttotal: 4.44s\tremaining: 15.4s\n",
      "123:\tlearn: 1927.8781876\ttotal: 4.48s\tremaining: 15.4s\n",
      "124:\tlearn: 1927.2894966\ttotal: 4.51s\tremaining: 15.4s\n",
      "125:\tlearn: 1926.7555197\ttotal: 4.55s\tremaining: 15.3s\n",
      "126:\tlearn: 1925.9296378\ttotal: 4.59s\tremaining: 15.3s\n",
      "127:\tlearn: 1924.9175060\ttotal: 4.62s\tremaining: 15.2s\n",
      "128:\tlearn: 1923.9371011\ttotal: 4.66s\tremaining: 15.2s\n",
      "129:\tlearn: 1923.2147867\ttotal: 4.7s\tremaining: 15.2s\n",
      "130:\tlearn: 1922.5049363\ttotal: 4.73s\tremaining: 15.1s\n",
      "131:\tlearn: 1922.0306838\ttotal: 4.76s\tremaining: 15.1s\n",
      "132:\tlearn: 1921.3597358\ttotal: 4.8s\tremaining: 15s\n",
      "133:\tlearn: 1920.4699490\ttotal: 4.83s\tremaining: 15s\n",
      "134:\tlearn: 1919.4693675\ttotal: 4.87s\tremaining: 15s\n",
      "135:\tlearn: 1918.5835171\ttotal: 4.91s\tremaining: 14.9s\n",
      "136:\tlearn: 1917.7172537\ttotal: 4.94s\tremaining: 14.9s\n",
      "137:\tlearn: 1917.0799255\ttotal: 5.08s\tremaining: 15.2s\n",
      "138:\tlearn: 1916.3744242\ttotal: 5.11s\tremaining: 15.1s\n",
      "139:\tlearn: 1915.7609799\ttotal: 5.15s\tremaining: 15.1s\n",
      "140:\tlearn: 1915.3849193\ttotal: 5.18s\tremaining: 15s\n",
      "141:\tlearn: 1914.0800879\ttotal: 5.22s\tremaining: 15s\n",
      "142:\tlearn: 1912.9943874\ttotal: 5.26s\tremaining: 15s\n",
      "143:\tlearn: 1912.1545797\ttotal: 5.3s\tremaining: 14.9s\n",
      "144:\tlearn: 1911.1942674\ttotal: 5.33s\tremaining: 14.9s\n",
      "145:\tlearn: 1910.5876695\ttotal: 5.37s\tremaining: 14.8s\n",
      "146:\tlearn: 1909.8356520\ttotal: 5.4s\tremaining: 14.8s\n",
      "147:\tlearn: 1908.8337533\ttotal: 5.44s\tremaining: 14.8s\n",
      "148:\tlearn: 1908.1304977\ttotal: 5.47s\tremaining: 14.7s\n",
      "149:\tlearn: 1907.6562820\ttotal: 5.51s\tremaining: 14.7s\n",
      "150:\tlearn: 1907.0479440\ttotal: 5.54s\tremaining: 14.6s\n",
      "151:\tlearn: 1906.5628143\ttotal: 5.57s\tremaining: 14.6s\n",
      "152:\tlearn: 1905.6086024\ttotal: 5.61s\tremaining: 14.6s\n",
      "153:\tlearn: 1904.5725196\ttotal: 5.65s\tremaining: 14.5s\n",
      "154:\tlearn: 1904.0101477\ttotal: 5.69s\tremaining: 14.5s\n",
      "155:\tlearn: 1903.2294147\ttotal: 5.72s\tremaining: 14.5s\n",
      "156:\tlearn: 1902.6813359\ttotal: 5.76s\tremaining: 14.4s\n",
      "157:\tlearn: 1902.0854328\ttotal: 5.79s\tremaining: 14.4s\n",
      "158:\tlearn: 1901.3367976\ttotal: 5.83s\tremaining: 14.3s\n",
      "159:\tlearn: 1900.6318059\ttotal: 5.87s\tremaining: 14.3s\n",
      "160:\tlearn: 1898.9416888\ttotal: 5.91s\tremaining: 14.3s\n",
      "161:\tlearn: 1898.0936382\ttotal: 5.95s\tremaining: 14.2s\n",
      "162:\tlearn: 1897.5846661\ttotal: 5.98s\tremaining: 14.2s\n",
      "163:\tlearn: 1897.1565000\ttotal: 6.02s\tremaining: 14.2s\n",
      "164:\tlearn: 1896.7127230\ttotal: 6.05s\tremaining: 14.1s\n",
      "165:\tlearn: 1896.2145729\ttotal: 6.09s\tremaining: 14.1s\n",
      "166:\tlearn: 1895.6035682\ttotal: 6.13s\tremaining: 14s\n",
      "167:\tlearn: 1895.0498739\ttotal: 6.16s\tremaining: 14s\n",
      "168:\tlearn: 1894.4139832\ttotal: 6.19s\tremaining: 14s\n",
      "169:\tlearn: 1893.3643891\ttotal: 6.24s\tremaining: 13.9s\n",
      "170:\tlearn: 1892.4280445\ttotal: 6.28s\tremaining: 13.9s\n",
      "171:\tlearn: 1891.6842159\ttotal: 6.31s\tremaining: 13.9s\n",
      "172:\tlearn: 1890.9643070\ttotal: 6.35s\tremaining: 13.8s\n",
      "173:\tlearn: 1890.0243745\ttotal: 6.38s\tremaining: 13.8s\n",
      "174:\tlearn: 1889.6101466\ttotal: 6.42s\tremaining: 13.7s\n",
      "175:\tlearn: 1888.7741317\ttotal: 6.45s\tremaining: 13.7s\n",
      "176:\tlearn: 1888.1887924\ttotal: 6.49s\tremaining: 13.7s\n",
      "177:\tlearn: 1887.3095948\ttotal: 6.53s\tremaining: 13.6s\n",
      "178:\tlearn: 1886.8634070\ttotal: 6.56s\tremaining: 13.6s\n",
      "179:\tlearn: 1886.3370018\ttotal: 6.59s\tremaining: 13.6s\n",
      "180:\tlearn: 1885.5868058\ttotal: 6.63s\tremaining: 13.5s\n",
      "181:\tlearn: 1884.6296558\ttotal: 6.67s\tremaining: 13.5s\n",
      "182:\tlearn: 1883.7225102\ttotal: 6.7s\tremaining: 13.4s\n",
      "183:\tlearn: 1883.3119279\ttotal: 6.74s\tremaining: 13.4s\n",
      "184:\tlearn: 1882.8581624\ttotal: 6.78s\tremaining: 13.4s\n",
      "185:\tlearn: 1882.2682565\ttotal: 6.82s\tremaining: 13.3s\n",
      "186:\tlearn: 1881.6563474\ttotal: 6.85s\tremaining: 13.3s\n",
      "187:\tlearn: 1881.1195684\ttotal: 6.89s\tremaining: 13.3s\n",
      "188:\tlearn: 1880.5382004\ttotal: 6.92s\tremaining: 13.2s\n",
      "189:\tlearn: 1879.6129330\ttotal: 6.97s\tremaining: 13.2s\n",
      "190:\tlearn: 1878.7983148\ttotal: 7.01s\tremaining: 13.2s\n",
      "191:\tlearn: 1878.0723570\ttotal: 7.05s\tremaining: 13.1s\n",
      "192:\tlearn: 1877.3765216\ttotal: 7.08s\tremaining: 13.1s\n",
      "193:\tlearn: 1876.8010595\ttotal: 7.12s\tremaining: 13.1s\n",
      "194:\tlearn: 1876.0621392\ttotal: 7.16s\tremaining: 13s\n",
      "195:\tlearn: 1875.8331404\ttotal: 7.2s\tremaining: 13s\n",
      "196:\tlearn: 1875.5592032\ttotal: 7.23s\tremaining: 13s\n",
      "197:\tlearn: 1874.9467851\ttotal: 7.26s\tremaining: 12.9s\n",
      "198:\tlearn: 1874.4482842\ttotal: 7.3s\tremaining: 12.9s\n",
      "199:\tlearn: 1873.6798234\ttotal: 7.34s\tremaining: 12.8s\n",
      "200:\tlearn: 1873.1015792\ttotal: 7.38s\tremaining: 12.8s\n",
      "201:\tlearn: 1872.6066813\ttotal: 7.41s\tremaining: 12.8s\n",
      "202:\tlearn: 1872.3805796\ttotal: 7.45s\tremaining: 12.7s\n",
      "203:\tlearn: 1871.6324047\ttotal: 7.48s\tremaining: 12.7s\n",
      "204:\tlearn: 1871.2225203\ttotal: 7.51s\tremaining: 12.6s\n",
      "205:\tlearn: 1870.4901724\ttotal: 7.55s\tremaining: 12.6s\n",
      "206:\tlearn: 1870.0694127\ttotal: 7.58s\tremaining: 12.6s\n",
      "207:\tlearn: 1869.6766165\ttotal: 7.62s\tremaining: 12.5s\n",
      "208:\tlearn: 1869.1486934\ttotal: 7.66s\tremaining: 12.5s\n",
      "209:\tlearn: 1868.4038130\ttotal: 7.69s\tremaining: 12.5s\n",
      "210:\tlearn: 1867.6386020\ttotal: 7.74s\tremaining: 12.4s\n",
      "211:\tlearn: 1867.2221047\ttotal: 7.77s\tremaining: 12.4s\n",
      "212:\tlearn: 1866.6676542\ttotal: 7.81s\tremaining: 12.4s\n",
      "213:\tlearn: 1865.7755523\ttotal: 7.85s\tremaining: 12.3s\n",
      "214:\tlearn: 1865.3082152\ttotal: 7.89s\tremaining: 12.3s\n",
      "215:\tlearn: 1864.4977667\ttotal: 7.92s\tremaining: 12.3s\n",
      "216:\tlearn: 1863.8814973\ttotal: 7.97s\tremaining: 12.2s\n",
      "217:\tlearn: 1863.5884133\ttotal: 8s\tremaining: 12.2s\n",
      "218:\tlearn: 1862.9568938\ttotal: 8.05s\tremaining: 12.2s\n",
      "219:\tlearn: 1862.6072853\ttotal: 8.09s\tremaining: 12.1s\n",
      "220:\tlearn: 1861.8985565\ttotal: 8.13s\tremaining: 12.1s\n",
      "221:\tlearn: 1861.2108578\ttotal: 8.16s\tremaining: 12.1s\n",
      "222:\tlearn: 1860.3741816\ttotal: 8.21s\tremaining: 12s\n",
      "223:\tlearn: 1859.9539083\ttotal: 8.24s\tremaining: 12s\n",
      "224:\tlearn: 1859.3789606\ttotal: 8.28s\tremaining: 12s\n",
      "225:\tlearn: 1859.1266730\ttotal: 8.31s\tremaining: 11.9s\n",
      "226:\tlearn: 1858.6627941\ttotal: 8.35s\tremaining: 11.9s\n",
      "227:\tlearn: 1858.0258583\ttotal: 8.39s\tremaining: 11.8s\n",
      "228:\tlearn: 1857.4405624\ttotal: 8.43s\tremaining: 11.8s\n",
      "229:\tlearn: 1856.7562962\ttotal: 8.46s\tremaining: 11.8s\n",
      "230:\tlearn: 1856.1787510\ttotal: 8.5s\tremaining: 11.7s\n",
      "231:\tlearn: 1855.8052013\ttotal: 8.54s\tremaining: 11.7s\n",
      "232:\tlearn: 1855.2699980\ttotal: 8.57s\tremaining: 11.7s\n",
      "233:\tlearn: 1854.6676707\ttotal: 8.62s\tremaining: 11.6s\n",
      "234:\tlearn: 1854.2635677\ttotal: 8.65s\tremaining: 11.6s\n",
      "235:\tlearn: 1853.3602087\ttotal: 8.69s\tremaining: 11.6s\n",
      "236:\tlearn: 1852.9219251\ttotal: 8.72s\tremaining: 11.5s\n",
      "237:\tlearn: 1852.6487357\ttotal: 8.76s\tremaining: 11.5s\n",
      "238:\tlearn: 1851.9908827\ttotal: 8.79s\tremaining: 11.4s\n",
      "239:\tlearn: 1851.6712146\ttotal: 8.83s\tremaining: 11.4s\n",
      "240:\tlearn: 1850.7478976\ttotal: 8.87s\tremaining: 11.4s\n",
      "241:\tlearn: 1850.3736701\ttotal: 8.9s\tremaining: 11.3s\n",
      "242:\tlearn: 1849.8677834\ttotal: 8.94s\tremaining: 11.3s\n",
      "243:\tlearn: 1849.5821791\ttotal: 8.98s\tremaining: 11.3s\n",
      "244:\tlearn: 1849.1031460\ttotal: 9.01s\tremaining: 11.2s\n",
      "245:\tlearn: 1848.5138558\ttotal: 9.05s\tremaining: 11.2s\n",
      "246:\tlearn: 1848.0716530\ttotal: 9.08s\tremaining: 11.1s\n",
      "247:\tlearn: 1847.6347878\ttotal: 9.12s\tremaining: 11.1s\n",
      "248:\tlearn: 1847.0518076\ttotal: 9.16s\tremaining: 11.1s\n",
      "249:\tlearn: 1846.4445269\ttotal: 9.19s\tremaining: 11s\n",
      "250:\tlearn: 1845.9751763\ttotal: 9.22s\tremaining: 11s\n",
      "251:\tlearn: 1845.5342039\ttotal: 9.26s\tremaining: 10.9s\n",
      "252:\tlearn: 1845.1651690\ttotal: 9.29s\tremaining: 10.9s\n",
      "253:\tlearn: 1844.6136792\ttotal: 9.33s\tremaining: 10.9s\n",
      "254:\tlearn: 1843.9647328\ttotal: 9.36s\tremaining: 10.8s\n",
      "255:\tlearn: 1843.5141626\ttotal: 9.4s\tremaining: 10.8s\n",
      "256:\tlearn: 1843.1839948\ttotal: 9.44s\tremaining: 10.8s\n",
      "257:\tlearn: 1842.8113374\ttotal: 9.47s\tremaining: 10.7s\n",
      "258:\tlearn: 1842.3838635\ttotal: 9.5s\tremaining: 10.7s\n",
      "259:\tlearn: 1842.0352465\ttotal: 9.53s\tremaining: 10.6s\n",
      "260:\tlearn: 1841.4928219\ttotal: 9.57s\tremaining: 10.6s\n",
      "261:\tlearn: 1840.7814271\ttotal: 9.61s\tremaining: 10.6s\n",
      "262:\tlearn: 1840.2678986\ttotal: 9.64s\tremaining: 10.5s\n",
      "263:\tlearn: 1839.9172546\ttotal: 9.68s\tremaining: 10.5s\n",
      "264:\tlearn: 1839.4464732\ttotal: 9.71s\tremaining: 10.4s\n",
      "265:\tlearn: 1838.9572229\ttotal: 9.75s\tremaining: 10.4s\n",
      "266:\tlearn: 1838.7302084\ttotal: 9.78s\tremaining: 10.4s\n",
      "267:\tlearn: 1838.1285197\ttotal: 9.82s\tremaining: 10.3s\n",
      "268:\tlearn: 1837.7750350\ttotal: 9.86s\tremaining: 10.3s\n",
      "269:\tlearn: 1837.4812052\ttotal: 9.89s\tremaining: 10.3s\n",
      "270:\tlearn: 1837.1036461\ttotal: 9.93s\tremaining: 10.2s\n",
      "271:\tlearn: 1836.6735187\ttotal: 9.96s\tremaining: 10.2s\n",
      "272:\tlearn: 1836.0684827\ttotal: 10s\tremaining: 10.2s\n",
      "273:\tlearn: 1835.6245483\ttotal: 10s\tremaining: 10.1s\n",
      "274:\tlearn: 1835.2581451\ttotal: 10.1s\tremaining: 10.1s\n",
      "275:\tlearn: 1834.8147719\ttotal: 10.1s\tremaining: 10s\n",
      "276:\tlearn: 1834.6869094\ttotal: 10.1s\tremaining: 10s\n",
      "277:\tlearn: 1834.1857700\ttotal: 10.2s\tremaining: 9.97s\n",
      "278:\tlearn: 1833.5534614\ttotal: 10.2s\tremaining: 9.94s\n",
      "279:\tlearn: 1833.0398023\ttotal: 10.3s\tremaining: 9.9s\n",
      "280:\tlearn: 1832.3701757\ttotal: 10.3s\tremaining: 9.87s\n",
      "281:\tlearn: 1831.6584067\ttotal: 10.4s\tremaining: 9.84s\n",
      "282:\tlearn: 1831.0282520\ttotal: 10.4s\tremaining: 9.8s\n",
      "283:\tlearn: 1830.6411452\ttotal: 10.4s\tremaining: 9.76s\n",
      "284:\tlearn: 1830.1975286\ttotal: 10.5s\tremaining: 9.73s\n",
      "285:\tlearn: 1829.9641791\ttotal: 10.5s\tremaining: 9.69s\n",
      "286:\tlearn: 1829.5298187\ttotal: 10.5s\tremaining: 9.65s\n",
      "287:\tlearn: 1829.0605661\ttotal: 10.6s\tremaining: 9.61s\n",
      "288:\tlearn: 1828.6291064\ttotal: 10.6s\tremaining: 9.58s\n",
      "289:\tlearn: 1828.3002848\ttotal: 10.6s\tremaining: 9.54s\n",
      "290:\tlearn: 1827.7949831\ttotal: 10.7s\tremaining: 9.5s\n",
      "291:\tlearn: 1827.1405087\ttotal: 10.7s\tremaining: 9.46s\n",
      "292:\tlearn: 1826.8952059\ttotal: 10.7s\tremaining: 9.42s\n",
      "293:\tlearn: 1826.4710123\ttotal: 10.8s\tremaining: 9.38s\n",
      "294:\tlearn: 1826.1493410\ttotal: 10.8s\tremaining: 9.34s\n",
      "295:\tlearn: 1825.4267874\ttotal: 10.8s\tremaining: 9.3s\n",
      "296:\tlearn: 1824.8745920\ttotal: 10.9s\tremaining: 9.27s\n",
      "297:\tlearn: 1824.6838569\ttotal: 10.9s\tremaining: 9.23s\n",
      "298:\tlearn: 1824.1423085\ttotal: 11s\tremaining: 9.19s\n",
      "299:\tlearn: 1823.6321953\ttotal: 11s\tremaining: 9.16s\n",
      "300:\tlearn: 1823.1634309\ttotal: 11s\tremaining: 9.13s\n",
      "301:\tlearn: 1822.6539265\ttotal: 11.1s\tremaining: 9.09s\n",
      "302:\tlearn: 1822.2620817\ttotal: 11.1s\tremaining: 9.05s\n",
      "303:\tlearn: 1821.7155336\ttotal: 11.1s\tremaining: 9.01s\n",
      "304:\tlearn: 1821.2076478\ttotal: 11.2s\tremaining: 8.97s\n",
      "305:\tlearn: 1820.8431564\ttotal: 11.2s\tremaining: 8.94s\n",
      "306:\tlearn: 1820.4690660\ttotal: 11.2s\tremaining: 8.9s\n",
      "307:\tlearn: 1820.3901029\ttotal: 11.3s\tremaining: 8.86s\n",
      "308:\tlearn: 1820.0153158\ttotal: 11.3s\tremaining: 8.82s\n",
      "309:\tlearn: 1819.6894723\ttotal: 11.3s\tremaining: 8.78s\n",
      "310:\tlearn: 1819.4438106\ttotal: 11.4s\tremaining: 8.74s\n",
      "311:\tlearn: 1819.0187465\ttotal: 11.4s\tremaining: 8.7s\n",
      "312:\tlearn: 1818.5344375\ttotal: 11.4s\tremaining: 8.67s\n",
      "313:\tlearn: 1818.1283242\ttotal: 11.5s\tremaining: 8.63s\n",
      "314:\tlearn: 1817.4764105\ttotal: 11.5s\tremaining: 8.59s\n",
      "315:\tlearn: 1816.9875155\ttotal: 11.6s\tremaining: 8.55s\n",
      "316:\tlearn: 1816.6203517\ttotal: 11.6s\tremaining: 8.52s\n",
      "317:\tlearn: 1816.2043619\ttotal: 11.6s\tremaining: 8.48s\n",
      "318:\tlearn: 1815.8982708\ttotal: 11.7s\tremaining: 8.44s\n",
      "319:\tlearn: 1815.2118115\ttotal: 11.7s\tremaining: 8.41s\n",
      "320:\tlearn: 1814.9250661\ttotal: 11.7s\tremaining: 8.37s\n",
      "321:\tlearn: 1814.2650563\ttotal: 11.8s\tremaining: 8.34s\n",
      "322:\tlearn: 1813.9566428\ttotal: 11.8s\tremaining: 8.3s\n",
      "323:\tlearn: 1813.5011547\ttotal: 11.8s\tremaining: 8.26s\n",
      "324:\tlearn: 1813.1535562\ttotal: 11.9s\tremaining: 8.22s\n",
      "325:\tlearn: 1812.5109044\ttotal: 11.9s\tremaining: 8.19s\n",
      "326:\tlearn: 1812.2051986\ttotal: 12s\tremaining: 8.15s\n",
      "327:\tlearn: 1811.7361009\ttotal: 12s\tremaining: 8.12s\n",
      "328:\tlearn: 1811.4648054\ttotal: 12s\tremaining: 8.08s\n",
      "329:\tlearn: 1810.9153583\ttotal: 12.1s\tremaining: 8.04s\n",
      "330:\tlearn: 1810.5049540\ttotal: 12.1s\tremaining: 8.01s\n",
      "331:\tlearn: 1810.1146811\ttotal: 12.1s\tremaining: 7.97s\n",
      "332:\tlearn: 1809.4514830\ttotal: 12.3s\tremaining: 8s\n",
      "333:\tlearn: 1809.0002251\ttotal: 12.3s\tremaining: 7.96s\n",
      "334:\tlearn: 1808.5410663\ttotal: 12.3s\tremaining: 7.92s\n",
      "335:\tlearn: 1808.1014827\ttotal: 12.4s\tremaining: 7.88s\n",
      "336:\tlearn: 1807.6790366\ttotal: 12.4s\tremaining: 7.85s\n",
      "337:\tlearn: 1807.3624518\ttotal: 12.5s\tremaining: 7.81s\n",
      "338:\tlearn: 1807.1284826\ttotal: 12.5s\tremaining: 7.77s\n",
      "339:\tlearn: 1806.8180403\ttotal: 12.5s\tremaining: 7.73s\n",
      "340:\tlearn: 1806.4426664\ttotal: 12.6s\tremaining: 7.69s\n",
      "341:\tlearn: 1806.1038784\ttotal: 12.6s\tremaining: 7.65s\n",
      "342:\tlearn: 1805.7025219\ttotal: 12.6s\tremaining: 7.62s\n",
      "343:\tlearn: 1805.3147023\ttotal: 12.7s\tremaining: 7.58s\n",
      "344:\tlearn: 1804.6595890\ttotal: 12.7s\tremaining: 7.54s\n",
      "345:\tlearn: 1804.0851798\ttotal: 12.7s\tremaining: 7.51s\n",
      "346:\tlearn: 1803.7324275\ttotal: 12.8s\tremaining: 7.47s\n",
      "347:\tlearn: 1803.5540622\ttotal: 12.8s\tremaining: 7.43s\n",
      "348:\tlearn: 1803.0506308\ttotal: 12.8s\tremaining: 7.39s\n",
      "349:\tlearn: 1802.7911732\ttotal: 12.9s\tremaining: 7.35s\n",
      "350:\tlearn: 1802.5514721\ttotal: 12.9s\tremaining: 7.32s\n",
      "351:\tlearn: 1802.2037729\ttotal: 12.9s\tremaining: 7.28s\n",
      "352:\tlearn: 1801.9345098\ttotal: 13s\tremaining: 7.25s\n",
      "353:\tlearn: 1801.4982372\ttotal: 13s\tremaining: 7.21s\n",
      "354:\tlearn: 1801.0227684\ttotal: 13.1s\tremaining: 7.17s\n",
      "355:\tlearn: 1800.5050308\ttotal: 13.1s\tremaining: 7.14s\n",
      "356:\tlearn: 1800.1997337\ttotal: 13.1s\tremaining: 7.1s\n",
      "357:\tlearn: 1799.6887733\ttotal: 13.2s\tremaining: 7.06s\n",
      "358:\tlearn: 1799.4740300\ttotal: 13.2s\tremaining: 7.03s\n",
      "359:\tlearn: 1798.9546573\ttotal: 13.2s\tremaining: 6.99s\n",
      "360:\tlearn: 1798.5762063\ttotal: 13.3s\tremaining: 6.95s\n",
      "361:\tlearn: 1798.2660167\ttotal: 13.3s\tremaining: 6.91s\n",
      "362:\tlearn: 1797.8328160\ttotal: 13.3s\tremaining: 6.88s\n",
      "363:\tlearn: 1797.4909990\ttotal: 13.4s\tremaining: 6.84s\n",
      "364:\tlearn: 1797.2379455\ttotal: 13.4s\tremaining: 6.8s\n",
      "365:\tlearn: 1796.8723364\ttotal: 13.5s\tremaining: 6.76s\n",
      "366:\tlearn: 1796.6059010\ttotal: 13.5s\tremaining: 6.72s\n",
      "367:\tlearn: 1796.3876727\ttotal: 13.5s\tremaining: 6.68s\n",
      "368:\tlearn: 1796.3407977\ttotal: 13.6s\tremaining: 6.65s\n",
      "369:\tlearn: 1795.9577735\ttotal: 13.6s\tremaining: 6.61s\n",
      "370:\tlearn: 1795.3902106\ttotal: 13.6s\tremaining: 6.58s\n",
      "371:\tlearn: 1795.1778286\ttotal: 13.7s\tremaining: 6.54s\n",
      "372:\tlearn: 1794.7794862\ttotal: 13.7s\tremaining: 6.5s\n",
      "373:\tlearn: 1794.4026603\ttotal: 13.7s\tremaining: 6.46s\n",
      "374:\tlearn: 1793.9430084\ttotal: 13.8s\tremaining: 6.43s\n",
      "375:\tlearn: 1793.6934401\ttotal: 13.8s\tremaining: 6.39s\n",
      "376:\tlearn: 1793.3387002\ttotal: 13.8s\tremaining: 6.35s\n",
      "377:\tlearn: 1793.0503347\ttotal: 13.9s\tremaining: 6.32s\n",
      "378:\tlearn: 1792.7766808\ttotal: 13.9s\tremaining: 6.28s\n",
      "379:\tlearn: 1792.2714059\ttotal: 14s\tremaining: 6.24s\n",
      "380:\tlearn: 1791.9029513\ttotal: 14s\tremaining: 6.2s\n",
      "381:\tlearn: 1791.5415465\ttotal: 14s\tremaining: 6.17s\n",
      "382:\tlearn: 1791.2761705\ttotal: 14.1s\tremaining: 6.13s\n",
      "383:\tlearn: 1791.2520430\ttotal: 14.1s\tremaining: 6.09s\n",
      "384:\tlearn: 1790.7463355\ttotal: 14.1s\tremaining: 6.05s\n",
      "385:\tlearn: 1790.2606092\ttotal: 14.2s\tremaining: 6.02s\n",
      "386:\tlearn: 1790.0477951\ttotal: 14.2s\tremaining: 5.98s\n",
      "387:\tlearn: 1789.6472959\ttotal: 14.2s\tremaining: 5.95s\n",
      "388:\tlearn: 1789.2761159\ttotal: 14.3s\tremaining: 5.91s\n",
      "389:\tlearn: 1788.9560847\ttotal: 14.3s\tremaining: 5.87s\n",
      "390:\tlearn: 1788.5909752\ttotal: 14.4s\tremaining: 5.83s\n",
      "391:\tlearn: 1788.2451972\ttotal: 14.4s\tremaining: 5.8s\n",
      "392:\tlearn: 1787.9693297\ttotal: 14.4s\tremaining: 5.76s\n",
      "393:\tlearn: 1787.4770248\ttotal: 14.5s\tremaining: 5.73s\n",
      "394:\tlearn: 1787.1330263\ttotal: 14.5s\tremaining: 5.69s\n",
      "395:\tlearn: 1786.6648472\ttotal: 14.5s\tremaining: 5.65s\n",
      "396:\tlearn: 1786.3883889\ttotal: 14.6s\tremaining: 5.62s\n",
      "397:\tlearn: 1786.1319704\ttotal: 14.6s\tremaining: 5.58s\n",
      "398:\tlearn: 1785.3765320\ttotal: 14.7s\tremaining: 5.54s\n",
      "399:\tlearn: 1785.0183008\ttotal: 14.7s\tremaining: 5.51s\n",
      "400:\tlearn: 1784.6655123\ttotal: 14.7s\tremaining: 5.47s\n",
      "401:\tlearn: 1784.1815323\ttotal: 14.8s\tremaining: 5.43s\n",
      "402:\tlearn: 1783.7302076\ttotal: 14.8s\tremaining: 5.4s\n",
      "403:\tlearn: 1783.3029944\ttotal: 14.8s\tremaining: 5.36s\n",
      "404:\tlearn: 1782.9466729\ttotal: 14.9s\tremaining: 5.33s\n",
      "405:\tlearn: 1782.6545665\ttotal: 14.9s\tremaining: 5.29s\n",
      "406:\tlearn: 1782.3046033\ttotal: 15s\tremaining: 5.25s\n",
      "407:\tlearn: 1781.8970888\ttotal: 15s\tremaining: 5.22s\n",
      "408:\tlearn: 1781.6298136\ttotal: 15s\tremaining: 5.18s\n",
      "409:\tlearn: 1781.2373614\ttotal: 15.1s\tremaining: 5.14s\n",
      "410:\tlearn: 1780.9345398\ttotal: 15.1s\tremaining: 5.11s\n",
      "411:\tlearn: 1780.5610337\ttotal: 15.1s\tremaining: 5.07s\n",
      "412:\tlearn: 1780.1742028\ttotal: 15.2s\tremaining: 5.04s\n",
      "413:\tlearn: 1779.7905080\ttotal: 15.2s\tremaining: 5s\n",
      "414:\tlearn: 1779.5275436\ttotal: 15.3s\tremaining: 4.96s\n",
      "415:\tlearn: 1779.1687103\ttotal: 15.3s\tremaining: 4.93s\n",
      "416:\tlearn: 1778.6902457\ttotal: 15.3s\tremaining: 4.89s\n",
      "417:\tlearn: 1778.3428041\ttotal: 15.4s\tremaining: 4.86s\n",
      "418:\tlearn: 1778.0551875\ttotal: 15.4s\tremaining: 4.82s\n",
      "419:\tlearn: 1777.7502531\ttotal: 15.5s\tremaining: 4.78s\n",
      "420:\tlearn: 1777.4109013\ttotal: 15.5s\tremaining: 4.75s\n",
      "421:\tlearn: 1777.0343315\ttotal: 15.5s\tremaining: 4.71s\n",
      "422:\tlearn: 1776.7755898\ttotal: 15.6s\tremaining: 4.67s\n",
      "423:\tlearn: 1776.6023397\ttotal: 15.6s\tremaining: 4.64s\n",
      "424:\tlearn: 1776.1830598\ttotal: 15.6s\tremaining: 4.6s\n",
      "425:\tlearn: 1775.8405612\ttotal: 15.7s\tremaining: 4.57s\n",
      "426:\tlearn: 1775.6259643\ttotal: 15.7s\tremaining: 4.53s\n",
      "427:\tlearn: 1775.3848491\ttotal: 15.8s\tremaining: 4.49s\n",
      "428:\tlearn: 1774.8954898\ttotal: 15.8s\tremaining: 4.45s\n",
      "429:\tlearn: 1774.4911575\ttotal: 15.8s\tremaining: 4.42s\n",
      "430:\tlearn: 1773.9825050\ttotal: 15.9s\tremaining: 4.38s\n",
      "431:\tlearn: 1773.6043377\ttotal: 15.9s\tremaining: 4.35s\n",
      "432:\tlearn: 1773.0631702\ttotal: 16s\tremaining: 4.31s\n",
      "433:\tlearn: 1772.8504695\ttotal: 16s\tremaining: 4.27s\n",
      "434:\tlearn: 1772.6004769\ttotal: 16s\tremaining: 4.24s\n",
      "435:\tlearn: 1772.1647293\ttotal: 16.1s\tremaining: 4.2s\n",
      "436:\tlearn: 1771.9562721\ttotal: 16.1s\tremaining: 4.16s\n",
      "437:\tlearn: 1771.7122997\ttotal: 16.1s\tremaining: 4.13s\n",
      "438:\tlearn: 1771.5035582\ttotal: 16.2s\tremaining: 4.09s\n",
      "439:\tlearn: 1771.2233413\ttotal: 16.2s\tremaining: 4.05s\n",
      "440:\tlearn: 1770.8404916\ttotal: 16.2s\tremaining: 4.01s\n",
      "441:\tlearn: 1770.5187512\ttotal: 16.3s\tremaining: 3.98s\n",
      "442:\tlearn: 1770.0613903\ttotal: 16.3s\tremaining: 3.94s\n",
      "443:\tlearn: 1769.7494812\ttotal: 16.4s\tremaining: 3.9s\n",
      "444:\tlearn: 1769.5046851\ttotal: 16.4s\tremaining: 3.87s\n",
      "445:\tlearn: 1769.0975960\ttotal: 16.4s\tremaining: 3.83s\n",
      "446:\tlearn: 1768.8599988\ttotal: 16.5s\tremaining: 3.79s\n",
      "447:\tlearn: 1768.5244903\ttotal: 16.5s\tremaining: 3.76s\n",
      "448:\tlearn: 1768.1399427\ttotal: 16.5s\tremaining: 3.72s\n",
      "449:\tlearn: 1767.4548457\ttotal: 16.6s\tremaining: 3.69s\n",
      "450:\tlearn: 1767.1661539\ttotal: 16.6s\tremaining: 3.65s\n",
      "451:\tlearn: 1766.6915652\ttotal: 16.7s\tremaining: 3.61s\n",
      "452:\tlearn: 1766.4746399\ttotal: 16.7s\tremaining: 3.58s\n",
      "453:\tlearn: 1766.0859129\ttotal: 16.7s\tremaining: 3.54s\n",
      "454:\tlearn: 1765.8526985\ttotal: 16.8s\tremaining: 3.5s\n",
      "455:\tlearn: 1765.6878986\ttotal: 16.8s\tremaining: 3.46s\n",
      "456:\tlearn: 1765.3462713\ttotal: 16.8s\tremaining: 3.43s\n",
      "457:\tlearn: 1764.8968891\ttotal: 16.9s\tremaining: 3.39s\n",
      "458:\tlearn: 1764.7140934\ttotal: 16.9s\tremaining: 3.35s\n",
      "459:\tlearn: 1764.4817055\ttotal: 16.9s\tremaining: 3.31s\n",
      "460:\tlearn: 1764.2614238\ttotal: 17s\tremaining: 3.28s\n",
      "461:\tlearn: 1763.9578573\ttotal: 17s\tremaining: 3.24s\n",
      "462:\tlearn: 1763.7066437\ttotal: 17.1s\tremaining: 3.2s\n",
      "463:\tlearn: 1763.2656579\ttotal: 17.1s\tremaining: 3.17s\n",
      "464:\tlearn: 1762.8667611\ttotal: 17.1s\tremaining: 3.13s\n",
      "465:\tlearn: 1762.5957323\ttotal: 17.2s\tremaining: 3.1s\n",
      "466:\tlearn: 1762.1650592\ttotal: 17.2s\tremaining: 3.06s\n",
      "467:\tlearn: 1761.7874566\ttotal: 17.2s\tremaining: 3.02s\n",
      "468:\tlearn: 1761.1747161\ttotal: 17.3s\tremaining: 2.99s\n",
      "469:\tlearn: 1760.8910210\ttotal: 17.3s\tremaining: 2.95s\n",
      "470:\tlearn: 1760.5068882\ttotal: 17.4s\tremaining: 2.91s\n",
      "471:\tlearn: 1760.0905042\ttotal: 17.4s\tremaining: 2.88s\n",
      "472:\tlearn: 1759.6414032\ttotal: 17.4s\tremaining: 2.84s\n",
      "473:\tlearn: 1759.3027800\ttotal: 17.5s\tremaining: 2.8s\n",
      "474:\tlearn: 1758.9108289\ttotal: 17.5s\tremaining: 2.77s\n",
      "475:\tlearn: 1758.6593338\ttotal: 17.6s\tremaining: 2.73s\n",
      "476:\tlearn: 1758.4887937\ttotal: 17.6s\tremaining: 2.69s\n",
      "477:\tlearn: 1758.1047616\ttotal: 17.6s\tremaining: 2.65s\n",
      "478:\tlearn: 1757.6627192\ttotal: 17.7s\tremaining: 2.62s\n",
      "479:\tlearn: 1757.3851889\ttotal: 17.7s\tremaining: 2.58s\n",
      "480:\tlearn: 1757.1031005\ttotal: 17.7s\tremaining: 2.54s\n",
      "481:\tlearn: 1756.7940345\ttotal: 17.8s\tremaining: 2.51s\n",
      "482:\tlearn: 1756.2657178\ttotal: 17.8s\tremaining: 2.47s\n",
      "483:\tlearn: 1755.9336483\ttotal: 17.9s\tremaining: 2.43s\n",
      "484:\tlearn: 1755.4356277\ttotal: 17.9s\tremaining: 2.4s\n",
      "485:\tlearn: 1755.0865793\ttotal: 17.9s\tremaining: 2.36s\n",
      "486:\tlearn: 1754.8790816\ttotal: 18s\tremaining: 2.32s\n",
      "487:\tlearn: 1754.6526804\ttotal: 18s\tremaining: 2.29s\n",
      "488:\tlearn: 1754.3421975\ttotal: 18s\tremaining: 2.25s\n",
      "489:\tlearn: 1753.9430356\ttotal: 18.1s\tremaining: 2.21s\n",
      "490:\tlearn: 1753.6578105\ttotal: 18.1s\tremaining: 2.17s\n",
      "491:\tlearn: 1753.2114939\ttotal: 18.2s\tremaining: 2.14s\n",
      "492:\tlearn: 1752.9496219\ttotal: 18.2s\tremaining: 2.1s\n",
      "493:\tlearn: 1752.8011337\ttotal: 18.2s\tremaining: 2.07s\n",
      "494:\tlearn: 1752.5506982\ttotal: 18.3s\tremaining: 2.03s\n",
      "495:\tlearn: 1752.1073083\ttotal: 18.3s\tremaining: 1.99s\n",
      "496:\tlearn: 1751.5986024\ttotal: 18.4s\tremaining: 1.96s\n",
      "497:\tlearn: 1751.2306479\ttotal: 18.4s\tremaining: 1.92s\n",
      "498:\tlearn: 1750.9094221\ttotal: 18.4s\tremaining: 1.88s\n",
      "499:\tlearn: 1750.6076532\ttotal: 18.5s\tremaining: 1.84s\n",
      "500:\tlearn: 1750.3239545\ttotal: 18.5s\tremaining: 1.81s\n",
      "501:\tlearn: 1750.0750794\ttotal: 18.5s\tremaining: 1.77s\n",
      "502:\tlearn: 1749.8667679\ttotal: 18.6s\tremaining: 1.74s\n",
      "503:\tlearn: 1749.6684331\ttotal: 18.6s\tremaining: 1.7s\n",
      "504:\tlearn: 1749.3248644\ttotal: 18.7s\tremaining: 1.67s\n",
      "505:\tlearn: 1748.9639201\ttotal: 18.8s\tremaining: 1.63s\n",
      "506:\tlearn: 1748.6505559\ttotal: 18.8s\tremaining: 1.59s\n",
      "507:\tlearn: 1748.4358070\ttotal: 18.9s\tremaining: 1.56s\n",
      "508:\tlearn: 1747.9755294\ttotal: 18.9s\tremaining: 1.52s\n",
      "509:\tlearn: 1747.6762390\ttotal: 19s\tremaining: 1.49s\n",
      "510:\tlearn: 1747.4271471\ttotal: 19s\tremaining: 1.45s\n",
      "511:\tlearn: 1747.0340856\ttotal: 19.1s\tremaining: 1.42s\n",
      "512:\tlearn: 1746.5824673\ttotal: 19.1s\tremaining: 1.38s\n",
      "513:\tlearn: 1746.2942948\ttotal: 19.2s\tremaining: 1.34s\n",
      "514:\tlearn: 1745.8610418\ttotal: 19.2s\tremaining: 1.31s\n",
      "515:\tlearn: 1745.6043271\ttotal: 19.3s\tremaining: 1.27s\n",
      "516:\tlearn: 1745.2724347\ttotal: 19.3s\tremaining: 1.23s\n",
      "517:\tlearn: 1744.8910873\ttotal: 19.3s\tremaining: 1.2s\n",
      "518:\tlearn: 1744.6134054\ttotal: 19.4s\tremaining: 1.16s\n",
      "519:\tlearn: 1744.4167385\ttotal: 19.4s\tremaining: 1.12s\n",
      "520:\tlearn: 1744.1279270\ttotal: 19.5s\tremaining: 1.08s\n",
      "521:\tlearn: 1743.7529885\ttotal: 19.5s\tremaining: 1.04s\n",
      "522:\tlearn: 1743.4549077\ttotal: 19.5s\tremaining: 1.01s\n",
      "523:\tlearn: 1743.2028394\ttotal: 19.6s\tremaining: 971ms\n",
      "524:\tlearn: 1742.8614367\ttotal: 19.6s\tremaining: 934ms\n",
      "525:\tlearn: 1742.7204038\ttotal: 19.6s\tremaining: 896ms\n",
      "526:\tlearn: 1742.0623903\ttotal: 19.7s\tremaining: 859ms\n",
      "527:\tlearn: 1741.8758083\ttotal: 19.7s\tremaining: 821ms\n",
      "528:\tlearn: 1741.4613796\ttotal: 19.8s\tremaining: 784ms\n",
      "529:\tlearn: 1741.0642989\ttotal: 19.8s\tremaining: 747ms\n",
      "530:\tlearn: 1740.6995489\ttotal: 19.8s\tremaining: 710ms\n",
      "531:\tlearn: 1740.4052369\ttotal: 19.9s\tremaining: 672ms\n",
      "532:\tlearn: 1740.2024779\ttotal: 19.9s\tremaining: 635ms\n",
      "533:\tlearn: 1739.9790982\ttotal: 19.9s\tremaining: 598ms\n",
      "534:\tlearn: 1739.7108130\ttotal: 20s\tremaining: 560ms\n",
      "535:\tlearn: 1739.5640003\ttotal: 20s\tremaining: 523ms\n",
      "536:\tlearn: 1739.2199635\ttotal: 20.1s\tremaining: 485ms\n",
      "537:\tlearn: 1738.8243603\ttotal: 20.1s\tremaining: 448ms\n",
      "538:\tlearn: 1738.4769448\ttotal: 20.1s\tremaining: 411ms\n",
      "539:\tlearn: 1738.2196318\ttotal: 20.2s\tremaining: 374ms\n",
      "540:\tlearn: 1738.1239450\ttotal: 20.2s\tremaining: 336ms\n",
      "541:\tlearn: 1737.8934067\ttotal: 20.2s\tremaining: 299ms\n",
      "542:\tlearn: 1737.6027318\ttotal: 20.3s\tremaining: 261ms\n",
      "543:\tlearn: 1737.1907351\ttotal: 20.3s\tremaining: 224ms\n",
      "544:\tlearn: 1737.0476081\ttotal: 20.4s\tremaining: 187ms\n",
      "545:\tlearn: 1736.8994787\ttotal: 20.4s\tremaining: 149ms\n",
      "546:\tlearn: 1736.7102659\ttotal: 20.4s\tremaining: 112ms\n",
      "547:\tlearn: 1736.4254920\ttotal: 20.5s\tremaining: 74.7ms\n",
      "548:\tlearn: 1736.1469129\ttotal: 20.5s\tremaining: 37.3ms\n",
      "549:\tlearn: 1735.6329610\ttotal: 20.5s\tremaining: 0us\n",
      "CPU times: user 20.6 s, sys: 166 ms, total: 20.7 s\n",
      "Wall time: 22.2 s\n"
     ]
    },
    {
     "data": {
      "text/plain": [
       "<catboost.core.CatBoostRegressor at 0x7f65abebbd30>"
      ]
     },
     "execution_count": 63,
     "metadata": {},
     "output_type": "execute_result"
    }
   ],
   "source": [
    "%%time\n",
    "model_cat.fit(features_train, target_train);"
   ]
  },
  {
   "cell_type": "code",
   "execution_count": 64,
   "metadata": {},
   "outputs": [],
   "source": [
    "result_cat_valid = model_cat.predict(features_valid)\n",
    "rmse_cat_valid = mean_squared_error(target_valid, result_cat_valid)**0.5"
   ]
  },
  {
   "cell_type": "code",
   "execution_count": 65,
   "metadata": {},
   "outputs": [
    {
     "data": {
      "text/plain": [
       "1899.61943809072"
      ]
     },
     "execution_count": 65,
     "metadata": {},
     "output_type": "execute_result"
    }
   ],
   "source": [
    "rmse_cat_valid"
   ]
  },
  {
   "cell_type": "code",
   "execution_count": 66,
   "metadata": {},
   "outputs": [
    {
     "name": "stdout",
     "output_type": "stream",
     "text": [
      "CPU times: user 56.6 ms, sys: 0 ns, total: 56.6 ms\n",
      "Wall time: 54.6 ms\n"
     ]
    }
   ],
   "source": [
    "%%time\n",
    "result_cat_test = model_cat.predict(features_test)"
   ]
  },
  {
   "cell_type": "code",
   "execution_count": 67,
   "metadata": {},
   "outputs": [
    {
     "name": "stdout",
     "output_type": "stream",
     "text": [
      "RMSE для CatBoost: 1907.1380328983246\n"
     ]
    }
   ],
   "source": [
    "rmse_cat_test = mean_squared_error(target_test, result_cat_test)**0.5\n",
    "print('RMSE для CatBoost:', rmse_cat_test)"
   ]
  },
  {
   "cell_type": "markdown",
   "metadata": {},
   "source": [
    "## Анализ моделей"
   ]
  },
  {
   "cell_type": "code",
   "execution_count": 68,
   "metadata": {},
   "outputs": [
    {
     "name": "stdout",
     "output_type": "stream",
     "text": [
      "RMSE для модели линейной регрессии: 3416.2822779862677\n",
      "RMSE для модели случайного леса: 2272.864416990728\n",
      "RMSE для XGBoost: 1944.1572107361999\n",
      "RMSE для LightGBM: 2014.434630350793\n",
      "RMSE для CatBoost: 1907.1380328983246\n"
     ]
    }
   ],
   "source": [
    "print('RMSE для модели линейной регрессии:', rmse_lr)\n",
    "print('RMSE для модели случайного леса:', rmse_rf)\n",
    "print('RMSE для XGBoost:', rmse_xgb)\n",
    "print('RMSE для LightGBM:', rmse_gbm)\n",
    "print('RMSE для CatBoost:', rmse_cat_test)"
   ]
  },
  {
   "cell_type": "markdown",
   "metadata": {},
   "source": [
    "Наименее точный результат был получен при построении модели с помощью линейной регрессии RMSE 3416,3, наиболее точный  - при применении XGBoost - 1944,16, CatBoost - 1907,1.<br>\n",
    "При использовании модели линейной регрессии была получена самая быстрая модель - с минимальным затраченным временем на обучение модели и получение предсказаний. Больше всего времени заняло обучение моделей XGBoost, RandomForest.<br>\n",
    "Поскольку результат, полученный с помощью линейной регрессии менее точный, а обучение с помощью XGBoost, LightGBM занимает много времени, то эти модели не подходят. По сравнению с RandomForest y CatBoost более точный результат и меньшее время предсказания, поэтому для предсказания рыночной стоимости автомобиля будем использовать модель, полученную с помощью CatBoost."
   ]
  }
 ],
 "metadata": {
  "ExecuteTimeLog": [
   {
    "duration": 47,
    "start_time": "2022-04-20T09:55:13.933Z"
   },
   {
    "duration": 373,
    "start_time": "2022-04-20T09:55:16.636Z"
   },
   {
    "duration": 873,
    "start_time": "2022-04-20T09:55:19.029Z"
   },
   {
    "duration": 21,
    "start_time": "2022-04-20T09:55:41.605Z"
   },
   {
    "duration": 123,
    "start_time": "2022-04-20T09:57:19.524Z"
   },
   {
    "duration": 2,
    "start_time": "2022-04-20T10:11:00.127Z"
   },
   {
    "duration": 32,
    "start_time": "2022-04-20T10:11:24.143Z"
   },
   {
    "duration": 7,
    "start_time": "2022-04-20T10:11:40.019Z"
   },
   {
    "duration": 466,
    "start_time": "2022-04-20T10:11:50.195Z"
   },
   {
    "duration": 533,
    "start_time": "2022-04-20T10:12:36.687Z"
   },
   {
    "duration": 507,
    "start_time": "2022-04-20T10:12:49.327Z"
   },
   {
    "duration": 498,
    "start_time": "2022-04-20T10:12:55.863Z"
   },
   {
    "duration": 111,
    "start_time": "2022-04-20T10:14:31.562Z"
   },
   {
    "duration": 622,
    "start_time": "2022-04-20T10:21:39.945Z"
   },
   {
    "duration": 143,
    "start_time": "2022-04-20T10:21:59.458Z"
   },
   {
    "duration": 7,
    "start_time": "2022-04-20T10:22:14.969Z"
   },
   {
    "duration": 149,
    "start_time": "2022-04-20T10:22:51.821Z"
   },
   {
    "duration": 183,
    "start_time": "2022-04-20T10:23:08.973Z"
   },
   {
    "duration": 6,
    "start_time": "2022-04-20T10:25:03.837Z"
   },
   {
    "duration": 8,
    "start_time": "2022-04-20T10:25:21.077Z"
   },
   {
    "duration": 3,
    "start_time": "2022-04-20T10:27:37.064Z"
   },
   {
    "duration": 4,
    "start_time": "2022-04-20T10:27:47.789Z"
   },
   {
    "duration": 20,
    "start_time": "2022-04-20T10:28:54.680Z"
   },
   {
    "duration": 5,
    "start_time": "2022-04-20T10:30:49.572Z"
   },
   {
    "duration": 4,
    "start_time": "2022-04-20T10:31:00.916Z"
   },
   {
    "duration": 3,
    "start_time": "2022-04-20T10:31:15.608Z"
   },
   {
    "duration": 78,
    "start_time": "2022-04-20T10:38:47.887Z"
   },
   {
    "duration": 130,
    "start_time": "2022-04-20T10:38:57.363Z"
   },
   {
    "duration": 64,
    "start_time": "2022-04-20T10:39:07.707Z"
   },
   {
    "duration": 121,
    "start_time": "2022-04-20T10:39:10.607Z"
   },
   {
    "duration": 3,
    "start_time": "2022-04-20T10:39:40.995Z"
   },
   {
    "duration": 126,
    "start_time": "2022-04-20T10:39:48.547Z"
   },
   {
    "duration": 60,
    "start_time": "2022-04-20T10:39:52.179Z"
   },
   {
    "duration": 122,
    "start_time": "2022-04-20T10:39:54.158Z"
   },
   {
    "duration": 136,
    "start_time": "2022-04-20T10:40:18.955Z"
   },
   {
    "duration": 475,
    "start_time": "2022-04-20T10:44:24.654Z"
   },
   {
    "duration": 136,
    "start_time": "2022-04-20T10:45:39.019Z"
   },
   {
    "duration": 141,
    "start_time": "2022-04-20T10:45:43.095Z"
   },
   {
    "duration": 107,
    "start_time": "2022-04-20T10:46:13.346Z"
   },
   {
    "duration": 118,
    "start_time": "2022-04-20T10:47:05.722Z"
   },
   {
    "duration": 26,
    "start_time": "2022-04-20T10:50:52.166Z"
   },
   {
    "duration": 9,
    "start_time": "2022-04-20T10:51:00.830Z"
   },
   {
    "duration": 9,
    "start_time": "2022-04-20T10:54:22.110Z"
   },
   {
    "duration": 9,
    "start_time": "2022-04-20T10:54:27.846Z"
   },
   {
    "duration": 20,
    "start_time": "2022-04-20T10:54:41.162Z"
   },
   {
    "duration": 6,
    "start_time": "2022-04-20T10:54:48.671Z"
   },
   {
    "duration": 6,
    "start_time": "2022-04-20T10:58:29.730Z"
   },
   {
    "duration": 6,
    "start_time": "2022-04-20T10:58:33.886Z"
   },
   {
    "duration": 55,
    "start_time": "2022-04-20T11:03:00.834Z"
   },
   {
    "duration": 7,
    "start_time": "2022-04-20T11:07:05.434Z"
   },
   {
    "duration": 52,
    "start_time": "2022-04-20T11:11:35.017Z"
   },
   {
    "duration": 8,
    "start_time": "2022-04-20T11:12:20.069Z"
   },
   {
    "duration": 6,
    "start_time": "2022-04-20T11:12:27.297Z"
   },
   {
    "duration": 43,
    "start_time": "2022-04-20T11:17:22.505Z"
   },
   {
    "duration": 3,
    "start_time": "2022-04-20T11:17:28.141Z"
   },
   {
    "duration": 884,
    "start_time": "2022-04-20T11:17:28.148Z"
   },
   {
    "duration": 14,
    "start_time": "2022-04-20T11:17:29.034Z"
   },
   {
    "duration": 141,
    "start_time": "2022-04-20T11:17:29.050Z"
   },
   {
    "duration": 101,
    "start_time": "2022-04-20T11:17:29.194Z"
   },
   {
    "duration": 3,
    "start_time": "2022-04-20T11:17:29.297Z"
   },
   {
    "duration": 13,
    "start_time": "2022-04-20T11:17:29.302Z"
   },
   {
    "duration": 8,
    "start_time": "2022-04-20T11:17:29.317Z"
   },
   {
    "duration": 31,
    "start_time": "2022-04-20T11:17:29.327Z"
   },
   {
    "duration": 149,
    "start_time": "2022-04-20T11:17:29.359Z"
   },
   {
    "duration": 485,
    "start_time": "2022-04-20T11:17:29.510Z"
   },
   {
    "duration": 560,
    "start_time": "2022-04-20T11:17:29.997Z"
   },
   {
    "duration": 480,
    "start_time": "2022-04-20T11:17:30.559Z"
   },
   {
    "duration": 6,
    "start_time": "2022-04-20T11:17:31.041Z"
   },
   {
    "duration": 65,
    "start_time": "2022-04-20T11:17:31.049Z"
   },
   {
    "duration": 7,
    "start_time": "2022-04-20T11:17:31.117Z"
   },
   {
    "duration": 63,
    "start_time": "2022-04-20T11:17:31.126Z"
   },
   {
    "duration": 121,
    "start_time": "2022-04-20T11:17:59.420Z"
   },
   {
    "duration": 99,
    "start_time": "2022-04-20T11:29:34.826Z"
   },
   {
    "duration": 125,
    "start_time": "2022-04-20T11:32:07.225Z"
   },
   {
    "duration": 12,
    "start_time": "2022-04-20T11:33:07.377Z"
   },
   {
    "duration": 13,
    "start_time": "2022-04-20T11:33:19.294Z"
   },
   {
    "duration": 13,
    "start_time": "2022-04-20T11:56:29.222Z"
   },
   {
    "duration": 1159,
    "start_time": "2022-04-20T11:57:06.890Z"
   },
   {
    "duration": 980,
    "start_time": "2022-04-20T11:58:06.191Z"
   },
   {
    "duration": 1104,
    "start_time": "2022-04-20T11:58:29.950Z"
   },
   {
    "duration": 913,
    "start_time": "2022-04-20T12:02:24.710Z"
   },
   {
    "duration": 909,
    "start_time": "2022-04-20T12:02:47.477Z"
   },
   {
    "duration": 985,
    "start_time": "2022-04-20T12:03:14.738Z"
   },
   {
    "duration": 893,
    "start_time": "2022-04-20T12:03:38.138Z"
   },
   {
    "duration": 69,
    "start_time": "2022-04-20T12:05:36.286Z"
   },
   {
    "duration": 14,
    "start_time": "2022-04-20T12:05:42.681Z"
   },
   {
    "duration": 112,
    "start_time": "2022-04-20T12:05:48.417Z"
   },
   {
    "duration": 10,
    "start_time": "2022-04-20T12:07:20.729Z"
   },
   {
    "duration": 10,
    "start_time": "2022-04-20T12:07:24.313Z"
   },
   {
    "duration": 13,
    "start_time": "2022-04-20T12:08:38.069Z"
   },
   {
    "duration": 14,
    "start_time": "2022-04-20T12:08:44.186Z"
   },
   {
    "duration": 10,
    "start_time": "2022-04-20T12:08:47.886Z"
   },
   {
    "duration": 12,
    "start_time": "2022-04-20T12:09:02.215Z"
   },
   {
    "duration": 10,
    "start_time": "2022-04-20T12:10:19.593Z"
   },
   {
    "duration": 1902,
    "start_time": "2022-04-20T12:13:02.900Z"
   },
   {
    "duration": 3,
    "start_time": "2022-04-20T12:13:28.460Z"
   },
   {
    "duration": 820,
    "start_time": "2022-04-20T12:13:28.465Z"
   },
   {
    "duration": 14,
    "start_time": "2022-04-20T12:13:29.287Z"
   },
   {
    "duration": 154,
    "start_time": "2022-04-20T12:13:29.303Z"
   },
   {
    "duration": 108,
    "start_time": "2022-04-20T12:13:29.459Z"
   },
   {
    "duration": 4,
    "start_time": "2022-04-20T12:13:29.574Z"
   },
   {
    "duration": 13,
    "start_time": "2022-04-20T12:13:29.579Z"
   },
   {
    "duration": 5,
    "start_time": "2022-04-20T12:13:29.594Z"
   },
   {
    "duration": 28,
    "start_time": "2022-04-20T12:13:29.601Z"
   },
   {
    "duration": 141,
    "start_time": "2022-04-20T12:13:29.631Z"
   },
   {
    "duration": 490,
    "start_time": "2022-04-20T12:13:29.774Z"
   },
   {
    "duration": 519,
    "start_time": "2022-04-20T12:13:30.265Z"
   },
   {
    "duration": 433,
    "start_time": "2022-04-20T12:13:30.785Z"
   },
   {
    "duration": 6,
    "start_time": "2022-04-20T12:13:31.220Z"
   },
   {
    "duration": 60,
    "start_time": "2022-04-20T12:13:31.228Z"
   },
   {
    "duration": 7,
    "start_time": "2022-04-20T12:13:31.290Z"
   },
   {
    "duration": 56,
    "start_time": "2022-04-20T12:13:31.299Z"
   },
   {
    "duration": 76,
    "start_time": "2022-04-20T12:13:31.357Z"
   },
   {
    "duration": 141,
    "start_time": "2022-04-20T12:13:31.434Z"
   },
   {
    "duration": 166,
    "start_time": "2022-04-20T12:13:32.048Z"
   },
   {
    "duration": 3,
    "start_time": "2022-04-20T12:13:41.976Z"
   },
   {
    "duration": 2,
    "start_time": "2022-04-20T12:13:45.112Z"
   },
   {
    "duration": 137,
    "start_time": "2022-04-20T12:13:48.548Z"
   },
   {
    "duration": 158,
    "start_time": "2022-04-20T12:16:09.339Z"
   },
   {
    "duration": 159,
    "start_time": "2022-04-20T12:17:27.603Z"
   },
   {
    "duration": 90,
    "start_time": "2022-04-20T12:17:30.204Z"
   },
   {
    "duration": 94,
    "start_time": "2022-04-20T12:18:11.839Z"
   },
   {
    "duration": 3,
    "start_time": "2022-04-20T12:18:16.299Z"
   },
   {
    "duration": 825,
    "start_time": "2022-04-20T12:18:16.306Z"
   },
   {
    "duration": 15,
    "start_time": "2022-04-20T12:18:17.133Z"
   },
   {
    "duration": 163,
    "start_time": "2022-04-20T12:18:17.150Z"
   },
   {
    "duration": 95,
    "start_time": "2022-04-20T12:18:17.315Z"
   },
   {
    "duration": 5,
    "start_time": "2022-04-20T12:18:17.411Z"
   },
   {
    "duration": 10,
    "start_time": "2022-04-20T12:18:17.418Z"
   },
   {
    "duration": 11,
    "start_time": "2022-04-20T12:18:17.429Z"
   },
   {
    "duration": 38,
    "start_time": "2022-04-20T12:18:17.442Z"
   },
   {
    "duration": 127,
    "start_time": "2022-04-20T12:18:17.482Z"
   },
   {
    "duration": 421,
    "start_time": "2022-04-20T12:18:17.611Z"
   },
   {
    "duration": 460,
    "start_time": "2022-04-20T12:18:18.033Z"
   },
   {
    "duration": 413,
    "start_time": "2022-04-20T12:18:18.495Z"
   },
   {
    "duration": 6,
    "start_time": "2022-04-20T12:18:18.909Z"
   },
   {
    "duration": 58,
    "start_time": "2022-04-20T12:18:18.916Z"
   },
   {
    "duration": 7,
    "start_time": "2022-04-20T12:18:18.976Z"
   },
   {
    "duration": 55,
    "start_time": "2022-04-20T12:18:18.985Z"
   },
   {
    "duration": 66,
    "start_time": "2022-04-20T12:18:19.041Z"
   },
   {
    "duration": 129,
    "start_time": "2022-04-20T12:18:19.108Z"
   },
   {
    "duration": 178,
    "start_time": "2022-04-20T12:18:19.239Z"
   },
   {
    "duration": 159,
    "start_time": "2022-04-20T12:18:19.418Z"
   },
   {
    "duration": 170,
    "start_time": "2022-04-20T12:18:19.579Z"
   },
   {
    "duration": 100,
    "start_time": "2022-04-20T12:18:19.751Z"
   },
   {
    "duration": 199,
    "start_time": "2022-04-20T12:19:00.468Z"
   },
   {
    "duration": 86,
    "start_time": "2022-04-20T12:30:45.078Z"
   },
   {
    "duration": 84,
    "start_time": "2022-04-20T12:32:13.906Z"
   },
   {
    "duration": 87,
    "start_time": "2022-04-20T14:46:37.967Z"
   },
   {
    "duration": 1905,
    "start_time": "2022-04-20T14:46:43.903Z"
   },
   {
    "duration": 1328,
    "start_time": "2022-04-20T14:46:45.811Z"
   },
   {
    "duration": 27,
    "start_time": "2022-04-20T14:46:47.143Z"
   },
   {
    "duration": 216,
    "start_time": "2022-04-20T14:46:47.173Z"
   },
   {
    "duration": 137,
    "start_time": "2022-04-20T14:46:47.391Z"
   },
   {
    "duration": 5,
    "start_time": "2022-04-20T14:46:47.531Z"
   },
   {
    "duration": 16,
    "start_time": "2022-04-20T14:46:47.538Z"
   },
   {
    "duration": 13,
    "start_time": "2022-04-20T14:46:47.556Z"
   },
   {
    "duration": 102,
    "start_time": "2022-04-20T14:46:47.571Z"
   },
   {
    "duration": 308,
    "start_time": "2022-04-20T14:46:47.679Z"
   },
   {
    "duration": 827,
    "start_time": "2022-04-20T14:46:47.990Z"
   },
   {
    "duration": 856,
    "start_time": "2022-04-20T14:46:48.819Z"
   },
   {
    "duration": 785,
    "start_time": "2022-04-20T14:46:49.677Z"
   },
   {
    "duration": 13,
    "start_time": "2022-04-20T14:46:50.464Z"
   },
   {
    "duration": 119,
    "start_time": "2022-04-20T14:46:50.480Z"
   },
   {
    "duration": 12,
    "start_time": "2022-04-20T14:46:50.601Z"
   },
   {
    "duration": 84,
    "start_time": "2022-04-20T14:46:50.615Z"
   },
   {
    "duration": 155,
    "start_time": "2022-04-20T14:46:50.702Z"
   },
   {
    "duration": 189,
    "start_time": "2022-04-20T14:46:50.859Z"
   },
   {
    "duration": 343,
    "start_time": "2022-04-20T14:46:51.051Z"
   },
   {
    "duration": 257,
    "start_time": "2022-04-20T14:46:51.397Z"
   },
   {
    "duration": 281,
    "start_time": "2022-04-20T14:46:51.656Z"
   },
   {
    "duration": 391,
    "start_time": "2022-04-20T14:46:51.940Z"
   },
   {
    "duration": 129,
    "start_time": "2022-04-20T14:46:52.334Z"
   },
   {
    "duration": 126,
    "start_time": "2022-04-20T14:46:52.469Z"
   },
   {
    "duration": 57,
    "start_time": "2022-04-20T14:47:01.407Z"
   },
   {
    "duration": 123,
    "start_time": "2022-04-20T14:47:47.990Z"
   },
   {
    "duration": 66,
    "start_time": "2022-04-20T14:49:11.910Z"
   },
   {
    "duration": 14,
    "start_time": "2022-04-20T14:49:21.598Z"
   },
   {
    "duration": 123,
    "start_time": "2022-04-20T14:49:36.150Z"
   },
   {
    "duration": 127,
    "start_time": "2022-04-20T14:49:51.041Z"
   },
   {
    "duration": 32,
    "start_time": "2022-04-20T14:51:38.967Z"
   },
   {
    "duration": 124,
    "start_time": "2022-04-20T14:51:47.822Z"
   },
   {
    "duration": 229,
    "start_time": "2022-04-20T14:54:21.714Z"
   },
   {
    "duration": 57,
    "start_time": "2022-04-20T14:57:27.942Z"
   },
   {
    "duration": 36,
    "start_time": "2022-04-20T14:57:44.014Z"
   },
   {
    "duration": 40,
    "start_time": "2022-04-20T15:00:33.645Z"
   },
   {
    "duration": 292,
    "start_time": "2022-04-20T15:01:32.854Z"
   },
   {
    "duration": 307,
    "start_time": "2022-04-20T15:01:51.693Z"
   },
   {
    "duration": 109,
    "start_time": "2022-04-20T15:02:22.169Z"
   },
   {
    "duration": 289,
    "start_time": "2022-04-20T15:05:00.210Z"
   },
   {
    "duration": 6,
    "start_time": "2022-04-20T15:15:03.459Z"
   },
   {
    "duration": 554,
    "start_time": "2022-04-20T15:17:49.718Z"
   },
   {
    "duration": 27,
    "start_time": "2022-04-20T15:20:11.394Z"
   },
   {
    "duration": 4,
    "start_time": "2022-04-20T15:20:19.322Z"
   },
   {
    "duration": 13,
    "start_time": "2022-04-20T15:20:24.378Z"
   },
   {
    "duration": 102,
    "start_time": "2022-04-20T15:24:20.699Z"
   },
   {
    "duration": 30,
    "start_time": "2022-04-20T15:24:53.518Z"
   },
   {
    "duration": 173,
    "start_time": "2022-04-20T15:25:26.802Z"
   },
   {
    "duration": 40,
    "start_time": "2022-04-20T15:27:43.711Z"
   },
   {
    "duration": 25,
    "start_time": "2022-04-20T15:28:05.054Z"
   },
   {
    "duration": 8,
    "start_time": "2022-04-20T15:28:21.386Z"
   },
   {
    "duration": 21,
    "start_time": "2022-04-20T15:28:35.967Z"
   },
   {
    "duration": 113,
    "start_time": "2022-04-20T15:28:49.374Z"
   },
   {
    "duration": 175,
    "start_time": "2022-04-20T15:33:22.407Z"
   },
   {
    "duration": 38,
    "start_time": "2022-04-20T15:33:46.428Z"
   },
   {
    "duration": 149,
    "start_time": "2022-04-20T15:33:53.941Z"
   },
   {
    "duration": 26,
    "start_time": "2022-04-20T15:34:28.674Z"
   },
   {
    "duration": 680,
    "start_time": "2022-04-20T15:34:32.866Z"
   },
   {
    "duration": 13,
    "start_time": "2022-04-20T15:54:31.245Z"
   },
   {
    "duration": 4,
    "start_time": "2022-04-20T15:55:02.841Z"
   },
   {
    "duration": 114,
    "start_time": "2022-04-20T15:55:10.221Z"
   },
   {
    "duration": 654,
    "start_time": "2022-04-20T15:57:14.485Z"
   },
   {
    "duration": 539,
    "start_time": "2022-04-20T15:57:44.006Z"
   },
   {
    "duration": 21,
    "start_time": "2022-04-20T16:02:54.817Z"
   },
   {
    "duration": 76,
    "start_time": "2022-04-20T16:03:20.870Z"
   },
   {
    "duration": 20,
    "start_time": "2022-04-20T16:03:55.693Z"
   },
   {
    "duration": 12,
    "start_time": "2022-04-20T16:05:31.894Z"
   },
   {
    "duration": 5,
    "start_time": "2022-04-20T16:06:10.265Z"
   },
   {
    "duration": 13,
    "start_time": "2022-04-20T16:07:00.954Z"
   },
   {
    "duration": 15,
    "start_time": "2022-04-20T16:08:09.482Z"
   },
   {
    "duration": 19,
    "start_time": "2022-04-20T16:10:18.632Z"
   },
   {
    "duration": 87,
    "start_time": "2022-04-20T16:10:25.046Z"
   },
   {
    "duration": 6,
    "start_time": "2022-04-20T16:10:27.315Z"
   },
   {
    "duration": 9,
    "start_time": "2022-04-20T16:10:35.267Z"
   },
   {
    "duration": 8,
    "start_time": "2022-04-20T16:12:38.772Z"
   },
   {
    "duration": 7,
    "start_time": "2022-04-20T16:12:49.144Z"
   },
   {
    "duration": 7,
    "start_time": "2022-04-20T16:12:57.666Z"
   },
   {
    "duration": 6,
    "start_time": "2022-04-20T16:13:33.207Z"
   },
   {
    "duration": 121,
    "start_time": "2022-04-21T13:15:27.016Z"
   },
   {
    "duration": 7,
    "start_time": "2022-04-21T13:15:31.732Z"
   },
   {
    "duration": 11,
    "start_time": "2022-04-21T13:15:42.092Z"
   },
   {
    "duration": 9,
    "start_time": "2022-04-21T13:15:48.547Z"
   },
   {
    "duration": 2479,
    "start_time": "2022-04-21T13:15:54.108Z"
   },
   {
    "duration": 12596,
    "start_time": "2022-04-21T13:15:56.590Z"
   },
   {
    "duration": 29,
    "start_time": "2022-04-21T13:16:09.189Z"
   },
   {
    "duration": 180,
    "start_time": "2022-04-21T13:16:09.221Z"
   },
   {
    "duration": 131,
    "start_time": "2022-04-21T13:16:09.403Z"
   },
   {
    "duration": 4,
    "start_time": "2022-04-21T13:16:09.536Z"
   },
   {
    "duration": 8,
    "start_time": "2022-04-21T13:16:09.542Z"
   },
   {
    "duration": 11,
    "start_time": "2022-04-21T13:16:09.553Z"
   },
   {
    "duration": 81,
    "start_time": "2022-04-21T13:16:09.567Z"
   },
   {
    "duration": 183,
    "start_time": "2022-04-21T13:16:09.651Z"
   },
   {
    "duration": 928,
    "start_time": "2022-04-21T13:16:09.837Z"
   },
   {
    "duration": 993,
    "start_time": "2022-04-21T13:16:10.767Z"
   },
   {
    "duration": 1004,
    "start_time": "2022-04-21T13:16:11.764Z"
   },
   {
    "duration": 27,
    "start_time": "2022-04-21T13:16:12.771Z"
   },
   {
    "duration": 94,
    "start_time": "2022-04-21T13:16:12.803Z"
   },
   {
    "duration": 15,
    "start_time": "2022-04-21T13:16:12.900Z"
   },
   {
    "duration": 79,
    "start_time": "2022-04-21T13:16:12.918Z"
   },
   {
    "duration": 209,
    "start_time": "2022-04-21T13:16:13.001Z"
   },
   {
    "duration": 290,
    "start_time": "2022-04-21T13:16:13.212Z"
   },
   {
    "duration": 346,
    "start_time": "2022-04-21T13:16:13.505Z"
   },
   {
    "duration": 227,
    "start_time": "2022-04-21T13:16:13.853Z"
   },
   {
    "duration": 264,
    "start_time": "2022-04-21T13:16:14.082Z"
   },
   {
    "duration": 259,
    "start_time": "2022-04-21T13:16:14.348Z"
   },
   {
    "duration": 134,
    "start_time": "2022-04-21T13:16:14.610Z"
   },
   {
    "duration": 321,
    "start_time": "2022-04-21T13:16:14.746Z"
   },
   {
    "duration": 77,
    "start_time": "2022-04-21T13:16:15.069Z"
   },
   {
    "duration": 5,
    "start_time": "2022-04-21T13:16:15.149Z"
   },
   {
    "duration": 106,
    "start_time": "2022-04-21T13:16:15.159Z"
   },
   {
    "duration": 104,
    "start_time": "2022-04-21T13:16:15.267Z"
   },
   {
    "duration": 87,
    "start_time": "2022-04-21T13:16:15.374Z"
   },
   {
    "duration": 941,
    "start_time": "2022-04-21T13:16:15.464Z"
   },
   {
    "duration": 95,
    "start_time": "2022-04-21T13:16:16.408Z"
   },
   {
    "duration": 88,
    "start_time": "2022-04-21T13:16:16.514Z"
   },
   {
    "duration": 103,
    "start_time": "2022-04-21T13:16:16.614Z"
   },
   {
    "duration": 74,
    "start_time": "2022-04-21T13:17:05.135Z"
   },
   {
    "duration": 132,
    "start_time": "2022-04-21T13:17:42.299Z"
   },
   {
    "duration": 42,
    "start_time": "2022-04-21T13:37:00.730Z"
   },
   {
    "duration": 6,
    "start_time": "2022-04-21T13:43:03.603Z"
   },
   {
    "duration": 4,
    "start_time": "2022-04-21T13:43:21.019Z"
   },
   {
    "duration": 5,
    "start_time": "2022-04-21T13:43:30.785Z"
   },
   {
    "duration": 589504,
    "start_time": "2022-04-21T13:44:55.172Z"
   },
   {
    "duration": 199,
    "start_time": "2022-04-21T13:56:47.923Z"
   },
   {
    "duration": 526,
    "start_time": "2022-04-21T13:56:54.099Z"
   },
   {
    "duration": 8,
    "start_time": "2022-04-21T13:57:21.855Z"
   },
   {
    "duration": 4,
    "start_time": "2022-04-21T13:58:16.067Z"
   },
   {
    "duration": 4,
    "start_time": "2022-04-21T13:58:18.307Z"
   },
   {
    "duration": 1880,
    "start_time": "2022-04-22T09:35:44.435Z"
   },
   {
    "duration": 6594,
    "start_time": "2022-04-22T09:35:46.317Z"
   },
   {
    "duration": 21,
    "start_time": "2022-04-22T09:35:52.912Z"
   },
   {
    "duration": 149,
    "start_time": "2022-04-22T09:35:52.936Z"
   },
   {
    "duration": 147,
    "start_time": "2022-04-22T09:35:53.087Z"
   },
   {
    "duration": 3,
    "start_time": "2022-04-22T09:35:53.236Z"
   },
   {
    "duration": 6,
    "start_time": "2022-04-22T09:35:53.241Z"
   },
   {
    "duration": 5,
    "start_time": "2022-04-22T09:35:53.248Z"
   },
   {
    "duration": 46,
    "start_time": "2022-04-22T09:35:53.254Z"
   },
   {
    "duration": 149,
    "start_time": "2022-04-22T09:35:53.322Z"
   },
   {
    "duration": 468,
    "start_time": "2022-04-22T09:35:53.473Z"
   },
   {
    "duration": 513,
    "start_time": "2022-04-22T09:35:53.943Z"
   },
   {
    "duration": 422,
    "start_time": "2022-04-22T09:35:54.458Z"
   },
   {
    "duration": 8,
    "start_time": "2022-04-22T09:35:54.882Z"
   },
   {
    "duration": 63,
    "start_time": "2022-04-22T09:35:54.892Z"
   },
   {
    "duration": 9,
    "start_time": "2022-04-22T09:35:54.956Z"
   },
   {
    "duration": 60,
    "start_time": "2022-04-22T09:35:54.966Z"
   },
   {
    "duration": 101,
    "start_time": "2022-04-22T09:35:55.028Z"
   },
   {
    "duration": 144,
    "start_time": "2022-04-22T09:35:55.131Z"
   },
   {
    "duration": 195,
    "start_time": "2022-04-22T09:35:55.278Z"
   },
   {
    "duration": 182,
    "start_time": "2022-04-22T09:35:55.474Z"
   },
   {
    "duration": 189,
    "start_time": "2022-04-22T09:35:55.658Z"
   },
   {
    "duration": 259,
    "start_time": "2022-04-22T09:35:55.849Z"
   },
   {
    "duration": 4,
    "start_time": "2022-04-22T09:35:56.110Z"
   },
   {
    "duration": 64,
    "start_time": "2022-04-22T09:35:56.124Z"
   },
   {
    "duration": 85,
    "start_time": "2022-04-22T09:35:56.189Z"
   },
   {
    "duration": 63,
    "start_time": "2022-04-22T09:35:56.276Z"
   },
   {
    "duration": 596,
    "start_time": "2022-04-22T09:35:56.342Z"
   },
   {
    "duration": 98,
    "start_time": "2022-04-22T09:35:56.941Z"
   },
   {
    "duration": 88,
    "start_time": "2022-04-22T09:35:57.041Z"
   },
   {
    "duration": 86,
    "start_time": "2022-04-22T09:35:57.137Z"
   },
   {
    "duration": 3,
    "start_time": "2022-04-22T09:35:57.226Z"
   },
   {
    "duration": 1095259,
    "start_time": "2022-04-22T09:35:57.232Z"
   },
   {
    "duration": 1008,
    "start_time": "2022-04-22T09:54:12.493Z"
   },
   {
    "duration": 5,
    "start_time": "2022-04-22T09:54:13.502Z"
   },
   {
    "duration": 17,
    "start_time": "2022-04-22T09:54:13.508Z"
   },
   {
    "duration": 137,
    "start_time": "2022-04-22T09:54:13.528Z"
   },
   {
    "duration": 2,
    "start_time": "2022-04-22T10:00:26.041Z"
   },
   {
    "duration": 49,
    "start_time": "2022-04-22T10:01:02.562Z"
   },
   {
    "duration": 7,
    "start_time": "2022-04-22T10:01:10.581Z"
   },
   {
    "duration": 1876,
    "start_time": "2022-04-22T10:01:14.700Z"
   },
   {
    "duration": 10204,
    "start_time": "2022-04-22T10:01:16.578Z"
   },
   {
    "duration": 15,
    "start_time": "2022-04-22T10:01:26.784Z"
   },
   {
    "duration": 156,
    "start_time": "2022-04-22T10:01:26.801Z"
   },
   {
    "duration": 98,
    "start_time": "2022-04-22T10:01:26.959Z"
   },
   {
    "duration": 3,
    "start_time": "2022-04-22T10:01:27.058Z"
   },
   {
    "duration": 14,
    "start_time": "2022-04-22T10:01:27.063Z"
   },
   {
    "duration": 7,
    "start_time": "2022-04-22T10:01:27.079Z"
   },
   {
    "duration": 61,
    "start_time": "2022-04-22T10:01:27.088Z"
   },
   {
    "duration": 145,
    "start_time": "2022-04-22T10:01:27.151Z"
   },
   {
    "duration": 495,
    "start_time": "2022-04-22T10:01:27.297Z"
   },
   {
    "duration": 513,
    "start_time": "2022-04-22T10:01:27.793Z"
   },
   {
    "duration": 459,
    "start_time": "2022-04-22T10:01:28.308Z"
   },
   {
    "duration": 9,
    "start_time": "2022-04-22T10:01:28.768Z"
   },
   {
    "duration": 54,
    "start_time": "2022-04-22T10:01:28.778Z"
   },
   {
    "duration": 7,
    "start_time": "2022-04-22T10:01:28.834Z"
   },
   {
    "duration": 53,
    "start_time": "2022-04-22T10:01:28.843Z"
   },
   {
    "duration": 109,
    "start_time": "2022-04-22T10:01:28.898Z"
   },
   {
    "duration": 162,
    "start_time": "2022-04-22T10:01:29.008Z"
   },
   {
    "duration": 274,
    "start_time": "2022-04-22T10:01:29.171Z"
   },
   {
    "duration": 180,
    "start_time": "2022-04-22T10:01:29.447Z"
   },
   {
    "duration": 184,
    "start_time": "2022-04-22T10:01:29.629Z"
   },
   {
    "duration": 264,
    "start_time": "2022-04-22T10:01:29.814Z"
   },
   {
    "duration": 5,
    "start_time": "2022-04-22T10:01:30.080Z"
   },
   {
    "duration": 70,
    "start_time": "2022-04-22T10:01:30.087Z"
   },
   {
    "duration": 102,
    "start_time": "2022-04-22T10:01:30.159Z"
   },
   {
    "duration": 78,
    "start_time": "2022-04-22T10:01:30.263Z"
   },
   {
    "duration": 689,
    "start_time": "2022-04-22T10:01:30.346Z"
   },
   {
    "duration": 101,
    "start_time": "2022-04-22T10:01:31.038Z"
   },
   {
    "duration": 7,
    "start_time": "2022-04-22T10:01:31.142Z"
   },
   {
    "duration": 12,
    "start_time": "2022-04-22T10:01:31.224Z"
   },
   {
    "duration": 20,
    "start_time": "2022-04-22T10:01:31.324Z"
   },
   {
    "duration": 207086,
    "start_time": "2022-04-22T10:01:31.346Z"
   },
   {
    "duration": 0,
    "start_time": "2022-04-22T10:04:58.434Z"
   },
   {
    "duration": 0,
    "start_time": "2022-04-22T10:04:58.435Z"
   },
   {
    "duration": 0,
    "start_time": "2022-04-22T10:04:58.436Z"
   },
   {
    "duration": 0,
    "start_time": "2022-04-22T10:04:58.437Z"
   },
   {
    "duration": 0,
    "start_time": "2022-04-22T10:04:58.438Z"
   },
   {
    "duration": 3,
    "start_time": "2022-04-22T10:05:17.501Z"
   },
   {
    "duration": 3,
    "start_time": "2022-04-22T10:05:19.361Z"
   },
   {
    "duration": 273845,
    "start_time": "2022-04-22T10:05:22.033Z"
   },
   {
    "duration": 275,
    "start_time": "2022-04-22T10:09:55.881Z"
   },
   {
    "duration": 5,
    "start_time": "2022-04-22T10:09:56.159Z"
   },
   {
    "duration": 3,
    "start_time": "2022-04-22T10:09:56.166Z"
   },
   {
    "duration": 50,
    "start_time": "2022-04-22T10:10:18.294Z"
   },
   {
    "duration": 1779,
    "start_time": "2022-04-22T10:10:31.892Z"
   },
   {
    "duration": 9866,
    "start_time": "2022-04-22T10:10:33.674Z"
   },
   {
    "duration": 17,
    "start_time": "2022-04-22T10:10:43.542Z"
   },
   {
    "duration": 152,
    "start_time": "2022-04-22T10:10:43.561Z"
   },
   {
    "duration": 92,
    "start_time": "2022-04-22T10:10:43.715Z"
   },
   {
    "duration": 16,
    "start_time": "2022-04-22T10:10:43.808Z"
   },
   {
    "duration": 9,
    "start_time": "2022-04-22T10:10:43.825Z"
   },
   {
    "duration": 3,
    "start_time": "2022-04-22T10:10:43.836Z"
   },
   {
    "duration": 50,
    "start_time": "2022-04-22T10:10:43.841Z"
   },
   {
    "duration": 157,
    "start_time": "2022-04-22T10:10:43.894Z"
   },
   {
    "duration": 425,
    "start_time": "2022-04-22T10:10:44.053Z"
   },
   {
    "duration": 488,
    "start_time": "2022-04-22T10:10:44.480Z"
   },
   {
    "duration": 430,
    "start_time": "2022-04-22T10:10:44.970Z"
   },
   {
    "duration": 9,
    "start_time": "2022-04-22T10:10:45.401Z"
   },
   {
    "duration": 48,
    "start_time": "2022-04-22T10:10:45.423Z"
   },
   {
    "duration": 8,
    "start_time": "2022-04-22T10:10:45.473Z"
   },
   {
    "duration": 59,
    "start_time": "2022-04-22T10:10:45.482Z"
   },
   {
    "duration": 140,
    "start_time": "2022-04-22T10:10:45.543Z"
   },
   {
    "duration": 140,
    "start_time": "2022-04-22T10:10:45.685Z"
   },
   {
    "duration": 177,
    "start_time": "2022-04-22T10:10:45.827Z"
   },
   {
    "duration": 151,
    "start_time": "2022-04-22T10:10:46.006Z"
   },
   {
    "duration": 174,
    "start_time": "2022-04-22T10:10:46.159Z"
   },
   {
    "duration": 248,
    "start_time": "2022-04-22T10:10:46.335Z"
   },
   {
    "duration": 4,
    "start_time": "2022-04-22T10:10:46.584Z"
   },
   {
    "duration": 68,
    "start_time": "2022-04-22T10:10:46.589Z"
   },
   {
    "duration": 84,
    "start_time": "2022-04-22T10:10:46.659Z"
   },
   {
    "duration": 58,
    "start_time": "2022-04-22T10:10:46.745Z"
   },
   {
    "duration": 729,
    "start_time": "2022-04-22T10:10:46.806Z"
   },
   {
    "duration": 93,
    "start_time": "2022-04-22T10:10:47.538Z"
   },
   {
    "duration": 8,
    "start_time": "2022-04-22T10:10:47.634Z"
   },
   {
    "duration": 4,
    "start_time": "2022-04-22T10:10:47.723Z"
   },
   {
    "duration": 5,
    "start_time": "2022-04-22T10:10:47.729Z"
   },
   {
    "duration": 49,
    "start_time": "2022-04-22T10:10:57.210Z"
   },
   {
    "duration": 6,
    "start_time": "2022-04-22T10:11:12.482Z"
   },
   {
    "duration": 6,
    "start_time": "2022-04-22T10:11:41.670Z"
   },
   {
    "duration": 2024,
    "start_time": "2022-04-22T10:11:48.906Z"
   },
   {
    "duration": 9907,
    "start_time": "2022-04-22T10:11:50.932Z"
   },
   {
    "duration": 16,
    "start_time": "2022-04-22T10:12:00.841Z"
   },
   {
    "duration": 145,
    "start_time": "2022-04-22T10:12:00.859Z"
   },
   {
    "duration": 125,
    "start_time": "2022-04-22T10:12:01.006Z"
   },
   {
    "duration": 4,
    "start_time": "2022-04-22T10:12:01.133Z"
   },
   {
    "duration": 23,
    "start_time": "2022-04-22T10:12:01.139Z"
   },
   {
    "duration": 12,
    "start_time": "2022-04-22T10:12:01.164Z"
   },
   {
    "duration": 56,
    "start_time": "2022-04-22T10:12:01.178Z"
   },
   {
    "duration": 140,
    "start_time": "2022-04-22T10:12:01.238Z"
   },
   {
    "duration": 474,
    "start_time": "2022-04-22T10:12:01.380Z"
   },
   {
    "duration": 512,
    "start_time": "2022-04-22T10:12:01.856Z"
   },
   {
    "duration": 426,
    "start_time": "2022-04-22T10:12:02.370Z"
   },
   {
    "duration": 9,
    "start_time": "2022-04-22T10:12:02.798Z"
   },
   {
    "duration": 77,
    "start_time": "2022-04-22T10:12:02.809Z"
   },
   {
    "duration": 8,
    "start_time": "2022-04-22T10:12:02.888Z"
   },
   {
    "duration": 61,
    "start_time": "2022-04-22T10:12:02.898Z"
   },
   {
    "duration": 102,
    "start_time": "2022-04-22T10:12:02.961Z"
   },
   {
    "duration": 137,
    "start_time": "2022-04-22T10:12:03.066Z"
   },
   {
    "duration": 183,
    "start_time": "2022-04-22T10:12:03.205Z"
   },
   {
    "duration": 157,
    "start_time": "2022-04-22T10:12:03.390Z"
   },
   {
    "duration": 176,
    "start_time": "2022-04-22T10:12:03.548Z"
   },
   {
    "duration": 250,
    "start_time": "2022-04-22T10:12:03.726Z"
   },
   {
    "duration": 4,
    "start_time": "2022-04-22T10:12:03.978Z"
   },
   {
    "duration": 71,
    "start_time": "2022-04-22T10:12:03.984Z"
   },
   {
    "duration": 82,
    "start_time": "2022-04-22T10:12:04.057Z"
   },
   {
    "duration": 57,
    "start_time": "2022-04-22T10:12:04.141Z"
   },
   {
    "duration": 727,
    "start_time": "2022-04-22T10:12:04.202Z"
   },
   {
    "duration": 94,
    "start_time": "2022-04-22T10:12:04.931Z"
   },
   {
    "duration": 7,
    "start_time": "2022-04-22T10:12:05.028Z"
   },
   {
    "duration": 88,
    "start_time": "2022-04-22T10:12:05.037Z"
   },
   {
    "duration": 130,
    "start_time": "2022-04-22T10:12:05.127Z"
   },
   {
    "duration": 0,
    "start_time": "2022-04-22T10:12:05.259Z"
   },
   {
    "duration": 0,
    "start_time": "2022-04-22T10:12:05.260Z"
   },
   {
    "duration": 3,
    "start_time": "2022-04-22T10:12:39.605Z"
   },
   {
    "duration": 80263,
    "start_time": "2022-04-22T10:12:42.320Z"
   },
   {
    "duration": 325,
    "start_time": "2022-04-22T10:14:02.623Z"
   },
   {
    "duration": 5,
    "start_time": "2022-04-22T10:14:23.243Z"
   },
   {
    "duration": 4,
    "start_time": "2022-04-22T12:07:01.027Z"
   },
   {
    "duration": 3,
    "start_time": "2022-04-22T12:07:07.703Z"
   },
   {
    "duration": 11,
    "start_time": "2022-04-22T12:09:56.319Z"
   },
   {
    "duration": 3,
    "start_time": "2022-04-22T12:10:14.752Z"
   },
   {
    "duration": 17,
    "start_time": "2022-04-22T12:10:30.564Z"
   },
   {
    "duration": 3,
    "start_time": "2022-04-22T12:10:44.539Z"
   },
   {
    "duration": 318843,
    "start_time": "2022-04-22T12:10:46.700Z"
   },
   {
    "duration": 3,
    "start_time": "2022-04-22T12:16:59.775Z"
   },
   {
    "duration": 1098470,
    "start_time": "2022-04-22T12:17:02.372Z"
   },
   {
    "duration": 689,
    "start_time": "2022-04-22T12:35:46.230Z"
   },
   {
    "duration": 346,
    "start_time": "2022-04-22T12:36:12.381Z"
   },
   {
    "duration": 2,
    "start_time": "2022-04-22T12:36:45.697Z"
   },
   {
    "duration": 215,
    "start_time": "2022-04-22T12:36:48.017Z"
   },
   {
    "duration": 3,
    "start_time": "2022-04-22T12:37:02.173Z"
   },
   {
    "duration": 456,
    "start_time": "2022-04-22T12:37:04.360Z"
   },
   {
    "duration": 203,
    "start_time": "2022-04-22T12:37:19.845Z"
   },
   {
    "duration": 3,
    "start_time": "2022-04-22T12:38:01.993Z"
   },
   {
    "duration": 3,
    "start_time": "2022-04-22T12:38:06.789Z"
   },
   {
    "duration": 297783,
    "start_time": "2022-04-22T12:38:10.261Z"
   },
   {
    "duration": 4,
    "start_time": "2022-04-22T12:43:36.624Z"
   },
   {
    "duration": 3,
    "start_time": "2022-04-22T12:43:38.929Z"
   },
   {
    "duration": 276348,
    "start_time": "2022-04-22T12:43:41.597Z"
   },
   {
    "duration": 0,
    "start_time": "2022-04-22T12:48:17.948Z"
   },
   {
    "duration": 4,
    "start_time": "2022-04-22T12:48:24.050Z"
   },
   {
    "duration": 3,
    "start_time": "2022-04-22T12:48:34.327Z"
   },
   {
    "duration": 5962,
    "start_time": "2022-04-22T12:48:37.279Z"
   },
   {
    "duration": 3,
    "start_time": "2022-04-22T12:48:50.132Z"
   },
   {
    "duration": 3,
    "start_time": "2022-04-22T12:48:52.848Z"
   },
   {
    "duration": 684685,
    "start_time": "2022-04-22T12:48:55.068Z"
   },
   {
    "duration": 3,
    "start_time": "2022-04-22T13:00:19.826Z"
   },
   {
    "duration": 3,
    "start_time": "2022-04-22T13:00:29.718Z"
   },
   {
    "duration": 3,
    "start_time": "2022-04-22T13:00:31.799Z"
   },
   {
    "duration": 2155405,
    "start_time": "2022-04-22T13:00:34.622Z"
   },
   {
    "duration": 9,
    "start_time": "2022-04-22T13:36:37.610Z"
   },
   {
    "duration": 4,
    "start_time": "2022-04-22T13:37:11.314Z"
   },
   {
    "duration": 11,
    "start_time": "2022-04-22T13:37:21.398Z"
   },
   {
    "duration": 3,
    "start_time": "2022-04-22T13:37:29.794Z"
   },
   {
    "duration": 13,
    "start_time": "2022-04-22T13:37:31.910Z"
   },
   {
    "duration": 3,
    "start_time": "2022-04-22T13:37:58.304Z"
   },
   {
    "duration": 44206,
    "start_time": "2022-04-22T13:38:01.442Z"
   },
   {
    "duration": 0,
    "start_time": "2022-04-22T13:38:45.650Z"
   },
   {
    "duration": 2,
    "start_time": "2022-04-22T13:38:48.838Z"
   },
   {
    "duration": 3,
    "start_time": "2022-04-22T13:38:51.364Z"
   },
   {
    "duration": 19793,
    "start_time": "2022-04-22T13:38:53.450Z"
   },
   {
    "duration": 11,
    "start_time": "2022-04-22T13:39:22.473Z"
   },
   {
    "duration": 10,
    "start_time": "2022-04-22T13:39:50.173Z"
   },
   {
    "duration": 3,
    "start_time": "2022-04-22T13:39:58.229Z"
   },
   {
    "duration": 3,
    "start_time": "2022-04-22T13:40:00.799Z"
   },
   {
    "duration": 147157,
    "start_time": "2022-04-22T13:40:03.398Z"
   },
   {
    "duration": 4,
    "start_time": "2022-04-22T13:43:04.453Z"
   },
   {
    "duration": 3,
    "start_time": "2022-04-22T13:43:07.026Z"
   },
   {
    "duration": 6409,
    "start_time": "2022-04-22T13:43:09.445Z"
   },
   {
    "duration": 4,
    "start_time": "2022-04-22T13:43:18.325Z"
   },
   {
    "duration": 3,
    "start_time": "2022-04-22T13:43:21.065Z"
   },
   {
    "duration": 620341,
    "start_time": "2022-04-22T13:43:23.909Z"
   },
   {
    "duration": 57,
    "start_time": "2022-04-22T13:55:43.183Z"
   },
   {
    "duration": 4,
    "start_time": "2022-04-22T13:55:52.880Z"
   },
   {
    "duration": 73,
    "start_time": "2022-04-22T14:18:43.713Z"
   },
   {
    "duration": 10390,
    "start_time": "2022-04-22T14:19:46.944Z"
   },
   {
    "duration": 56,
    "start_time": "2022-04-22T14:20:16.377Z"
   },
   {
    "duration": 4,
    "start_time": "2022-04-22T14:20:23.756Z"
   },
   {
    "duration": 643,
    "start_time": "2022-04-22T14:20:31.884Z"
   },
   {
    "duration": 4,
    "start_time": "2022-04-22T14:20:34.248Z"
   },
   {
    "duration": 20,
    "start_time": "2022-04-22T14:37:05.211Z"
   },
   {
    "duration": 44110,
    "start_time": "2022-04-22T14:37:38.882Z"
   },
   {
    "duration": 12,
    "start_time": "2022-04-22T14:39:03.971Z"
   },
   {
    "duration": 93,
    "start_time": "2022-04-22T14:39:10.806Z"
   },
   {
    "duration": 4,
    "start_time": "2022-04-22T14:39:15.870Z"
   },
   {
    "duration": 1641,
    "start_time": "2022-04-23T05:43:44.278Z"
   },
   {
    "duration": 754,
    "start_time": "2022-04-23T05:43:45.921Z"
   },
   {
    "duration": 15,
    "start_time": "2022-04-23T05:43:46.677Z"
   },
   {
    "duration": 143,
    "start_time": "2022-04-23T05:43:46.694Z"
   },
   {
    "duration": 93,
    "start_time": "2022-04-23T05:43:46.839Z"
   },
   {
    "duration": 3,
    "start_time": "2022-04-23T05:43:46.933Z"
   },
   {
    "duration": 6,
    "start_time": "2022-04-23T05:43:46.938Z"
   },
   {
    "duration": 5,
    "start_time": "2022-04-23T05:43:46.945Z"
   },
   {
    "duration": 71,
    "start_time": "2022-04-23T05:43:46.951Z"
   },
   {
    "duration": 136,
    "start_time": "2022-04-23T05:43:47.025Z"
   },
   {
    "duration": 437,
    "start_time": "2022-04-23T05:43:47.163Z"
   },
   {
    "duration": 491,
    "start_time": "2022-04-23T05:43:47.602Z"
   },
   {
    "duration": 415,
    "start_time": "2022-04-23T05:43:48.095Z"
   },
   {
    "duration": 7,
    "start_time": "2022-04-23T05:43:48.512Z"
   },
   {
    "duration": 48,
    "start_time": "2022-04-23T05:43:48.520Z"
   },
   {
    "duration": 7,
    "start_time": "2022-04-23T05:43:48.570Z"
   },
   {
    "duration": 65,
    "start_time": "2022-04-23T05:43:48.578Z"
   },
   {
    "duration": 98,
    "start_time": "2022-04-23T05:43:48.645Z"
   },
   {
    "duration": 125,
    "start_time": "2022-04-23T05:43:48.745Z"
   },
   {
    "duration": 173,
    "start_time": "2022-04-23T05:43:48.872Z"
   },
   {
    "duration": 154,
    "start_time": "2022-04-23T05:43:49.047Z"
   },
   {
    "duration": 173,
    "start_time": "2022-04-23T05:43:49.202Z"
   },
   {
    "duration": 256,
    "start_time": "2022-04-23T05:43:49.377Z"
   },
   {
    "duration": 4,
    "start_time": "2022-04-23T05:43:49.634Z"
   },
   {
    "duration": 69,
    "start_time": "2022-04-23T05:43:49.641Z"
   },
   {
    "duration": 81,
    "start_time": "2022-04-23T05:43:51.726Z"
   },
   {
    "duration": 655,
    "start_time": "2022-04-23T05:44:08.163Z"
   },
   {
    "duration": 37,
    "start_time": "2022-04-23T05:44:24.470Z"
   },
   {
    "duration": 5,
    "start_time": "2022-04-23T05:44:29.014Z"
   },
   {
    "duration": 3,
    "start_time": "2022-04-23T05:50:51.334Z"
   },
   {
    "duration": 3,
    "start_time": "2022-04-23T05:50:54.446Z"
   },
   {
    "duration": 4,
    "start_time": "2022-04-23T05:51:05.981Z"
   },
   {
    "duration": 244361,
    "start_time": "2022-04-23T05:51:09.510Z"
   },
   {
    "duration": 283,
    "start_time": "2022-04-23T05:55:13.873Z"
   },
   {
    "duration": 4,
    "start_time": "2022-04-23T05:55:14.158Z"
   },
   {
    "duration": 3,
    "start_time": "2022-04-23T05:58:52.437Z"
   },
   {
    "duration": 3,
    "start_time": "2022-04-23T05:58:56.625Z"
   },
   {
    "duration": 1156456,
    "start_time": "2022-04-23T05:58:59.021Z"
   },
   {
    "duration": 95,
    "start_time": "2022-04-23T06:18:15.479Z"
   },
   {
    "duration": 4,
    "start_time": "2022-04-23T06:18:15.576Z"
   },
   {
    "duration": 2,
    "start_time": "2022-04-23T06:18:29.768Z"
   },
   {
    "duration": 3,
    "start_time": "2022-04-23T06:18:38.336Z"
   },
   {
    "duration": 72149,
    "start_time": "2022-04-23T06:18:40.696Z"
   },
   {
    "duration": 73,
    "start_time": "2022-04-23T06:19:52.847Z"
   },
   {
    "duration": 3,
    "start_time": "2022-04-23T06:20:07.104Z"
   },
   {
    "duration": 92772,
    "start_time": "2022-04-23T06:20:11.148Z"
   },
   {
    "duration": 136,
    "start_time": "2022-04-23T06:21:43.923Z"
   },
   {
    "duration": 84,
    "start_time": "2022-04-23T06:21:44.060Z"
   },
   {
    "duration": 2,
    "start_time": "2022-04-23T06:21:52.548Z"
   },
   {
    "duration": 3,
    "start_time": "2022-04-23T06:22:32.600Z"
   },
   {
    "duration": 3,
    "start_time": "2022-04-23T06:22:44.888Z"
   },
   {
    "duration": 3,
    "start_time": "2022-04-23T06:22:47.316Z"
   },
   {
    "duration": 761748,
    "start_time": "2022-04-23T06:22:51.450Z"
   },
   {
    "duration": 96,
    "start_time": "2022-04-23T06:35:33.200Z"
   },
   {
    "duration": 4,
    "start_time": "2022-04-23T06:35:33.297Z"
   },
   {
    "duration": 3,
    "start_time": "2022-04-23T06:35:33.303Z"
   },
   {
    "duration": 2,
    "start_time": "2022-04-23T06:35:37.704Z"
   },
   {
    "duration": 3,
    "start_time": "2022-04-23T06:35:40.516Z"
   },
   {
    "duration": 480079,
    "start_time": "2022-04-23T06:35:43.139Z"
   },
   {
    "duration": 86,
    "start_time": "2022-04-23T06:43:43.220Z"
   },
   {
    "duration": 4,
    "start_time": "2022-04-23T06:43:43.308Z"
   },
   {
    "duration": 3,
    "start_time": "2022-04-23T06:44:00.055Z"
   },
   {
    "duration": 3,
    "start_time": "2022-04-23T06:44:03.363Z"
   },
   {
    "duration": 309021,
    "start_time": "2022-04-23T06:44:05.507Z"
   },
   {
    "duration": 285,
    "start_time": "2022-04-23T06:49:14.530Z"
   },
   {
    "duration": 5,
    "start_time": "2022-04-23T06:49:30.983Z"
   },
   {
    "duration": 30,
    "start_time": "2022-04-23T06:49:44.675Z"
   },
   {
    "duration": 102,
    "start_time": "2022-04-23T06:49:47.559Z"
   },
   {
    "duration": 86,
    "start_time": "2022-04-23T06:49:57.527Z"
   },
   {
    "duration": 3,
    "start_time": "2022-04-23T06:50:02.775Z"
   },
   {
    "duration": 3,
    "start_time": "2022-04-23T06:50:05.411Z"
   },
   {
    "duration": 1208,
    "start_time": "2022-04-23T06:50:09.139Z"
   },
   {
    "duration": 638951,
    "start_time": "2022-04-23T06:54:52.074Z"
   },
   {
    "duration": 0,
    "start_time": "2022-04-23T07:05:31.027Z"
   },
   {
    "duration": 3,
    "start_time": "2022-04-23T07:05:58.498Z"
   },
   {
    "duration": 3,
    "start_time": "2022-04-23T07:06:01.130Z"
   },
   {
    "duration": 870918,
    "start_time": "2022-04-23T07:06:03.490Z"
   },
   {
    "duration": 83,
    "start_time": "2022-04-23T07:20:34.410Z"
   },
   {
    "duration": 3,
    "start_time": "2022-04-23T07:20:34.494Z"
   },
   {
    "duration": 5,
    "start_time": "2022-04-23T07:20:34.498Z"
   },
   {
    "duration": 3,
    "start_time": "2022-04-23T07:20:40.425Z"
   },
   {
    "duration": 2,
    "start_time": "2022-04-23T07:20:42.317Z"
   },
   {
    "duration": 83786,
    "start_time": "2022-04-23T07:20:44.213Z"
   },
   {
    "duration": 86,
    "start_time": "2022-04-23T07:22:08.001Z"
   },
   {
    "duration": 3,
    "start_time": "2022-04-23T07:22:08.088Z"
   },
   {
    "duration": 79153,
    "start_time": "2022-04-23T07:22:24.405Z"
   },
   {
    "duration": 79,
    "start_time": "2022-04-23T08:00:27.687Z"
   },
   {
    "duration": 586,
    "start_time": "2022-04-23T08:00:33.943Z"
   },
   {
    "duration": 75,
    "start_time": "2022-04-23T08:01:51.508Z"
   },
   {
    "duration": 78,
    "start_time": "2022-04-23T08:01:54.748Z"
   },
   {
    "duration": 588,
    "start_time": "2022-04-23T08:01:58.043Z"
   },
   {
    "duration": 3,
    "start_time": "2022-04-23T08:07:58.119Z"
   },
   {
    "duration": 744,
    "start_time": "2022-04-23T08:07:58.124Z"
   },
   {
    "duration": 12,
    "start_time": "2022-04-23T08:07:58.870Z"
   },
   {
    "duration": 137,
    "start_time": "2022-04-23T08:07:58.883Z"
   },
   {
    "duration": 93,
    "start_time": "2022-04-23T08:07:59.022Z"
   },
   {
    "duration": 3,
    "start_time": "2022-04-23T08:07:59.116Z"
   },
   {
    "duration": 6,
    "start_time": "2022-04-23T08:07:59.120Z"
   },
   {
    "duration": 4,
    "start_time": "2022-04-23T08:07:59.127Z"
   },
   {
    "duration": 24,
    "start_time": "2022-04-23T08:07:59.133Z"
   },
   {
    "duration": 142,
    "start_time": "2022-04-23T08:07:59.159Z"
   },
   {
    "duration": 395,
    "start_time": "2022-04-23T08:07:59.308Z"
   },
   {
    "duration": 413,
    "start_time": "2022-04-23T08:07:59.707Z"
   },
   {
    "duration": 400,
    "start_time": "2022-04-23T08:08:00.121Z"
   },
   {
    "duration": 5,
    "start_time": "2022-04-23T08:08:00.523Z"
   },
   {
    "duration": 44,
    "start_time": "2022-04-23T08:08:00.529Z"
   },
   {
    "duration": 7,
    "start_time": "2022-04-23T08:08:00.574Z"
   },
   {
    "duration": 56,
    "start_time": "2022-04-23T08:08:00.582Z"
   },
   {
    "duration": 68,
    "start_time": "2022-04-23T08:08:00.640Z"
   },
   {
    "duration": 129,
    "start_time": "2022-04-23T08:08:00.710Z"
   },
   {
    "duration": 166,
    "start_time": "2022-04-23T08:08:00.841Z"
   },
   {
    "duration": 157,
    "start_time": "2022-04-23T08:08:01.009Z"
   },
   {
    "duration": 170,
    "start_time": "2022-04-23T08:08:01.167Z"
   },
   {
    "duration": 243,
    "start_time": "2022-04-23T08:08:01.339Z"
   },
   {
    "duration": 75,
    "start_time": "2022-04-23T08:08:01.584Z"
   },
   {
    "duration": 79,
    "start_time": "2022-04-23T08:08:01.662Z"
   },
   {
    "duration": 666,
    "start_time": "2022-04-23T08:08:03.646Z"
   },
   {
    "duration": 18,
    "start_time": "2022-04-23T08:08:08.490Z"
   },
   {
    "duration": 4,
    "start_time": "2022-04-23T08:08:17.255Z"
   },
   {
    "duration": 3,
    "start_time": "2022-04-23T08:08:49.206Z"
   },
   {
    "duration": 8749,
    "start_time": "2022-04-23T08:08:51.891Z"
   },
   {
    "duration": 3,
    "start_time": "2022-04-23T08:09:45.954Z"
   },
   {
    "duration": 62915,
    "start_time": "2022-04-23T08:09:53.702Z"
   },
   {
    "duration": 1574,
    "start_time": "2022-04-23T08:11:04.150Z"
   },
   {
    "duration": 1541,
    "start_time": "2022-04-23T08:12:36.526Z"
   },
   {
    "duration": 1546,
    "start_time": "2022-04-23T08:13:23.842Z"
   },
   {
    "duration": 533,
    "start_time": "2022-04-23T08:13:34.661Z"
   },
   {
    "duration": 4,
    "start_time": "2022-04-23T08:13:57.106Z"
   },
   {
    "duration": 4,
    "start_time": "2022-04-23T08:14:10.337Z"
   },
   {
    "duration": 69363,
    "start_time": "2022-04-23T08:14:12.866Z"
   },
   {
    "duration": 1857,
    "start_time": "2022-04-23T08:15:22.231Z"
   },
   {
    "duration": 665,
    "start_time": "2022-04-23T08:15:24.090Z"
   },
   {
    "duration": 5,
    "start_time": "2022-04-23T08:15:24.757Z"
   },
   {
    "duration": 3,
    "start_time": "2022-04-23T08:16:51.277Z"
   },
   {
    "duration": 82740,
    "start_time": "2022-04-23T08:16:53.753Z"
   },
   {
    "duration": 2254,
    "start_time": "2022-04-23T08:18:16.496Z"
   },
   {
    "duration": 756,
    "start_time": "2022-04-23T08:18:18.752Z"
   },
   {
    "duration": 5,
    "start_time": "2022-04-23T08:18:19.510Z"
   },
   {
    "duration": 2,
    "start_time": "2022-04-23T08:18:31.045Z"
   },
   {
    "duration": 105164,
    "start_time": "2022-04-23T08:18:34.516Z"
   },
   {
    "duration": 3419,
    "start_time": "2022-04-23T08:20:19.682Z"
   },
   {
    "duration": 1164,
    "start_time": "2022-04-23T08:20:23.104Z"
   },
   {
    "duration": 5,
    "start_time": "2022-04-23T08:20:24.270Z"
   },
   {
    "duration": 3,
    "start_time": "2022-04-23T08:20:41.001Z"
   },
   {
    "duration": 3,
    "start_time": "2022-04-23T08:20:50.637Z"
   },
   {
    "duration": 3,
    "start_time": "2022-04-23T08:20:55.905Z"
   },
   {
    "duration": 70220,
    "start_time": "2022-04-23T08:20:58.084Z"
   },
   {
    "duration": 2320,
    "start_time": "2022-04-23T08:22:08.306Z"
   },
   {
    "duration": 872,
    "start_time": "2022-04-23T08:22:10.628Z"
   },
   {
    "duration": 7,
    "start_time": "2022-04-23T08:22:11.502Z"
   },
   {
    "duration": 2,
    "start_time": "2022-04-23T08:22:22.301Z"
   },
   {
    "duration": 61961,
    "start_time": "2022-04-23T08:22:24.808Z"
   },
   {
    "duration": 2095,
    "start_time": "2022-04-23T08:23:26.771Z"
   },
   {
    "duration": 708,
    "start_time": "2022-04-23T08:23:28.867Z"
   },
   {
    "duration": 4,
    "start_time": "2022-04-23T08:23:29.577Z"
   },
   {
    "duration": 2,
    "start_time": "2022-04-23T08:24:49.013Z"
   },
   {
    "duration": 48785,
    "start_time": "2022-04-23T08:24:51.208Z"
   },
   {
    "duration": 1390,
    "start_time": "2022-04-23T08:25:39.995Z"
   },
   {
    "duration": 473,
    "start_time": "2022-04-23T08:25:41.387Z"
   },
   {
    "duration": 5,
    "start_time": "2022-04-23T08:25:41.862Z"
   },
   {
    "duration": 2,
    "start_time": "2022-04-23T08:25:57.205Z"
   },
   {
    "duration": 43231,
    "start_time": "2022-04-23T08:26:01.848Z"
   },
   {
    "duration": 1121,
    "start_time": "2022-04-23T08:26:45.081Z"
   },
   {
    "duration": 364,
    "start_time": "2022-04-23T08:26:46.204Z"
   },
   {
    "duration": 3,
    "start_time": "2022-04-23T08:26:46.570Z"
   },
   {
    "duration": 3,
    "start_time": "2022-04-23T08:27:00.772Z"
   },
   {
    "duration": 56365,
    "start_time": "2022-04-23T08:27:03.477Z"
   },
   {
    "duration": 1400,
    "start_time": "2022-04-23T08:27:59.844Z"
   },
   {
    "duration": 472,
    "start_time": "2022-04-23T08:28:01.245Z"
   },
   {
    "duration": 4,
    "start_time": "2022-04-23T08:28:01.719Z"
   },
   {
    "duration": 2,
    "start_time": "2022-04-23T08:28:12.737Z"
   },
   {
    "duration": 49178,
    "start_time": "2022-04-23T08:28:14.868Z"
   },
   {
    "duration": 1191,
    "start_time": "2022-04-23T08:29:04.048Z"
   },
   {
    "duration": 395,
    "start_time": "2022-04-23T08:29:05.241Z"
   },
   {
    "duration": 4,
    "start_time": "2022-04-23T08:29:05.638Z"
   },
   {
    "duration": 3,
    "start_time": "2022-04-23T08:30:00.708Z"
   },
   {
    "duration": 79698,
    "start_time": "2022-04-23T08:30:07.087Z"
   },
   {
    "duration": 1027,
    "start_time": "2022-04-23T08:31:46.407Z"
   },
   {
    "duration": 4,
    "start_time": "2022-04-23T08:32:14.468Z"
   },
   {
    "duration": 6,
    "start_time": "2022-04-23T08:32:22.957Z"
   },
   {
    "duration": 329,
    "start_time": "2022-04-23T08:32:38.784Z"
   },
   {
    "duration": 5,
    "start_time": "2022-04-23T08:32:44.547Z"
   },
   {
    "duration": 2,
    "start_time": "2022-04-23T08:32:54.340Z"
   },
   {
    "duration": 124428,
    "start_time": "2022-04-23T08:32:56.204Z"
   },
   {
    "duration": 1674,
    "start_time": "2022-04-23T08:35:00.634Z"
   },
   {
    "duration": 6,
    "start_time": "2022-04-23T08:35:02.309Z"
   },
   {
    "duration": 593,
    "start_time": "2022-04-23T08:35:02.317Z"
   },
   {
    "duration": 3,
    "start_time": "2022-04-23T08:35:02.912Z"
   },
   {
    "duration": 3,
    "start_time": "2022-04-23T08:35:22.639Z"
   },
   {
    "duration": 20093,
    "start_time": "2022-04-23T08:35:24.820Z"
   },
   {
    "duration": 17,
    "start_time": "2022-04-23T08:35:44.915Z"
   },
   {
    "duration": 0,
    "start_time": "2022-04-23T08:35:44.934Z"
   },
   {
    "duration": 0,
    "start_time": "2022-04-23T08:35:44.935Z"
   },
   {
    "duration": 25175,
    "start_time": "2022-04-23T08:35:47.423Z"
   },
   {
    "duration": 19,
    "start_time": "2022-04-23T08:36:12.600Z"
   },
   {
    "duration": 0,
    "start_time": "2022-04-23T08:36:12.620Z"
   },
   {
    "duration": 0,
    "start_time": "2022-04-23T08:36:12.622Z"
   },
   {
    "duration": 174596,
    "start_time": "2022-04-23T08:36:14.292Z"
   },
   {
    "duration": 2233,
    "start_time": "2022-04-23T08:39:08.890Z"
   },
   {
    "duration": 7,
    "start_time": "2022-04-23T08:39:11.126Z"
   },
   {
    "duration": 787,
    "start_time": "2022-04-23T08:39:11.135Z"
   },
   {
    "duration": 5,
    "start_time": "2022-04-23T08:39:11.924Z"
   },
   {
    "duration": 2,
    "start_time": "2022-04-23T09:12:56.367Z"
   },
   {
    "duration": 148903,
    "start_time": "2022-04-23T09:12:58.307Z"
   },
   {
    "duration": 16,
    "start_time": "2022-04-23T09:15:27.212Z"
   },
   {
    "duration": 0,
    "start_time": "2022-04-23T09:15:27.229Z"
   },
   {
    "duration": 0,
    "start_time": "2022-04-23T09:15:27.230Z"
   },
   {
    "duration": 0,
    "start_time": "2022-04-23T09:15:27.232Z"
   },
   {
    "duration": 2,
    "start_time": "2022-04-23T09:15:29.579Z"
   },
   {
    "duration": 259258,
    "start_time": "2022-04-23T09:15:31.767Z"
   },
   {
    "duration": 1189,
    "start_time": "2022-04-23T09:19:51.027Z"
   },
   {
    "duration": 6,
    "start_time": "2022-04-23T09:19:52.218Z"
   },
   {
    "duration": 400,
    "start_time": "2022-04-23T09:19:52.226Z"
   },
   {
    "duration": 5,
    "start_time": "2022-04-23T09:19:52.628Z"
   },
   {
    "duration": 2,
    "start_time": "2022-04-23T09:20:08.550Z"
   },
   {
    "duration": 114431,
    "start_time": "2022-04-23T09:20:10.846Z"
   },
   {
    "duration": 1551,
    "start_time": "2022-04-23T09:22:05.279Z"
   },
   {
    "duration": 6,
    "start_time": "2022-04-23T09:22:06.832Z"
   },
   {
    "duration": 573,
    "start_time": "2022-04-23T09:22:06.840Z"
   },
   {
    "duration": 4,
    "start_time": "2022-04-23T09:22:07.415Z"
   },
   {
    "duration": 3,
    "start_time": "2022-04-23T09:22:21.758Z"
   },
   {
    "duration": 143991,
    "start_time": "2022-04-23T09:22:24.282Z"
   },
   {
    "duration": 1852,
    "start_time": "2022-04-23T09:24:48.274Z"
   },
   {
    "duration": 5,
    "start_time": "2022-04-23T09:24:50.128Z"
   },
   {
    "duration": 680,
    "start_time": "2022-04-23T09:24:50.135Z"
   },
   {
    "duration": 4,
    "start_time": "2022-04-23T09:24:50.816Z"
   },
   {
    "duration": 3,
    "start_time": "2022-04-23T09:25:18.506Z"
   },
   {
    "duration": 172989,
    "start_time": "2022-04-23T09:25:21.342Z"
   },
   {
    "duration": 2296,
    "start_time": "2022-04-23T09:28:14.333Z"
   },
   {
    "duration": 7,
    "start_time": "2022-04-23T09:28:16.630Z"
   },
   {
    "duration": 783,
    "start_time": "2022-04-23T09:28:16.639Z"
   },
   {
    "duration": 5,
    "start_time": "2022-04-23T09:28:17.423Z"
   },
   {
    "duration": 3,
    "start_time": "2022-04-23T09:28:37.305Z"
   },
   {
    "duration": 201324,
    "start_time": "2022-04-23T09:28:40.209Z"
   },
   {
    "duration": 1501,
    "start_time": "2022-04-23T09:32:01.535Z"
   },
   {
    "duration": 71,
    "start_time": "2022-04-23T09:32:03.038Z"
   },
   {
    "duration": 511,
    "start_time": "2022-04-23T09:32:03.111Z"
   },
   {
    "duration": 5,
    "start_time": "2022-04-23T09:32:03.623Z"
   },
   {
    "duration": 3,
    "start_time": "2022-04-23T09:32:28.441Z"
   },
   {
    "duration": 232344,
    "start_time": "2022-04-23T09:32:30.625Z"
   },
   {
    "duration": 1145,
    "start_time": "2022-04-23T09:36:22.971Z"
   },
   {
    "duration": 6,
    "start_time": "2022-04-23T09:36:24.117Z"
   },
   {
    "duration": 395,
    "start_time": "2022-04-23T09:36:24.126Z"
   },
   {
    "duration": 5,
    "start_time": "2022-04-23T09:36:24.522Z"
   },
   {
    "duration": 3,
    "start_time": "2022-04-23T09:36:54.364Z"
   },
   {
    "duration": 80707,
    "start_time": "2022-04-23T09:36:56.459Z"
   },
   {
    "duration": 950,
    "start_time": "2022-04-23T09:38:17.168Z"
   },
   {
    "duration": 9,
    "start_time": "2022-04-23T09:38:18.120Z"
   },
   {
    "duration": 392,
    "start_time": "2022-04-23T09:38:18.131Z"
   },
   {
    "duration": 6,
    "start_time": "2022-04-23T09:38:18.526Z"
   },
   {
    "duration": 3,
    "start_time": "2022-04-23T09:38:37.517Z"
   },
   {
    "duration": 98678,
    "start_time": "2022-04-23T09:38:40.496Z"
   },
   {
    "duration": 934,
    "start_time": "2022-04-23T09:40:19.176Z"
   },
   {
    "duration": 6,
    "start_time": "2022-04-23T09:40:43.452Z"
   },
   {
    "duration": 308,
    "start_time": "2022-04-23T09:40:46.408Z"
   },
   {
    "duration": 5,
    "start_time": "2022-04-23T09:40:49.004Z"
   },
   {
    "duration": 3,
    "start_time": "2022-04-23T09:40:57.576Z"
   },
   {
    "duration": 3,
    "start_time": "2022-04-23T09:41:05.760Z"
   },
   {
    "duration": 12,
    "start_time": "2022-04-23T09:41:57.363Z"
   },
   {
    "duration": 2829,
    "start_time": "2022-04-23T09:41:57.376Z"
   },
   {
    "duration": 4,
    "start_time": "2022-04-23T09:42:02.684Z"
   },
   {
    "duration": 167873,
    "start_time": "2022-04-23T09:42:05.053Z"
   },
   {
    "duration": 893,
    "start_time": "2022-04-23T09:44:52.928Z"
   },
   {
    "duration": 5,
    "start_time": "2022-04-23T09:44:53.823Z"
   },
   {
    "duration": 382,
    "start_time": "2022-04-23T09:44:53.830Z"
   },
   {
    "duration": 6,
    "start_time": "2022-04-23T09:44:54.214Z"
   },
   {
    "duration": 24,
    "start_time": "2022-04-23T09:45:51.752Z"
   },
   {
    "duration": 81535,
    "start_time": "2022-04-23T09:46:25.596Z"
   },
   {
    "duration": 11938,
    "start_time": "2022-04-23T09:47:54.976Z"
   },
   {
    "duration": 3,
    "start_time": "2022-04-23T09:48:12.720Z"
   },
   {
    "duration": 185046,
    "start_time": "2022-04-23T09:48:15.572Z"
   },
   {
    "duration": 90,
    "start_time": "2022-04-23T09:51:20.620Z"
   },
   {
    "duration": 1734,
    "start_time": "2022-04-23T09:51:50.995Z"
   },
   {
    "duration": 1825,
    "start_time": "2022-04-23T09:52:22.383Z"
   },
   {
    "duration": 590,
    "start_time": "2022-04-23T09:53:07.323Z"
   },
   {
    "duration": 600,
    "start_time": "2022-04-23T09:53:14.419Z"
   },
   {
    "duration": 3,
    "start_time": "2022-04-23T09:53:27.774Z"
   },
   {
    "duration": 3602,
    "start_time": "2022-04-23T09:53:30.179Z"
   },
   {
    "duration": 2,
    "start_time": "2022-04-23T09:53:41.975Z"
   },
   {
    "duration": 5571,
    "start_time": "2022-04-23T09:53:44.347Z"
   },
   {
    "duration": 1803,
    "start_time": "2022-04-23T09:53:49.920Z"
   },
   {
    "duration": 1719,
    "start_time": "2022-04-23T09:53:59.407Z"
   },
   {
    "duration": 611,
    "start_time": "2022-04-23T09:54:03.995Z"
   },
   {
    "duration": 2,
    "start_time": "2022-04-23T09:54:18.375Z"
   },
   {
    "duration": 4322,
    "start_time": "2022-04-23T09:54:22.794Z"
   },
   {
    "duration": 1404,
    "start_time": "2022-04-23T09:54:27.117Z"
   },
   {
    "duration": 383,
    "start_time": "2022-04-23T09:54:30.338Z"
   },
   {
    "duration": 3,
    "start_time": "2022-04-23T09:54:44.918Z"
   },
   {
    "duration": 8194,
    "start_time": "2022-04-23T09:54:46.922Z"
   },
   {
    "duration": 2812,
    "start_time": "2022-04-23T09:54:55.118Z"
   },
   {
    "duration": 892,
    "start_time": "2022-04-23T09:54:57.932Z"
   },
   {
    "duration": 3,
    "start_time": "2022-04-23T09:55:23.336Z"
   },
   {
    "duration": 15223,
    "start_time": "2022-04-23T09:55:25.094Z"
   },
   {
    "duration": 4801,
    "start_time": "2022-04-23T09:55:40.319Z"
   },
   {
    "duration": 1601,
    "start_time": "2022-04-23T09:55:45.121Z"
   },
   {
    "duration": 3,
    "start_time": "2022-04-23T09:56:00.690Z"
   },
   {
    "duration": 8477,
    "start_time": "2022-04-23T09:56:02.638Z"
   },
   {
    "duration": 2900,
    "start_time": "2022-04-23T09:56:11.118Z"
   },
   {
    "duration": 995,
    "start_time": "2022-04-23T09:56:14.020Z"
   },
   {
    "duration": 915,
    "start_time": "2022-04-23T09:56:47.298Z"
   },
   {
    "duration": 4,
    "start_time": "2022-04-23T09:56:51.927Z"
   },
   {
    "duration": 3,
    "start_time": "2022-04-23T09:57:04.030Z"
   },
   {
    "duration": 8464,
    "start_time": "2022-04-23T09:57:06.755Z"
   },
   {
    "duration": 2998,
    "start_time": "2022-04-23T09:57:15.221Z"
   },
   {
    "duration": 991,
    "start_time": "2022-04-23T09:57:18.221Z"
   },
   {
    "duration": 5,
    "start_time": "2022-04-23T09:57:19.214Z"
   },
   {
    "duration": 2,
    "start_time": "2022-04-23T09:57:30.419Z"
   },
   {
    "duration": 8598,
    "start_time": "2022-04-23T09:57:32.717Z"
   },
   {
    "duration": 2892,
    "start_time": "2022-04-23T09:57:41.317Z"
   },
   {
    "duration": 910,
    "start_time": "2022-04-23T09:57:44.211Z"
   },
   {
    "duration": 5,
    "start_time": "2022-04-23T09:57:45.124Z"
   },
   {
    "duration": 2,
    "start_time": "2022-04-23T09:58:03.906Z"
   },
   {
    "duration": 8935,
    "start_time": "2022-04-23T09:58:07.278Z"
   },
   {
    "duration": 2925,
    "start_time": "2022-04-23T09:58:16.215Z"
   },
   {
    "duration": 978,
    "start_time": "2022-04-23T09:58:19.141Z"
   },
   {
    "duration": 5,
    "start_time": "2022-04-23T09:58:20.122Z"
   },
   {
    "duration": 3,
    "start_time": "2022-04-23T09:59:31.354Z"
   },
   {
    "duration": 4,
    "start_time": "2022-04-23T10:00:08.677Z"
   },
   {
    "duration": 3,
    "start_time": "2022-04-23T10:00:11.742Z"
   },
   {
    "duration": 3,
    "start_time": "2022-04-23T10:00:14.354Z"
   },
   {
    "duration": 30209,
    "start_time": "2022-04-23T10:00:49.521Z"
   },
   {
    "duration": 58023,
    "start_time": "2022-04-23T10:01:26.963Z"
   },
   {
    "duration": 3,
    "start_time": "2022-04-23T10:02:27.687Z"
   },
   {
    "duration": 88216,
    "start_time": "2022-04-23T10:02:30.199Z"
   },
   {
    "duration": 2859,
    "start_time": "2022-04-23T10:04:20.251Z"
   },
   {
    "duration": 345,
    "start_time": "2022-04-23T10:05:13.571Z"
   },
   {
    "duration": 7,
    "start_time": "2022-04-23T10:06:12.619Z"
   },
   {
    "duration": 3,
    "start_time": "2022-04-23T10:06:46.211Z"
   },
   {
    "duration": 2,
    "start_time": "2022-04-23T10:06:48.755Z"
   },
   {
    "duration": 305647,
    "start_time": "2022-04-23T10:06:51.349Z"
   },
   {
    "duration": 13,
    "start_time": "2022-04-23T10:11:56.998Z"
   },
   {
    "duration": 3,
    "start_time": "2022-04-23T10:12:03.782Z"
   },
   {
    "duration": 3,
    "start_time": "2022-04-23T10:12:08.686Z"
   },
   {
    "duration": 73797,
    "start_time": "2022-04-23T10:12:11.819Z"
   },
   {
    "duration": 701,
    "start_time": "2022-04-23T10:13:25.618Z"
   },
   {
    "duration": 699,
    "start_time": "2022-04-23T10:15:19.910Z"
   },
   {
    "duration": 3,
    "start_time": "2022-04-23T10:15:36.870Z"
   },
   {
    "duration": 3,
    "start_time": "2022-04-23T10:15:39.146Z"
   },
   {
    "duration": 175532,
    "start_time": "2022-04-23T10:15:41.458Z"
   },
   {
    "duration": 14,
    "start_time": "2022-04-23T10:18:36.992Z"
   },
   {
    "duration": 0,
    "start_time": "2022-04-23T10:18:37.008Z"
   },
   {
    "duration": 0,
    "start_time": "2022-04-23T10:18:37.009Z"
   },
   {
    "duration": 0,
    "start_time": "2022-04-23T10:18:37.011Z"
   },
   {
    "duration": 0,
    "start_time": "2022-04-23T10:18:37.012Z"
   },
   {
    "duration": 0,
    "start_time": "2022-04-23T10:18:37.013Z"
   },
   {
    "duration": 3,
    "start_time": "2022-04-23T10:18:47.285Z"
   },
   {
    "duration": 125202,
    "start_time": "2022-04-23T10:18:49.782Z"
   },
   {
    "duration": 10,
    "start_time": "2022-04-23T10:20:54.986Z"
   },
   {
    "duration": 0,
    "start_time": "2022-04-23T10:20:54.997Z"
   },
   {
    "duration": 0,
    "start_time": "2022-04-23T10:20:54.998Z"
   },
   {
    "duration": 3,
    "start_time": "2022-04-23T10:21:13.298Z"
   },
   {
    "duration": 71594,
    "start_time": "2022-04-23T10:21:15.525Z"
   },
   {
    "duration": 2995,
    "start_time": "2022-04-23T10:22:27.121Z"
   },
   {
    "duration": 998,
    "start_time": "2022-04-23T10:22:30.118Z"
   },
   {
    "duration": 6,
    "start_time": "2022-04-23T10:22:31.118Z"
   },
   {
    "duration": 3,
    "start_time": "2022-04-23T10:23:06.757Z"
   },
   {
    "duration": 3,
    "start_time": "2022-04-23T10:23:11.069Z"
   },
   {
    "duration": 24169,
    "start_time": "2022-04-23T10:23:13.945Z"
   },
   {
    "duration": 3,
    "start_time": "2022-04-23T10:23:50.737Z"
   },
   {
    "duration": 3,
    "start_time": "2022-04-23T10:23:53.065Z"
   },
   {
    "duration": 52239,
    "start_time": "2022-04-23T10:23:55.749Z"
   },
   {
    "duration": 3,
    "start_time": "2022-04-23T10:24:55.360Z"
   },
   {
    "duration": 3,
    "start_time": "2022-04-23T10:24:57.724Z"
   },
   {
    "duration": 24309,
    "start_time": "2022-04-23T10:25:00.109Z"
   },
   {
    "duration": 3,
    "start_time": "2022-04-23T10:25:34.925Z"
   },
   {
    "duration": 3,
    "start_time": "2022-04-23T10:25:37.512Z"
   },
   {
    "duration": 74324,
    "start_time": "2022-04-23T10:25:39.888Z"
   },
   {
    "duration": 611,
    "start_time": "2022-04-23T10:28:54.308Z"
   },
   {
    "duration": 9,
    "start_time": "2022-04-23T10:29:31.649Z"
   },
   {
    "duration": 10,
    "start_time": "2022-04-23T10:29:36.394Z"
   },
   {
    "duration": 3,
    "start_time": "2022-04-23T10:34:54.644Z"
   },
   {
    "duration": 3,
    "start_time": "2022-04-23T10:34:56.924Z"
   },
   {
    "duration": 259988,
    "start_time": "2022-04-23T10:34:59.876Z"
   },
   {
    "duration": 3,
    "start_time": "2022-04-23T10:39:19.866Z"
   },
   {
    "duration": 10047,
    "start_time": "2022-04-23T10:39:19.870Z"
   },
   {
    "duration": 2763,
    "start_time": "2022-04-23T10:39:55.064Z"
   },
   {
    "duration": 875,
    "start_time": "2022-04-23T10:40:02.744Z"
   },
   {
    "duration": 5,
    "start_time": "2022-04-23T10:40:06.027Z"
   },
   {
    "duration": 3,
    "start_time": "2022-04-23T10:40:32.791Z"
   },
   {
    "duration": 7403,
    "start_time": "2022-04-23T10:40:38.612Z"
   },
   {
    "duration": 2413,
    "start_time": "2022-04-23T10:40:46.017Z"
   },
   {
    "duration": 789,
    "start_time": "2022-04-23T10:40:48.432Z"
   },
   {
    "duration": 5,
    "start_time": "2022-04-23T10:40:49.223Z"
   },
   {
    "duration": 3,
    "start_time": "2022-04-23T10:40:59.627Z"
   },
   {
    "duration": 10413,
    "start_time": "2022-04-23T10:41:01.596Z"
   },
   {
    "duration": 2608,
    "start_time": "2022-04-23T10:41:12.011Z"
   },
   {
    "duration": 890,
    "start_time": "2022-04-23T10:41:14.621Z"
   },
   {
    "duration": 5,
    "start_time": "2022-04-23T10:41:15.513Z"
   },
   {
    "duration": 3,
    "start_time": "2022-04-23T10:41:23.064Z"
   },
   {
    "duration": 46534,
    "start_time": "2022-04-23T10:41:24.975Z"
   },
   {
    "duration": 3104,
    "start_time": "2022-04-23T10:42:11.511Z"
   },
   {
    "duration": 1099,
    "start_time": "2022-04-23T10:42:14.617Z"
   },
   {
    "duration": 6,
    "start_time": "2022-04-23T10:42:15.719Z"
   },
   {
    "duration": 10,
    "start_time": "2022-04-23T10:45:45.087Z"
   },
   {
    "duration": 3,
    "start_time": "2022-04-23T10:45:51.099Z"
   },
   {
    "duration": 147467,
    "start_time": "2022-04-23T10:45:53.819Z"
   },
   {
    "duration": 18,
    "start_time": "2022-04-23T10:48:21.288Z"
   },
   {
    "duration": 0,
    "start_time": "2022-04-23T10:48:21.307Z"
   },
   {
    "duration": 0,
    "start_time": "2022-04-23T10:48:21.308Z"
   },
   {
    "duration": 0,
    "start_time": "2022-04-23T10:48:21.309Z"
   },
   {
    "duration": 155730,
    "start_time": "2022-04-23T10:48:27.079Z"
   },
   {
    "duration": 909,
    "start_time": "2022-04-23T10:51:02.811Z"
   },
   {
    "duration": 6,
    "start_time": "2022-04-23T10:51:03.722Z"
   },
   {
    "duration": 382,
    "start_time": "2022-04-23T10:51:03.730Z"
   },
   {
    "duration": 5,
    "start_time": "2022-04-23T10:51:04.114Z"
   },
   {
    "duration": 16708,
    "start_time": "2022-04-23T10:55:25.711Z"
   },
   {
    "duration": 3087,
    "start_time": "2022-04-23T10:55:42.421Z"
   },
   {
    "duration": 998,
    "start_time": "2022-04-23T10:55:45.510Z"
   },
   {
    "duration": 5,
    "start_time": "2022-04-23T10:55:46.511Z"
   },
   {
    "duration": 9,
    "start_time": "2022-04-23T10:58:44.355Z"
   },
   {
    "duration": 20,
    "start_time": "2022-04-23T10:58:51.607Z"
   },
   {
    "duration": 2,
    "start_time": "2022-04-23T10:59:00.842Z"
   },
   {
    "duration": 38514,
    "start_time": "2022-04-23T10:59:06.894Z"
   },
   {
    "duration": 284,
    "start_time": "2022-04-23T11:00:14.646Z"
   },
   {
    "duration": 38167,
    "start_time": "2022-04-23T11:00:33.218Z"
   },
   {
    "duration": 276,
    "start_time": "2022-04-23T11:01:11.659Z"
   },
   {
    "duration": 8,
    "start_time": "2022-04-23T11:01:11.942Z"
   },
   {
    "duration": 108,
    "start_time": "2022-04-23T11:02:14.302Z"
   },
   {
    "duration": 4,
    "start_time": "2022-04-23T11:02:28.769Z"
   },
   {
    "duration": 2,
    "start_time": "2022-04-23T11:02:54.350Z"
   },
   {
    "duration": 16429,
    "start_time": "2022-04-23T11:02:56.522Z"
   },
   {
    "duration": 211,
    "start_time": "2022-04-23T11:03:20.430Z"
   },
   {
    "duration": 3,
    "start_time": "2022-04-23T11:03:22.682Z"
   },
   {
    "duration": 68,
    "start_time": "2022-04-23T11:03:26.125Z"
   },
   {
    "duration": 4,
    "start_time": "2022-04-23T11:03:28.737Z"
   },
   {
    "duration": 3,
    "start_time": "2022-04-23T11:03:43.933Z"
   },
   {
    "duration": 8947,
    "start_time": "2022-04-23T11:03:46.166Z"
   },
   {
    "duration": 3095,
    "start_time": "2022-04-23T11:03:55.114Z"
   },
   {
    "duration": 1007,
    "start_time": "2022-04-23T11:03:58.211Z"
   },
   {
    "duration": 2,
    "start_time": "2022-04-23T11:03:59.220Z"
   },
   {
    "duration": 15222,
    "start_time": "2022-04-23T11:04:01.098Z"
   },
   {
    "duration": 3321,
    "start_time": "2022-04-23T11:04:16.322Z"
   },
   {
    "duration": 1080,
    "start_time": "2022-04-23T11:04:19.644Z"
   },
   {
    "duration": 5,
    "start_time": "2022-04-23T11:04:20.727Z"
   },
   {
    "duration": 3,
    "start_time": "2022-04-23T11:04:20.810Z"
   },
   {
    "duration": 8203,
    "start_time": "2022-04-23T11:04:20.815Z"
   },
   {
    "duration": 83,
    "start_time": "2022-04-23T11:04:30.550Z"
   },
   {
    "duration": 3,
    "start_time": "2022-04-23T11:04:32.590Z"
   },
   {
    "duration": 31,
    "start_time": "2022-04-23T11:04:34.937Z"
   },
   {
    "duration": 4,
    "start_time": "2022-04-23T11:04:39.065Z"
   },
   {
    "duration": 3,
    "start_time": "2022-04-23T11:04:50.209Z"
   },
   {
    "duration": 7208,
    "start_time": "2022-04-23T11:04:52.469Z"
   },
   {
    "duration": 77,
    "start_time": "2022-04-23T11:05:00.962Z"
   },
   {
    "duration": 5,
    "start_time": "2022-04-23T11:05:02.797Z"
   },
   {
    "duration": 30,
    "start_time": "2022-04-23T11:05:04.753Z"
   },
   {
    "duration": 4,
    "start_time": "2022-04-23T11:05:07.345Z"
   },
   {
    "duration": 3,
    "start_time": "2022-04-23T11:05:18.645Z"
   },
   {
    "duration": 4481,
    "start_time": "2022-04-23T11:05:20.486Z"
   },
   {
    "duration": 61,
    "start_time": "2022-04-23T11:05:29.245Z"
   },
   {
    "duration": 4,
    "start_time": "2022-04-23T11:05:31.713Z"
   },
   {
    "duration": 22,
    "start_time": "2022-04-23T11:05:33.994Z"
   },
   {
    "duration": 4,
    "start_time": "2022-04-23T11:05:36.981Z"
   },
   {
    "duration": 3,
    "start_time": "2022-04-23T11:15:51.017Z"
   },
   {
    "duration": 4476,
    "start_time": "2022-04-23T11:16:01.848Z"
   },
   {
    "duration": 61,
    "start_time": "2022-04-23T11:16:11.196Z"
   },
   {
    "duration": 5,
    "start_time": "2022-04-23T11:16:13.492Z"
   },
   {
    "duration": 24,
    "start_time": "2022-04-23T11:16:15.768Z"
   },
   {
    "duration": 4,
    "start_time": "2022-04-23T11:16:17.892Z"
   },
   {
    "duration": 3,
    "start_time": "2022-04-23T11:16:26.180Z"
   },
   {
    "duration": 4076,
    "start_time": "2022-04-23T11:16:28.444Z"
   },
   {
    "duration": 58,
    "start_time": "2022-04-23T11:16:35.396Z"
   },
   {
    "duration": 3,
    "start_time": "2022-04-23T11:16:37.357Z"
   },
   {
    "duration": 24,
    "start_time": "2022-04-23T11:16:39.584Z"
   },
   {
    "duration": 4,
    "start_time": "2022-04-23T11:16:41.728Z"
   },
   {
    "duration": 3,
    "start_time": "2022-04-23T11:16:47.517Z"
   },
   {
    "duration": 4050,
    "start_time": "2022-04-23T11:16:49.484Z"
   },
   {
    "duration": 60,
    "start_time": "2022-04-23T11:16:56.320Z"
   },
   {
    "duration": 4,
    "start_time": "2022-04-23T11:16:58.324Z"
   },
   {
    "duration": 25,
    "start_time": "2022-04-23T11:17:00.916Z"
   },
   {
    "duration": 4,
    "start_time": "2022-04-23T11:17:03.360Z"
   },
   {
    "duration": 3,
    "start_time": "2022-04-23T11:19:28.484Z"
   },
   {
    "duration": 33529,
    "start_time": "2022-04-23T11:19:31.376Z"
   },
   {
    "duration": 244,
    "start_time": "2022-04-23T11:20:09.060Z"
   },
   {
    "duration": 4,
    "start_time": "2022-04-23T11:20:11.196Z"
   },
   {
    "duration": 84,
    "start_time": "2022-04-23T11:20:13.867Z"
   },
   {
    "duration": 4,
    "start_time": "2022-04-23T11:20:16.000Z"
   },
   {
    "duration": 3,
    "start_time": "2022-04-23T11:21:20.479Z"
   },
   {
    "duration": 28394,
    "start_time": "2022-04-23T11:21:22.388Z"
   },
   {
    "duration": 215,
    "start_time": "2022-04-23T11:21:50.784Z"
   },
   {
    "duration": 3,
    "start_time": "2022-04-23T11:21:53.976Z"
   },
   {
    "duration": 74,
    "start_time": "2022-04-23T11:21:57.852Z"
   },
   {
    "duration": 4,
    "start_time": "2022-04-23T11:21:59.916Z"
   },
   {
    "duration": 3,
    "start_time": "2022-04-23T11:22:07.624Z"
   },
   {
    "duration": 31236,
    "start_time": "2022-04-23T11:22:09.980Z"
   },
   {
    "duration": 221,
    "start_time": "2022-04-23T11:22:41.218Z"
   },
   {
    "duration": 3,
    "start_time": "2022-04-23T11:22:41.441Z"
   },
   {
    "duration": 88,
    "start_time": "2022-04-23T11:22:41.447Z"
   },
   {
    "duration": 5,
    "start_time": "2022-04-23T11:22:41.537Z"
   },
   {
    "duration": 10,
    "start_time": "2022-04-23T11:25:35.163Z"
   },
   {
    "duration": 3,
    "start_time": "2022-04-23T11:25:59.587Z"
   },
   {
    "duration": 29518,
    "start_time": "2022-04-23T11:26:02.503Z"
   },
   {
    "duration": 209,
    "start_time": "2022-04-23T11:26:32.023Z"
   },
   {
    "duration": 3,
    "start_time": "2022-04-23T11:26:32.234Z"
   },
   {
    "duration": 69,
    "start_time": "2022-04-23T11:26:35.643Z"
   },
   {
    "duration": 4,
    "start_time": "2022-04-23T11:26:38.019Z"
   },
   {
    "duration": 3,
    "start_time": "2022-04-23T11:26:46.523Z"
   },
   {
    "duration": 14358,
    "start_time": "2022-04-23T11:26:48.447Z"
   },
   {
    "duration": 129,
    "start_time": "2022-04-23T11:27:02.807Z"
   },
   {
    "duration": 5,
    "start_time": "2022-04-23T11:27:02.938Z"
   },
   {
    "duration": 62,
    "start_time": "2022-04-23T11:27:02.945Z"
   },
   {
    "duration": 4,
    "start_time": "2022-04-23T11:27:05.531Z"
   },
   {
    "duration": 3,
    "start_time": "2022-04-23T11:27:14.899Z"
   },
   {
    "duration": 39318,
    "start_time": "2022-04-23T11:27:17.031Z"
   },
   {
    "duration": 259,
    "start_time": "2022-04-23T11:27:56.351Z"
   },
   {
    "duration": 3,
    "start_time": "2022-04-23T11:27:56.612Z"
   },
   {
    "duration": 99,
    "start_time": "2022-04-23T11:27:56.617Z"
   },
   {
    "duration": 3,
    "start_time": "2022-04-23T11:27:56.718Z"
   },
   {
    "duration": 3,
    "start_time": "2022-04-23T11:28:09.363Z"
   },
   {
    "duration": 31955,
    "start_time": "2022-04-23T11:28:11.395Z"
   },
   {
    "duration": 226,
    "start_time": "2022-04-23T11:28:43.352Z"
   },
   {
    "duration": 3,
    "start_time": "2022-04-23T11:28:43.580Z"
   },
   {
    "duration": 87,
    "start_time": "2022-04-23T11:28:43.585Z"
   },
   {
    "duration": 3,
    "start_time": "2022-04-23T11:28:43.674Z"
   },
   {
    "duration": 3,
    "start_time": "2022-04-23T11:28:56.891Z"
   },
   {
    "duration": 29018,
    "start_time": "2022-04-23T11:28:59.395Z"
   },
   {
    "duration": 210,
    "start_time": "2022-04-23T11:29:28.415Z"
   },
   {
    "duration": 4,
    "start_time": "2022-04-23T11:29:28.627Z"
   },
   {
    "duration": 81,
    "start_time": "2022-04-23T11:29:28.634Z"
   },
   {
    "duration": 4,
    "start_time": "2022-04-23T11:29:28.717Z"
   },
   {
    "duration": 3,
    "start_time": "2022-04-23T11:29:37.083Z"
   },
   {
    "duration": 26937,
    "start_time": "2022-04-23T11:29:39.959Z"
   },
   {
    "duration": 194,
    "start_time": "2022-04-23T11:30:06.899Z"
   },
   {
    "duration": 5,
    "start_time": "2022-04-23T11:30:07.095Z"
   },
   {
    "duration": 69,
    "start_time": "2022-04-23T11:30:07.107Z"
   },
   {
    "duration": 4,
    "start_time": "2022-04-23T11:30:07.178Z"
   },
   {
    "duration": 3,
    "start_time": "2022-04-23T11:30:13.675Z"
   },
   {
    "duration": 18360,
    "start_time": "2022-04-23T11:30:16.363Z"
   },
   {
    "duration": 145,
    "start_time": "2022-04-23T11:30:34.725Z"
   },
   {
    "duration": 5,
    "start_time": "2022-04-23T11:30:34.871Z"
   },
   {
    "duration": 67,
    "start_time": "2022-04-23T11:30:34.878Z"
   },
   {
    "duration": 4,
    "start_time": "2022-04-23T11:30:34.946Z"
   },
   {
    "duration": 3,
    "start_time": "2022-04-23T11:30:56.838Z"
   },
   {
    "duration": 22125,
    "start_time": "2022-04-23T11:30:58.759Z"
   },
   {
    "duration": 170,
    "start_time": "2022-04-23T11:31:20.886Z"
   },
   {
    "duration": 3,
    "start_time": "2022-04-23T11:31:21.058Z"
   },
   {
    "duration": 69,
    "start_time": "2022-04-23T11:31:21.063Z"
   },
   {
    "duration": 4,
    "start_time": "2022-04-23T11:31:21.134Z"
   },
   {
    "duration": 4,
    "start_time": "2022-04-23T11:31:30.950Z"
   },
   {
    "duration": 24306,
    "start_time": "2022-04-23T11:31:33.803Z"
   },
   {
    "duration": 180,
    "start_time": "2022-04-23T11:31:58.111Z"
   },
   {
    "duration": 3,
    "start_time": "2022-04-23T11:31:58.293Z"
   },
   {
    "duration": 86,
    "start_time": "2022-04-23T11:31:58.298Z"
   },
   {
    "duration": 4,
    "start_time": "2022-04-23T11:31:58.385Z"
   },
   {
    "duration": 3,
    "start_time": "2022-04-23T11:32:08.595Z"
   },
   {
    "duration": 28873,
    "start_time": "2022-04-23T11:32:11.843Z"
   },
   {
    "duration": 202,
    "start_time": "2022-04-23T11:32:40.718Z"
   },
   {
    "duration": 4,
    "start_time": "2022-04-23T11:32:40.922Z"
   },
   {
    "duration": 79,
    "start_time": "2022-04-23T11:32:40.929Z"
   },
   {
    "duration": 3,
    "start_time": "2022-04-23T11:32:41.010Z"
   },
   {
    "duration": 3,
    "start_time": "2022-04-23T11:32:53.186Z"
   },
   {
    "duration": 32338,
    "start_time": "2022-04-23T11:32:55.974Z"
   },
   {
    "duration": 224,
    "start_time": "2022-04-23T11:33:28.314Z"
   },
   {
    "duration": 3,
    "start_time": "2022-04-23T11:33:28.539Z"
   },
   {
    "duration": 86,
    "start_time": "2022-04-23T11:33:28.544Z"
   },
   {
    "duration": 3,
    "start_time": "2022-04-23T11:33:28.632Z"
   },
   {
    "duration": 3,
    "start_time": "2022-04-23T11:33:43.434Z"
   },
   {
    "duration": 3,
    "start_time": "2022-04-23T11:33:46.070Z"
   },
   {
    "duration": 35533,
    "start_time": "2022-04-23T11:33:48.518Z"
   },
   {
    "duration": 266,
    "start_time": "2022-04-23T11:34:24.053Z"
   },
   {
    "duration": 3,
    "start_time": "2022-04-23T11:34:24.321Z"
   },
   {
    "duration": 99,
    "start_time": "2022-04-23T11:34:24.326Z"
   },
   {
    "duration": 4,
    "start_time": "2022-04-23T11:34:24.426Z"
   },
   {
    "duration": 2,
    "start_time": "2022-04-23T11:34:46.574Z"
   },
   {
    "duration": 40128,
    "start_time": "2022-04-23T11:34:50.889Z"
   },
   {
    "duration": 262,
    "start_time": "2022-04-23T11:35:31.018Z"
   },
   {
    "duration": 4,
    "start_time": "2022-04-23T11:35:31.281Z"
   },
   {
    "duration": 98,
    "start_time": "2022-04-23T11:35:31.287Z"
   },
   {
    "duration": 3,
    "start_time": "2022-04-23T11:35:31.387Z"
   },
   {
    "duration": 2,
    "start_time": "2022-04-23T11:35:40.014Z"
   },
   {
    "duration": 36369,
    "start_time": "2022-04-23T11:35:41.974Z"
   },
   {
    "duration": 263,
    "start_time": "2022-04-23T11:36:18.345Z"
   },
   {
    "duration": 4,
    "start_time": "2022-04-23T11:36:18.610Z"
   },
   {
    "duration": 102,
    "start_time": "2022-04-23T11:36:18.616Z"
   },
   {
    "duration": 4,
    "start_time": "2022-04-23T11:36:18.719Z"
   },
   {
    "duration": 87,
    "start_time": "2022-04-23T11:37:51.638Z"
   },
   {
    "duration": 86,
    "start_time": "2022-04-23T11:38:00.941Z"
   },
   {
    "duration": 5,
    "start_time": "2022-04-23T11:38:03.285Z"
   },
   {
    "duration": 3,
    "start_time": "2022-04-23T11:39:35.161Z"
   },
   {
    "duration": 32734,
    "start_time": "2022-04-23T11:39:38.753Z"
   },
   {
    "duration": 241,
    "start_time": "2022-04-23T11:40:11.489Z"
   },
   {
    "duration": 4,
    "start_time": "2022-04-23T11:40:11.732Z"
   },
   {
    "duration": 92,
    "start_time": "2022-04-23T11:40:11.738Z"
   },
   {
    "duration": 6,
    "start_time": "2022-04-23T11:40:11.832Z"
   },
   {
    "duration": 3,
    "start_time": "2022-04-23T11:40:22.669Z"
   },
   {
    "duration": 35967,
    "start_time": "2022-04-23T11:40:25.728Z"
   },
   {
    "duration": 254,
    "start_time": "2022-04-23T11:41:01.697Z"
   },
   {
    "duration": 4,
    "start_time": "2022-04-23T11:41:01.952Z"
   },
   {
    "duration": 99,
    "start_time": "2022-04-23T11:41:01.958Z"
   },
   {
    "duration": 5,
    "start_time": "2022-04-23T11:41:02.059Z"
   },
   {
    "duration": 54,
    "start_time": "2022-04-23T11:44:02.980Z"
   },
   {
    "duration": 16,
    "start_time": "2022-04-23T11:44:19.869Z"
   },
   {
    "duration": 50,
    "start_time": "2022-04-23T11:44:31.861Z"
   },
   {
    "duration": 79,
    "start_time": "2022-04-23T11:44:49.788Z"
   },
   {
    "duration": 3341,
    "start_time": "2022-04-24T05:56:47.805Z"
   },
   {
    "duration": 1202,
    "start_time": "2022-04-24T05:56:51.149Z"
   },
   {
    "duration": 35,
    "start_time": "2022-04-24T05:56:52.353Z"
   },
   {
    "duration": 228,
    "start_time": "2022-04-24T05:56:52.391Z"
   },
   {
    "duration": 177,
    "start_time": "2022-04-24T05:56:52.623Z"
   },
   {
    "duration": 9,
    "start_time": "2022-04-24T05:56:52.803Z"
   },
   {
    "duration": 16,
    "start_time": "2022-04-24T05:56:52.814Z"
   },
   {
    "duration": 6,
    "start_time": "2022-04-24T05:56:52.833Z"
   },
   {
    "duration": 100,
    "start_time": "2022-04-24T05:56:52.842Z"
   },
   {
    "duration": 308,
    "start_time": "2022-04-24T05:56:52.947Z"
   },
   {
    "duration": 1066,
    "start_time": "2022-04-24T05:56:53.259Z"
   },
   {
    "duration": 876,
    "start_time": "2022-04-24T05:56:54.328Z"
   },
   {
    "duration": 762,
    "start_time": "2022-04-24T05:56:55.207Z"
   },
   {
    "duration": 100,
    "start_time": "2022-04-24T05:56:55.972Z"
   },
   {
    "duration": 62,
    "start_time": "2022-04-24T05:57:08.962Z"
   },
   {
    "duration": 42,
    "start_time": "2022-04-24T05:57:14.905Z"
   },
   {
    "duration": 41,
    "start_time": "2022-04-24T05:57:39.333Z"
   },
   {
    "duration": 392,
    "start_time": "2022-04-24T05:58:19.849Z"
   },
   {
    "duration": 1907,
    "start_time": "2022-04-24T05:58:45.226Z"
   },
   {
    "duration": 291,
    "start_time": "2022-04-24T05:58:59.273Z"
   },
   {
    "duration": 6,
    "start_time": "2022-04-24T06:01:12.073Z"
   },
   {
    "duration": 1364,
    "start_time": "2022-04-24T06:01:12.085Z"
   },
   {
    "duration": 44,
    "start_time": "2022-04-24T06:01:13.453Z"
   },
   {
    "duration": 285,
    "start_time": "2022-04-24T06:01:13.501Z"
   },
   {
    "duration": 131,
    "start_time": "2022-04-24T06:01:13.791Z"
   },
   {
    "duration": 4,
    "start_time": "2022-04-24T06:01:13.924Z"
   },
   {
    "duration": 12,
    "start_time": "2022-04-24T06:01:13.931Z"
   },
   {
    "duration": 4,
    "start_time": "2022-04-24T06:01:13.946Z"
   },
   {
    "duration": 74,
    "start_time": "2022-04-24T06:01:13.952Z"
   },
   {
    "duration": 221,
    "start_time": "2022-04-24T06:01:14.030Z"
   },
   {
    "duration": 730,
    "start_time": "2022-04-24T06:01:14.256Z"
   },
   {
    "duration": 795,
    "start_time": "2022-04-24T06:01:14.994Z"
   },
   {
    "duration": 727,
    "start_time": "2022-04-24T06:01:15.794Z"
   },
   {
    "duration": 7,
    "start_time": "2022-04-24T06:01:16.524Z"
   },
   {
    "duration": 117,
    "start_time": "2022-04-24T06:01:16.534Z"
   },
   {
    "duration": 15,
    "start_time": "2022-04-24T06:01:16.654Z"
   },
   {
    "duration": 80,
    "start_time": "2022-04-24T06:01:16.682Z"
   },
   {
    "duration": 241,
    "start_time": "2022-04-24T06:01:16.766Z"
   },
   {
    "duration": 329,
    "start_time": "2022-04-24T06:12:36.070Z"
   },
   {
    "duration": 13,
    "start_time": "2022-04-24T06:13:12.061Z"
   },
   {
    "duration": 18,
    "start_time": "2022-04-24T06:13:35.794Z"
   },
   {
    "duration": 5,
    "start_time": "2022-04-24T06:16:31.412Z"
   },
   {
    "duration": 1211,
    "start_time": "2022-04-24T06:16:31.420Z"
   },
   {
    "duration": 21,
    "start_time": "2022-04-24T06:16:32.634Z"
   },
   {
    "duration": 314,
    "start_time": "2022-04-24T06:16:32.658Z"
   },
   {
    "duration": 127,
    "start_time": "2022-04-24T06:16:32.988Z"
   },
   {
    "duration": 4,
    "start_time": "2022-04-24T06:16:33.118Z"
   },
   {
    "duration": 11,
    "start_time": "2022-04-24T06:16:33.125Z"
   },
   {
    "duration": 4,
    "start_time": "2022-04-24T06:16:33.139Z"
   },
   {
    "duration": 57,
    "start_time": "2022-04-24T06:16:33.146Z"
   },
   {
    "duration": 200,
    "start_time": "2022-04-24T06:16:33.205Z"
   },
   {
    "duration": 964,
    "start_time": "2022-04-24T06:16:33.409Z"
   },
   {
    "duration": 760,
    "start_time": "2022-04-24T06:16:34.376Z"
   },
   {
    "duration": 723,
    "start_time": "2022-04-24T06:16:35.139Z"
   },
   {
    "duration": 28,
    "start_time": "2022-04-24T06:16:35.865Z"
   },
   {
    "duration": 111,
    "start_time": "2022-04-24T06:16:35.896Z"
   },
   {
    "duration": 15,
    "start_time": "2022-04-24T06:16:36.009Z"
   },
   {
    "duration": 86,
    "start_time": "2022-04-24T06:16:36.026Z"
   },
   {
    "duration": 127,
    "start_time": "2022-04-24T06:16:36.115Z"
   },
   {
    "duration": 271,
    "start_time": "2022-04-24T06:16:36.246Z"
   },
   {
    "duration": 310,
    "start_time": "2022-04-24T06:16:36.519Z"
   },
   {
    "duration": 269,
    "start_time": "2022-04-24T06:16:36.831Z"
   },
   {
    "duration": 284,
    "start_time": "2022-04-24T06:16:37.104Z"
   },
   {
    "duration": 385,
    "start_time": "2022-04-24T06:16:37.391Z"
   },
   {
    "duration": 80,
    "start_time": "2022-04-24T06:16:37.783Z"
   },
   {
    "duration": 116,
    "start_time": "2022-04-24T06:16:37.866Z"
   },
   {
    "duration": 1002,
    "start_time": "2022-04-24T06:16:37.984Z"
   },
   {
    "duration": 107,
    "start_time": "2022-04-24T06:16:38.991Z"
   },
   {
    "duration": 75,
    "start_time": "2022-04-24T06:16:39.109Z"
   },
   {
    "duration": 7,
    "start_time": "2022-04-24T06:16:39.213Z"
   },
   {
    "duration": 75893,
    "start_time": "2022-04-24T06:16:39.223Z"
   },
   {
    "duration": 1636,
    "start_time": "2022-04-24T06:17:55.118Z"
   },
   {
    "duration": 559,
    "start_time": "2022-04-24T06:17:56.757Z"
   },
   {
    "duration": 6,
    "start_time": "2022-04-24T06:17:57.324Z"
   },
   {
    "duration": 60,
    "start_time": "2022-04-24T06:17:57.333Z"
   },
   {
    "duration": 224,
    "start_time": "2022-04-24T06:17:57.396Z"
   },
   {
    "duration": 4,
    "start_time": "2022-04-24T06:17:57.623Z"
   },
   {
    "duration": 211289,
    "start_time": "2022-04-24T06:17:57.630Z"
   },
   {
    "duration": 1475,
    "start_time": "2022-04-24T06:21:28.924Z"
   },
   {
    "duration": 14,
    "start_time": "2022-04-24T06:21:30.402Z"
   },
   {
    "duration": 573,
    "start_time": "2022-04-24T06:21:30.424Z"
   },
   {
    "duration": 13,
    "start_time": "2022-04-24T06:21:31.011Z"
   },
   {
    "duration": 12,
    "start_time": "2022-04-24T06:21:31.026Z"
   },
   {
    "duration": 456193,
    "start_time": "2022-04-24T06:21:31.041Z"
   },
   {
    "duration": 14,
    "start_time": "2022-04-24T06:29:07.237Z"
   },
   {
    "duration": 0,
    "start_time": "2022-04-24T06:29:07.253Z"
   },
   {
    "duration": 0,
    "start_time": "2022-04-24T06:29:07.255Z"
   },
   {
    "duration": 0,
    "start_time": "2022-04-24T06:29:07.257Z"
   },
   {
    "duration": 0,
    "start_time": "2022-04-24T06:29:07.258Z"
   },
   {
    "duration": 0,
    "start_time": "2022-04-24T06:29:07.260Z"
   },
   {
    "duration": 0,
    "start_time": "2022-04-24T06:29:07.262Z"
   },
   {
    "duration": 0,
    "start_time": "2022-04-24T06:29:07.263Z"
   },
   {
    "duration": 0,
    "start_time": "2022-04-24T06:29:07.265Z"
   },
   {
    "duration": 0,
    "start_time": "2022-04-24T06:29:07.266Z"
   },
   {
    "duration": 4,
    "start_time": "2022-04-24T06:29:10.461Z"
   },
   {
    "duration": 1269,
    "start_time": "2022-04-24T06:29:10.470Z"
   },
   {
    "duration": 22,
    "start_time": "2022-04-24T06:29:11.742Z"
   },
   {
    "duration": 215,
    "start_time": "2022-04-24T06:29:11.781Z"
   },
   {
    "duration": 121,
    "start_time": "2022-04-24T06:29:12.001Z"
   },
   {
    "duration": 4,
    "start_time": "2022-04-24T06:29:12.125Z"
   },
   {
    "duration": 11,
    "start_time": "2022-04-24T06:29:12.133Z"
   },
   {
    "duration": 15,
    "start_time": "2022-04-24T06:29:12.147Z"
   },
   {
    "duration": 67,
    "start_time": "2022-04-24T06:29:12.183Z"
   },
   {
    "duration": 197,
    "start_time": "2022-04-24T06:29:12.253Z"
   },
   {
    "duration": 756,
    "start_time": "2022-04-24T06:29:12.454Z"
   },
   {
    "duration": 1022,
    "start_time": "2022-04-24T06:29:13.213Z"
   },
   {
    "duration": 713,
    "start_time": "2022-04-24T06:29:14.237Z"
   },
   {
    "duration": 9,
    "start_time": "2022-04-24T06:29:14.952Z"
   },
   {
    "duration": 117,
    "start_time": "2022-04-24T06:29:14.963Z"
   },
   {
    "duration": 16,
    "start_time": "2022-04-24T06:29:15.083Z"
   },
   {
    "duration": 89,
    "start_time": "2022-04-24T06:29:15.102Z"
   },
   {
    "duration": 125,
    "start_time": "2022-04-24T06:29:15.201Z"
   },
   {
    "duration": 239,
    "start_time": "2022-04-24T06:29:15.329Z"
   },
   {
    "duration": 302,
    "start_time": "2022-04-24T06:29:15.590Z"
   },
   {
    "duration": 249,
    "start_time": "2022-04-24T06:29:15.899Z"
   },
   {
    "duration": 302,
    "start_time": "2022-04-24T06:29:16.150Z"
   },
   {
    "duration": 414,
    "start_time": "2022-04-24T06:29:16.454Z"
   },
   {
    "duration": 88,
    "start_time": "2022-04-24T06:29:16.871Z"
   },
   {
    "duration": 114,
    "start_time": "2022-04-24T06:29:16.962Z"
   },
   {
    "duration": 1032,
    "start_time": "2022-04-24T06:29:17.079Z"
   },
   {
    "duration": 175,
    "start_time": "2022-04-24T06:29:18.113Z"
   },
   {
    "duration": 11,
    "start_time": "2022-04-24T06:29:18.290Z"
   },
   {
    "duration": 93,
    "start_time": "2022-04-24T06:29:18.317Z"
   },
   {
    "duration": 78558,
    "start_time": "2022-04-24T06:29:18.413Z"
   },
   {
    "duration": 1793,
    "start_time": "2022-04-24T06:30:36.974Z"
   },
   {
    "duration": 561,
    "start_time": "2022-04-24T06:30:38.769Z"
   },
   {
    "duration": 7,
    "start_time": "2022-04-24T06:30:39.332Z"
   },
   {
    "duration": 61,
    "start_time": "2022-04-24T06:30:39.341Z"
   },
   {
    "duration": 203,
    "start_time": "2022-04-24T06:30:39.406Z"
   },
   {
    "duration": 6,
    "start_time": "2022-04-24T06:30:39.615Z"
   },
   {
    "duration": 209497,
    "start_time": "2022-04-24T06:30:39.624Z"
   },
   {
    "duration": 1503,
    "start_time": "2022-04-24T06:34:09.123Z"
   },
   {
    "duration": 7,
    "start_time": "2022-04-24T06:34:10.629Z"
   },
   {
    "duration": 490,
    "start_time": "2022-04-24T06:34:10.638Z"
   },
   {
    "duration": 14,
    "start_time": "2022-04-24T06:34:11.183Z"
   },
   {
    "duration": 25,
    "start_time": "2022-04-24T06:34:11.200Z"
   },
   {
    "duration": 266316,
    "start_time": "2022-04-24T06:34:11.227Z"
   },
   {
    "duration": 13,
    "start_time": "2022-04-24T06:38:37.545Z"
   },
   {
    "duration": 0,
    "start_time": "2022-04-24T06:38:37.560Z"
   },
   {
    "duration": 0,
    "start_time": "2022-04-24T06:38:37.562Z"
   },
   {
    "duration": 0,
    "start_time": "2022-04-24T06:38:37.564Z"
   },
   {
    "duration": 0,
    "start_time": "2022-04-24T06:38:37.566Z"
   },
   {
    "duration": 0,
    "start_time": "2022-04-24T06:38:37.567Z"
   },
   {
    "duration": 0,
    "start_time": "2022-04-24T06:38:37.569Z"
   },
   {
    "duration": 0,
    "start_time": "2022-04-24T06:38:37.570Z"
   },
   {
    "duration": 0,
    "start_time": "2022-04-24T06:38:37.572Z"
   },
   {
    "duration": 0,
    "start_time": "2022-04-24T06:38:37.573Z"
   },
   {
    "duration": 5,
    "start_time": "2022-04-24T06:39:37.154Z"
   },
   {
    "duration": 1161,
    "start_time": "2022-04-24T06:39:37.161Z"
   },
   {
    "duration": 21,
    "start_time": "2022-04-24T06:39:38.325Z"
   },
   {
    "duration": 216,
    "start_time": "2022-04-24T06:39:38.349Z"
   },
   {
    "duration": 137,
    "start_time": "2022-04-24T06:39:38.568Z"
   },
   {
    "duration": 7,
    "start_time": "2022-04-24T06:39:38.708Z"
   },
   {
    "duration": 9,
    "start_time": "2022-04-24T06:39:38.717Z"
   },
   {
    "duration": 12,
    "start_time": "2022-04-24T06:39:38.728Z"
   },
   {
    "duration": 59,
    "start_time": "2022-04-24T06:39:38.742Z"
   },
   {
    "duration": 193,
    "start_time": "2022-04-24T06:39:38.803Z"
   },
   {
    "duration": 810,
    "start_time": "2022-04-24T06:39:39.001Z"
   },
   {
    "duration": 756,
    "start_time": "2022-04-24T06:39:39.813Z"
   },
   {
    "duration": 676,
    "start_time": "2022-04-24T06:39:40.571Z"
   },
   {
    "duration": 8,
    "start_time": "2022-04-24T06:39:41.249Z"
   },
   {
    "duration": 97,
    "start_time": "2022-04-24T06:39:41.259Z"
   },
   {
    "duration": 25,
    "start_time": "2022-04-24T06:39:41.359Z"
   },
   {
    "duration": 60,
    "start_time": "2022-04-24T06:39:41.386Z"
   },
   {
    "duration": 106,
    "start_time": "2022-04-24T06:39:41.448Z"
   },
   {
    "duration": 192,
    "start_time": "2022-04-24T06:39:41.556Z"
   },
   {
    "duration": 302,
    "start_time": "2022-04-24T06:39:41.750Z"
   },
   {
    "duration": 260,
    "start_time": "2022-04-24T06:39:42.054Z"
   },
   {
    "duration": 284,
    "start_time": "2022-04-24T06:39:42.316Z"
   },
   {
    "duration": 361,
    "start_time": "2022-04-24T06:39:42.602Z"
   },
   {
    "duration": 69,
    "start_time": "2022-04-24T06:39:42.965Z"
   },
   {
    "duration": 105,
    "start_time": "2022-04-24T06:39:43.037Z"
   },
   {
    "duration": 858,
    "start_time": "2022-04-24T06:39:43.145Z"
   },
   {
    "duration": 111,
    "start_time": "2022-04-24T06:39:44.012Z"
   },
   {
    "duration": 71,
    "start_time": "2022-04-24T06:39:44.126Z"
   },
   {
    "duration": 107,
    "start_time": "2022-04-24T06:39:44.207Z"
   },
   {
    "duration": 70269,
    "start_time": "2022-04-24T06:39:44.316Z"
   },
   {
    "duration": 1624,
    "start_time": "2022-04-24T06:40:54.588Z"
   },
   {
    "duration": 537,
    "start_time": "2022-04-24T06:40:56.215Z"
   },
   {
    "duration": 6,
    "start_time": "2022-04-24T06:40:56.755Z"
   },
   {
    "duration": 107,
    "start_time": "2022-04-24T06:40:56.763Z"
   },
   {
    "duration": 217,
    "start_time": "2022-04-24T06:40:56.873Z"
   },
   {
    "duration": 4,
    "start_time": "2022-04-24T06:40:57.093Z"
   },
   {
    "duration": 206887,
    "start_time": "2022-04-24T06:40:57.101Z"
   },
   {
    "duration": 1438,
    "start_time": "2022-04-24T06:44:23.993Z"
   },
   {
    "duration": 71,
    "start_time": "2022-04-24T06:44:25.433Z"
   },
   {
    "duration": 513,
    "start_time": "2022-04-24T06:44:25.508Z"
   },
   {
    "duration": 7,
    "start_time": "2022-04-24T06:44:26.024Z"
   },
   {
    "duration": 59,
    "start_time": "2022-04-24T06:44:26.034Z"
   },
   {
    "duration": 211751,
    "start_time": "2022-04-24T06:44:26.096Z"
   },
   {
    "duration": 16,
    "start_time": "2022-04-24T06:47:57.850Z"
   },
   {
    "duration": 0,
    "start_time": "2022-04-24T06:47:57.869Z"
   },
   {
    "duration": 0,
    "start_time": "2022-04-24T06:47:57.871Z"
   },
   {
    "duration": 0,
    "start_time": "2022-04-24T06:47:57.874Z"
   },
   {
    "duration": 0,
    "start_time": "2022-04-24T06:47:57.876Z"
   },
   {
    "duration": 0,
    "start_time": "2022-04-24T06:47:57.878Z"
   },
   {
    "duration": 3,
    "start_time": "2022-04-24T06:47:57.880Z"
   },
   {
    "duration": 0,
    "start_time": "2022-04-24T06:47:57.891Z"
   },
   {
    "duration": 0,
    "start_time": "2022-04-24T06:47:57.892Z"
   },
   {
    "duration": 0,
    "start_time": "2022-04-24T06:47:57.898Z"
   },
   {
    "duration": 44299,
    "start_time": "2022-04-24T06:48:00.972Z"
   },
   {
    "duration": 109828,
    "start_time": "2022-04-24T06:48:50.044Z"
   },
   {
    "duration": 291857,
    "start_time": "2022-04-24T06:50:43.815Z"
   },
   {
    "duration": 8,
    "start_time": "2022-04-24T06:55:39.087Z"
   },
   {
    "duration": 178172,
    "start_time": "2022-04-24T06:55:41.264Z"
   },
   {
    "duration": 5,
    "start_time": "2022-04-24T07:05:55.172Z"
   },
   {
    "duration": 1156,
    "start_time": "2022-04-24T07:05:55.179Z"
   },
   {
    "duration": 26,
    "start_time": "2022-04-24T07:05:56.337Z"
   },
   {
    "duration": 198,
    "start_time": "2022-04-24T07:05:56.384Z"
   },
   {
    "duration": 144,
    "start_time": "2022-04-24T07:05:56.585Z"
   },
   {
    "duration": 4,
    "start_time": "2022-04-24T07:05:56.731Z"
   },
   {
    "duration": 19,
    "start_time": "2022-04-24T07:05:56.738Z"
   },
   {
    "duration": 19,
    "start_time": "2022-04-24T07:05:56.760Z"
   },
   {
    "duration": 69,
    "start_time": "2022-04-24T07:05:56.785Z"
   },
   {
    "duration": 189,
    "start_time": "2022-04-24T07:05:56.857Z"
   },
   {
    "duration": 672,
    "start_time": "2022-04-24T07:05:57.050Z"
   },
   {
    "duration": 735,
    "start_time": "2022-04-24T07:05:57.724Z"
   },
   {
    "duration": 654,
    "start_time": "2022-04-24T07:05:58.462Z"
   },
   {
    "duration": 8,
    "start_time": "2022-04-24T07:05:59.118Z"
   },
   {
    "duration": 93,
    "start_time": "2022-04-24T07:05:59.128Z"
   },
   {
    "duration": 13,
    "start_time": "2022-04-24T07:05:59.223Z"
   },
   {
    "duration": 85,
    "start_time": "2022-04-24T07:05:59.238Z"
   },
   {
    "duration": 98,
    "start_time": "2022-04-24T07:05:59.325Z"
   },
   {
    "duration": 199,
    "start_time": "2022-04-24T07:05:59.426Z"
   },
   {
    "duration": 300,
    "start_time": "2022-04-24T07:05:59.628Z"
   },
   {
    "duration": 285,
    "start_time": "2022-04-24T07:05:59.931Z"
   },
   {
    "duration": 292,
    "start_time": "2022-04-24T07:06:00.218Z"
   },
   {
    "duration": 358,
    "start_time": "2022-04-24T07:06:00.512Z"
   },
   {
    "duration": 87,
    "start_time": "2022-04-24T07:06:00.873Z"
   },
   {
    "duration": 107,
    "start_time": "2022-04-24T07:06:00.962Z"
   },
   {
    "duration": 825,
    "start_time": "2022-04-24T07:06:01.072Z"
   },
   {
    "duration": 83,
    "start_time": "2022-04-24T07:06:01.902Z"
   },
   {
    "duration": 96,
    "start_time": "2022-04-24T07:06:01.988Z"
   },
   {
    "duration": 18,
    "start_time": "2022-04-24T07:06:02.096Z"
   },
   {
    "duration": 68771,
    "start_time": "2022-04-24T07:06:02.117Z"
   },
   {
    "duration": 1587,
    "start_time": "2022-04-24T07:07:10.896Z"
   },
   {
    "duration": 528,
    "start_time": "2022-04-24T07:07:12.486Z"
   },
   {
    "duration": 6,
    "start_time": "2022-04-24T07:07:13.017Z"
   },
   {
    "duration": 67,
    "start_time": "2022-04-24T07:07:13.025Z"
   },
   {
    "duration": 189,
    "start_time": "2022-04-24T07:07:13.094Z"
   },
   {
    "duration": 10,
    "start_time": "2022-04-24T07:07:13.286Z"
   },
   {
    "duration": 206591,
    "start_time": "2022-04-24T07:07:13.299Z"
   },
   {
    "duration": 1397,
    "start_time": "2022-04-24T07:10:39.898Z"
   },
   {
    "duration": 11,
    "start_time": "2022-04-24T07:10:41.297Z"
   },
   {
    "duration": 583,
    "start_time": "2022-04-24T07:10:41.310Z"
   },
   {
    "duration": 8,
    "start_time": "2022-04-24T07:10:41.897Z"
   },
   {
    "duration": 11,
    "start_time": "2022-04-24T07:10:41.914Z"
   },
   {
    "duration": 359057,
    "start_time": "2022-04-24T07:10:41.928Z"
   },
   {
    "duration": 2313,
    "start_time": "2022-04-24T07:16:40.988Z"
   },
   {
    "duration": 816,
    "start_time": "2022-04-24T07:16:43.304Z"
   },
   {
    "duration": 6,
    "start_time": "2022-04-24T07:16:44.123Z"
   },
   {
    "duration": 11,
    "start_time": "2022-04-24T07:16:44.132Z"
   },
   {
    "duration": 169,
    "start_time": "2022-04-24T07:16:44.146Z"
   },
   {
    "duration": 18,
    "start_time": "2022-04-24T07:16:44.317Z"
   },
   {
    "duration": 0,
    "start_time": "2022-04-24T07:16:44.338Z"
   },
   {
    "duration": 0,
    "start_time": "2022-04-24T07:16:44.340Z"
   },
   {
    "duration": 0,
    "start_time": "2022-04-24T07:16:44.342Z"
   },
   {
    "duration": 0,
    "start_time": "2022-04-24T07:16:44.343Z"
   },
   {
    "duration": 80294,
    "start_time": "2022-04-24T07:16:55.288Z"
   },
   {
    "duration": 451,
    "start_time": "2022-04-24T07:18:15.584Z"
   },
   {
    "duration": 6,
    "start_time": "2022-04-24T07:18:16.037Z"
   },
   {
    "duration": 179,
    "start_time": "2022-04-24T07:18:16.046Z"
   },
   {
    "duration": 6,
    "start_time": "2022-04-24T07:18:16.227Z"
   },
   {
    "duration": 7,
    "start_time": "2022-04-24T07:19:02.213Z"
   },
   {
    "duration": 1550,
    "start_time": "2022-04-25T03:47:08.771Z"
   },
   {
    "duration": 1119,
    "start_time": "2022-04-25T03:47:10.323Z"
   },
   {
    "duration": 25,
    "start_time": "2022-04-25T03:47:11.443Z"
   },
   {
    "duration": 181,
    "start_time": "2022-04-25T03:47:13.187Z"
   },
   {
    "duration": 4,
    "start_time": "2022-04-25T03:47:20.306Z"
   },
   {
    "duration": 7,
    "start_time": "2022-04-25T03:47:21.361Z"
   },
   {
    "duration": 2,
    "start_time": "2022-04-25T03:47:22.003Z"
   },
   {
    "duration": 54,
    "start_time": "2022-04-25T03:47:25.134Z"
   },
   {
    "duration": 153,
    "start_time": "2022-04-25T03:47:28.979Z"
   },
   {
    "duration": 460,
    "start_time": "2022-04-25T03:47:32.463Z"
   },
   {
    "duration": 527,
    "start_time": "2022-04-25T03:47:33.761Z"
   },
   {
    "duration": 456,
    "start_time": "2022-04-25T03:47:35.066Z"
   },
   {
    "duration": 7,
    "start_time": "2022-04-25T03:49:02.398Z"
   },
   {
    "duration": 67,
    "start_time": "2022-04-25T03:49:07.630Z"
   },
   {
    "duration": 11,
    "start_time": "2022-04-25T03:49:11.570Z"
   },
   {
    "duration": 47,
    "start_time": "2022-04-25T03:49:20.561Z"
   },
   {
    "duration": 111,
    "start_time": "2022-04-25T03:49:21.445Z"
   },
   {
    "duration": 133,
    "start_time": "2022-04-25T03:49:27.931Z"
   },
   {
    "duration": 162,
    "start_time": "2022-04-25T03:49:39.757Z"
   },
   {
    "duration": 145,
    "start_time": "2022-04-25T03:49:41.585Z"
   },
   {
    "duration": 160,
    "start_time": "2022-04-25T03:49:43.362Z"
   },
   {
    "duration": 260,
    "start_time": "2022-04-25T03:50:13.579Z"
   },
   {
    "duration": 19,
    "start_time": "2022-04-25T03:51:55.087Z"
   },
   {
    "duration": 62,
    "start_time": "2022-04-25T03:52:29.871Z"
   },
   {
    "duration": 19,
    "start_time": "2022-04-25T03:52:57.565Z"
   },
   {
    "duration": 17,
    "start_time": "2022-04-25T03:53:11.681Z"
   },
   {
    "duration": 66,
    "start_time": "2022-04-25T03:59:06.922Z"
   },
   {
    "duration": 128,
    "start_time": "2022-04-25T03:59:41.794Z"
   },
   {
    "duration": 704,
    "start_time": "2022-04-25T03:59:44.948Z"
   },
   {
    "duration": 24,
    "start_time": "2022-04-25T03:59:46.784Z"
   },
   {
    "duration": 4,
    "start_time": "2022-04-25T03:59:48.873Z"
   },
   {
    "duration": 3,
    "start_time": "2022-04-25T03:59:57.072Z"
   },
   {
    "duration": 53011,
    "start_time": "2022-04-25T03:59:57.475Z"
   },
   {
    "duration": 1170,
    "start_time": "2022-04-25T04:00:50.487Z"
   },
   {
    "duration": 520,
    "start_time": "2022-04-25T04:00:51.660Z"
   },
   {
    "duration": 6,
    "start_time": "2022-04-25T04:00:52.182Z"
   },
   {
    "duration": 40,
    "start_time": "2022-04-25T04:00:52.189Z"
   },
   {
    "duration": 2163,
    "start_time": "2022-04-25T12:26:02.396Z"
   },
   {
    "duration": 772,
    "start_time": "2022-04-25T12:26:04.561Z"
   },
   {
    "duration": 26,
    "start_time": "2022-04-25T12:26:05.335Z"
   },
   {
    "duration": 242,
    "start_time": "2022-04-25T12:26:05.364Z"
   },
   {
    "duration": 122,
    "start_time": "2022-04-25T12:26:05.607Z"
   },
   {
    "duration": 4,
    "start_time": "2022-04-25T12:26:05.731Z"
   },
   {
    "duration": 18,
    "start_time": "2022-04-25T12:26:05.737Z"
   },
   {
    "duration": 2,
    "start_time": "2022-04-25T12:26:05.758Z"
   },
   {
    "duration": 53,
    "start_time": "2022-04-25T12:26:05.762Z"
   },
   {
    "duration": 141,
    "start_time": "2022-04-25T12:26:05.818Z"
   },
   {
    "duration": 457,
    "start_time": "2022-04-25T12:26:05.961Z"
   },
   {
    "duration": 491,
    "start_time": "2022-04-25T12:26:06.420Z"
   },
   {
    "duration": 487,
    "start_time": "2022-04-25T12:26:06.912Z"
   },
   {
    "duration": 8,
    "start_time": "2022-04-25T12:26:07.402Z"
   },
   {
    "duration": 72,
    "start_time": "2022-04-25T12:26:07.412Z"
   },
   {
    "duration": 7,
    "start_time": "2022-04-25T12:26:07.486Z"
   },
   {
    "duration": 67,
    "start_time": "2022-04-25T12:26:07.495Z"
   },
   {
    "duration": 128,
    "start_time": "2022-04-25T12:26:07.564Z"
   },
   {
    "duration": 227,
    "start_time": "2022-04-25T12:26:07.694Z"
   },
   {
    "duration": 270,
    "start_time": "2022-04-25T12:26:07.923Z"
   },
   {
    "duration": 178,
    "start_time": "2022-04-25T12:26:08.195Z"
   },
   {
    "duration": 185,
    "start_time": "2022-04-25T12:26:08.375Z"
   },
   {
    "duration": 387,
    "start_time": "2022-04-25T12:26:08.562Z"
   },
   {
    "duration": 48,
    "start_time": "2022-04-25T12:27:13.532Z"
   },
   {
    "duration": 4,
    "start_time": "2022-04-25T12:27:20.843Z"
   },
   {
    "duration": 846,
    "start_time": "2022-04-25T12:27:20.850Z"
   },
   {
    "duration": 26,
    "start_time": "2022-04-25T12:27:21.699Z"
   },
   {
    "duration": 151,
    "start_time": "2022-04-25T12:27:21.727Z"
   },
   {
    "duration": 101,
    "start_time": "2022-04-25T12:27:21.880Z"
   },
   {
    "duration": 9,
    "start_time": "2022-04-25T12:27:21.983Z"
   },
   {
    "duration": 12,
    "start_time": "2022-04-25T12:27:21.995Z"
   },
   {
    "duration": 6,
    "start_time": "2022-04-25T12:27:22.009Z"
   },
   {
    "duration": 29,
    "start_time": "2022-04-25T12:27:22.016Z"
   },
   {
    "duration": 140,
    "start_time": "2022-04-25T12:27:22.047Z"
   },
   {
    "duration": 432,
    "start_time": "2022-04-25T12:27:22.190Z"
   },
   {
    "duration": 465,
    "start_time": "2022-04-25T12:27:22.623Z"
   },
   {
    "duration": 500,
    "start_time": "2022-04-25T12:27:23.090Z"
   },
   {
    "duration": 6,
    "start_time": "2022-04-25T12:27:23.592Z"
   },
   {
    "duration": 73,
    "start_time": "2022-04-25T12:27:23.600Z"
   },
   {
    "duration": 7,
    "start_time": "2022-04-25T12:27:23.675Z"
   },
   {
    "duration": 66,
    "start_time": "2022-04-25T12:27:23.684Z"
   },
   {
    "duration": 67,
    "start_time": "2022-04-25T12:27:23.752Z"
   },
   {
    "duration": 137,
    "start_time": "2022-04-25T12:27:23.821Z"
   },
   {
    "duration": 199,
    "start_time": "2022-04-25T12:27:23.960Z"
   },
   {
    "duration": 158,
    "start_time": "2022-04-25T12:27:24.161Z"
   },
   {
    "duration": 180,
    "start_time": "2022-04-25T12:27:24.321Z"
   },
   {
    "duration": 58,
    "start_time": "2022-04-25T12:27:24.504Z"
   },
   {
    "duration": 901,
    "start_time": "2022-04-25T12:27:43.576Z"
   },
   {
    "duration": 3,
    "start_time": "2022-04-25T12:27:55.556Z"
   },
   {
    "duration": 818,
    "start_time": "2022-04-25T12:27:55.562Z"
   },
   {
    "duration": 14,
    "start_time": "2022-04-25T12:27:56.383Z"
   },
   {
    "duration": 169,
    "start_time": "2022-04-25T12:27:56.399Z"
   },
   {
    "duration": 95,
    "start_time": "2022-04-25T12:27:56.571Z"
   },
   {
    "duration": 3,
    "start_time": "2022-04-25T12:27:56.668Z"
   },
   {
    "duration": 10,
    "start_time": "2022-04-25T12:27:56.673Z"
   },
   {
    "duration": 8,
    "start_time": "2022-04-25T12:27:56.684Z"
   },
   {
    "duration": 32,
    "start_time": "2022-04-25T12:27:56.694Z"
   },
   {
    "duration": 141,
    "start_time": "2022-04-25T12:27:56.728Z"
   },
   {
    "duration": 471,
    "start_time": "2022-04-25T12:27:56.873Z"
   },
   {
    "duration": 512,
    "start_time": "2022-04-25T12:27:57.346Z"
   },
   {
    "duration": 452,
    "start_time": "2022-04-25T12:27:57.860Z"
   },
   {
    "duration": 7,
    "start_time": "2022-04-25T12:27:58.315Z"
   },
   {
    "duration": 66,
    "start_time": "2022-04-25T12:27:58.324Z"
   },
   {
    "duration": 10,
    "start_time": "2022-04-25T12:27:58.392Z"
   },
   {
    "duration": 81,
    "start_time": "2022-04-25T12:27:58.404Z"
   },
   {
    "duration": 102,
    "start_time": "2022-04-25T12:27:58.488Z"
   },
   {
    "duration": 249,
    "start_time": "2022-04-25T12:27:58.592Z"
   },
   {
    "duration": 261,
    "start_time": "2022-04-25T12:27:58.843Z"
   },
   {
    "duration": 233,
    "start_time": "2022-04-25T12:27:59.106Z"
   },
   {
    "duration": 237,
    "start_time": "2022-04-25T12:27:59.341Z"
   },
   {
    "duration": 87,
    "start_time": "2022-04-25T12:27:59.582Z"
   },
   {
    "duration": 88,
    "start_time": "2022-04-25T12:28:14.064Z"
   },
   {
    "duration": 270,
    "start_time": "2022-04-25T12:28:25.084Z"
   },
   {
    "duration": 48,
    "start_time": "2022-04-25T12:29:32.767Z"
   },
   {
    "duration": 28,
    "start_time": "2022-04-25T12:31:13.871Z"
   },
   {
    "duration": 20,
    "start_time": "2022-04-25T12:31:32.711Z"
   },
   {
    "duration": 18,
    "start_time": "2022-04-25T12:31:47.611Z"
   },
   {
    "duration": 5,
    "start_time": "2022-04-25T12:32:27.011Z"
   },
   {
    "duration": 2423,
    "start_time": "2022-04-25T12:32:52.306Z"
   },
   {
    "duration": 5,
    "start_time": "2022-04-25T12:33:18.231Z"
   },
   {
    "duration": 5,
    "start_time": "2022-04-25T12:33:36.830Z"
   },
   {
    "duration": 6,
    "start_time": "2022-04-25T12:34:15.550Z"
   },
   {
    "duration": 15,
    "start_time": "2022-04-25T12:34:39.275Z"
   },
   {
    "duration": 166,
    "start_time": "2022-04-25T12:34:47.671Z"
   },
   {
    "duration": 271,
    "start_time": "2022-04-25T12:34:56.419Z"
   },
   {
    "duration": 2446,
    "start_time": "2022-04-25T12:35:24.310Z"
   },
   {
    "duration": 213,
    "start_time": "2022-04-25T12:35:32.618Z"
   },
   {
    "duration": 218,
    "start_time": "2022-04-25T12:35:42.058Z"
   },
   {
    "duration": 3,
    "start_time": "2022-04-25T12:35:48.890Z"
   },
   {
    "duration": 797,
    "start_time": "2022-04-25T12:35:48.898Z"
   },
   {
    "duration": 15,
    "start_time": "2022-04-25T12:35:49.697Z"
   },
   {
    "duration": 154,
    "start_time": "2022-04-25T12:35:49.715Z"
   },
   {
    "duration": 94,
    "start_time": "2022-04-25T12:35:49.872Z"
   },
   {
    "duration": 3,
    "start_time": "2022-04-25T12:35:49.968Z"
   },
   {
    "duration": 15,
    "start_time": "2022-04-25T12:35:49.973Z"
   },
   {
    "duration": 23,
    "start_time": "2022-04-25T12:35:49.990Z"
   },
   {
    "duration": 53,
    "start_time": "2022-04-25T12:35:50.015Z"
   },
   {
    "duration": 129,
    "start_time": "2022-04-25T12:35:50.070Z"
   },
   {
    "duration": 447,
    "start_time": "2022-04-25T12:35:50.203Z"
   },
   {
    "duration": 463,
    "start_time": "2022-04-25T12:35:50.655Z"
   },
   {
    "duration": 436,
    "start_time": "2022-04-25T12:35:51.119Z"
   },
   {
    "duration": 6,
    "start_time": "2022-04-25T12:35:51.558Z"
   },
   {
    "duration": 64,
    "start_time": "2022-04-25T12:35:51.566Z"
   },
   {
    "duration": 23,
    "start_time": "2022-04-25T12:35:51.632Z"
   },
   {
    "duration": 43,
    "start_time": "2022-04-25T12:35:51.657Z"
   },
   {
    "duration": 73,
    "start_time": "2022-04-25T12:35:51.702Z"
   },
   {
    "duration": 131,
    "start_time": "2022-04-25T12:35:51.776Z"
   },
   {
    "duration": 186,
    "start_time": "2022-04-25T12:35:51.909Z"
   },
   {
    "duration": 160,
    "start_time": "2022-04-25T12:35:52.097Z"
   },
   {
    "duration": 190,
    "start_time": "2022-04-25T12:35:52.259Z"
   },
   {
    "duration": 251,
    "start_time": "2022-04-25T12:35:52.451Z"
   },
   {
    "duration": 5,
    "start_time": "2022-04-25T12:35:52.703Z"
   },
   {
    "duration": 135,
    "start_time": "2022-04-25T12:38:35.526Z"
   },
   {
    "duration": 114,
    "start_time": "2022-04-25T12:40:16.713Z"
   },
   {
    "duration": 205,
    "start_time": "2022-04-25T12:40:42.941Z"
   },
   {
    "duration": 45,
    "start_time": "2022-04-25T12:41:14.205Z"
   },
   {
    "duration": 5,
    "start_time": "2022-04-25T12:42:36.478Z"
   },
   {
    "duration": 12,
    "start_time": "2022-04-25T12:42:50.326Z"
   },
   {
    "duration": 11,
    "start_time": "2022-04-25T12:42:58.253Z"
   },
   {
    "duration": 12,
    "start_time": "2022-04-25T12:43:24.502Z"
   },
   {
    "duration": 65,
    "start_time": "2022-04-25T12:44:12.970Z"
   },
   {
    "duration": 62,
    "start_time": "2022-04-25T12:44:36.246Z"
   },
   {
    "duration": 12,
    "start_time": "2022-04-25T13:28:42.507Z"
   },
   {
    "duration": 145,
    "start_time": "2022-04-25T13:29:37.296Z"
   },
   {
    "duration": 8312,
    "start_time": "2022-04-25T13:29:44.216Z"
   },
   {
    "duration": 22,
    "start_time": "2022-04-25T13:29:55.835Z"
   },
   {
    "duration": 491,
    "start_time": "2022-04-25T13:30:03.319Z"
   },
   {
    "duration": 4,
    "start_time": "2022-04-25T13:36:57.123Z"
   },
   {
    "duration": 1079,
    "start_time": "2022-04-25T13:36:57.134Z"
   },
   {
    "duration": 18,
    "start_time": "2022-04-25T13:36:58.215Z"
   },
   {
    "duration": 233,
    "start_time": "2022-04-25T13:36:58.235Z"
   },
   {
    "duration": 128,
    "start_time": "2022-04-25T13:36:58.471Z"
   },
   {
    "duration": 5,
    "start_time": "2022-04-25T13:36:58.601Z"
   },
   {
    "duration": 18,
    "start_time": "2022-04-25T13:36:58.608Z"
   },
   {
    "duration": 9,
    "start_time": "2022-04-25T13:36:58.628Z"
   },
   {
    "duration": 38,
    "start_time": "2022-04-25T13:36:58.639Z"
   },
   {
    "duration": 128,
    "start_time": "2022-04-25T13:36:58.679Z"
   },
   {
    "duration": 435,
    "start_time": "2022-04-25T13:36:58.811Z"
   },
   {
    "duration": 477,
    "start_time": "2022-04-25T13:36:59.254Z"
   },
   {
    "duration": 536,
    "start_time": "2022-04-25T13:36:59.733Z"
   },
   {
    "duration": 7,
    "start_time": "2022-04-25T13:37:00.272Z"
   },
   {
    "duration": 76,
    "start_time": "2022-04-25T13:37:00.283Z"
   },
   {
    "duration": 11,
    "start_time": "2022-04-25T13:37:00.361Z"
   },
   {
    "duration": 75,
    "start_time": "2022-04-25T13:37:00.374Z"
   },
   {
    "duration": 88,
    "start_time": "2022-04-25T13:37:00.452Z"
   },
   {
    "duration": 253,
    "start_time": "2022-04-25T13:37:00.542Z"
   },
   {
    "duration": 230,
    "start_time": "2022-04-25T13:37:00.797Z"
   },
   {
    "duration": 170,
    "start_time": "2022-04-25T13:37:01.029Z"
   },
   {
    "duration": 181,
    "start_time": "2022-04-25T13:37:01.201Z"
   },
   {
    "duration": 271,
    "start_time": "2022-04-25T13:37:01.384Z"
   },
   {
    "duration": 7,
    "start_time": "2022-04-25T13:37:01.657Z"
   },
   {
    "duration": 76,
    "start_time": "2022-04-25T13:37:01.667Z"
   },
   {
    "duration": 30,
    "start_time": "2022-04-25T13:37:01.746Z"
   },
   {
    "duration": 71,
    "start_time": "2022-04-25T13:37:01.778Z"
   },
   {
    "duration": 47,
    "start_time": "2022-04-25T13:37:01.851Z"
   },
   {
    "duration": 103,
    "start_time": "2022-04-25T13:37:01.902Z"
   },
   {
    "duration": 1068,
    "start_time": "2022-04-25T13:37:02.007Z"
   },
   {
    "duration": 179,
    "start_time": "2022-04-25T13:37:03.078Z"
   },
   {
    "duration": 9,
    "start_time": "2022-04-25T13:37:03.263Z"
   },
   {
    "duration": 87,
    "start_time": "2022-04-25T13:37:03.275Z"
   },
   {
    "duration": 74832,
    "start_time": "2022-04-25T13:37:03.364Z"
   },
   {
    "duration": 1762,
    "start_time": "2022-04-25T13:38:18.198Z"
   },
   {
    "duration": 542,
    "start_time": "2022-04-25T13:38:19.963Z"
   },
   {
    "duration": 6,
    "start_time": "2022-04-25T13:38:20.507Z"
   },
   {
    "duration": 48,
    "start_time": "2022-04-25T13:38:20.515Z"
   },
   {
    "duration": 184,
    "start_time": "2022-04-25T13:38:20.565Z"
   },
   {
    "duration": 42,
    "start_time": "2022-04-25T13:45:05.182Z"
   },
   {
    "duration": 32,
    "start_time": "2022-04-25T13:45:20.746Z"
   },
   {
    "duration": 5,
    "start_time": "2022-04-25T13:46:03.170Z"
   },
   {
    "duration": 129,
    "start_time": "2022-04-25T13:46:12.767Z"
   },
   {
    "duration": 96369,
    "start_time": "2022-04-25T13:46:38.508Z"
   },
   {
    "duration": 0,
    "start_time": "2022-04-25T13:48:14.879Z"
   },
   {
    "duration": 3,
    "start_time": "2022-04-25T13:48:22.714Z"
   },
   {
    "duration": 1519,
    "start_time": "2022-04-25T13:48:22.719Z"
   },
   {
    "duration": 20,
    "start_time": "2022-04-25T13:48:24.240Z"
   },
   {
    "duration": 150,
    "start_time": "2022-04-25T13:48:24.262Z"
   },
   {
    "duration": 105,
    "start_time": "2022-04-25T13:48:24.414Z"
   },
   {
    "duration": 3,
    "start_time": "2022-04-25T13:48:24.521Z"
   },
   {
    "duration": 9,
    "start_time": "2022-04-25T13:48:24.526Z"
   },
   {
    "duration": 19,
    "start_time": "2022-04-25T13:48:24.538Z"
   },
   {
    "duration": 29,
    "start_time": "2022-04-25T13:48:24.559Z"
   },
   {
    "duration": 164,
    "start_time": "2022-04-25T13:48:24.590Z"
   },
   {
    "duration": 654,
    "start_time": "2022-04-25T13:48:24.758Z"
   },
   {
    "duration": 523,
    "start_time": "2022-04-25T13:48:25.414Z"
   },
   {
    "duration": 462,
    "start_time": "2022-04-25T13:48:25.938Z"
   },
   {
    "duration": 6,
    "start_time": "2022-04-25T13:48:26.402Z"
   },
   {
    "duration": 75,
    "start_time": "2022-04-25T13:48:26.410Z"
   },
   {
    "duration": 11,
    "start_time": "2022-04-25T13:48:26.487Z"
   },
   {
    "duration": 70,
    "start_time": "2022-04-25T13:48:26.499Z"
   },
   {
    "duration": 121,
    "start_time": "2022-04-25T13:48:26.571Z"
   },
   {
    "duration": 294,
    "start_time": "2022-04-25T13:48:26.694Z"
   },
   {
    "duration": 469,
    "start_time": "2022-04-25T13:48:26.990Z"
   },
   {
    "duration": 326,
    "start_time": "2022-04-25T13:48:27.461Z"
   },
   {
    "duration": 370,
    "start_time": "2022-04-25T13:48:27.788Z"
   },
   {
    "duration": 469,
    "start_time": "2022-04-25T13:48:28.159Z"
   },
   {
    "duration": 7,
    "start_time": "2022-04-25T13:48:28.630Z"
   },
   {
    "duration": 84,
    "start_time": "2022-04-25T13:48:28.640Z"
   },
   {
    "duration": 17,
    "start_time": "2022-04-25T13:48:28.726Z"
   },
   {
    "duration": 47,
    "start_time": "2022-04-25T13:48:28.745Z"
   },
   {
    "duration": 51,
    "start_time": "2022-04-25T13:48:28.794Z"
   },
   {
    "duration": 139,
    "start_time": "2022-04-25T13:48:28.857Z"
   },
   {
    "duration": 1573,
    "start_time": "2022-04-25T13:48:28.998Z"
   },
   {
    "duration": 189,
    "start_time": "2022-04-25T13:48:30.573Z"
   },
   {
    "duration": 90,
    "start_time": "2022-04-25T13:48:30.765Z"
   },
   {
    "duration": 10,
    "start_time": "2022-04-25T13:48:30.857Z"
   },
   {
    "duration": 28070,
    "start_time": "2022-04-25T13:48:30.870Z"
   },
   {
    "duration": 15,
    "start_time": "2022-04-25T13:48:58.942Z"
   },
   {
    "duration": 0,
    "start_time": "2022-04-25T13:48:58.958Z"
   },
   {
    "duration": 0,
    "start_time": "2022-04-25T13:48:58.960Z"
   },
   {
    "duration": 0,
    "start_time": "2022-04-25T13:48:58.961Z"
   },
   {
    "duration": 1,
    "start_time": "2022-04-25T13:48:58.962Z"
   },
   {
    "duration": 0,
    "start_time": "2022-04-25T13:48:58.964Z"
   },
   {
    "duration": 0,
    "start_time": "2022-04-25T13:48:58.966Z"
   },
   {
    "duration": 0,
    "start_time": "2022-04-25T13:48:58.967Z"
   },
   {
    "duration": 0,
    "start_time": "2022-04-25T13:48:58.969Z"
   },
   {
    "duration": 0,
    "start_time": "2022-04-25T13:49:45.386Z"
   },
   {
    "duration": 0,
    "start_time": "2022-04-25T13:49:45.388Z"
   },
   {
    "duration": 0,
    "start_time": "2022-04-25T13:49:45.389Z"
   },
   {
    "duration": 0,
    "start_time": "2022-04-25T13:49:45.390Z"
   },
   {
    "duration": 0,
    "start_time": "2022-04-25T13:49:45.391Z"
   },
   {
    "duration": 0,
    "start_time": "2022-04-25T13:49:45.392Z"
   },
   {
    "duration": 0,
    "start_time": "2022-04-25T13:49:45.393Z"
   },
   {
    "duration": 0,
    "start_time": "2022-04-25T13:49:45.395Z"
   },
   {
    "duration": 0,
    "start_time": "2022-04-25T13:49:45.396Z"
   },
   {
    "duration": 0,
    "start_time": "2022-04-25T13:49:45.397Z"
   },
   {
    "duration": 0,
    "start_time": "2022-04-25T13:49:45.398Z"
   },
   {
    "duration": 0,
    "start_time": "2022-04-25T13:49:45.399Z"
   },
   {
    "duration": 0,
    "start_time": "2022-04-25T13:49:45.400Z"
   },
   {
    "duration": 0,
    "start_time": "2022-04-25T13:49:45.454Z"
   },
   {
    "duration": 0,
    "start_time": "2022-04-25T13:49:45.456Z"
   },
   {
    "duration": 0,
    "start_time": "2022-04-25T13:49:45.457Z"
   },
   {
    "duration": 0,
    "start_time": "2022-04-25T13:49:45.458Z"
   },
   {
    "duration": 0,
    "start_time": "2022-04-25T13:49:45.459Z"
   },
   {
    "duration": 0,
    "start_time": "2022-04-25T13:49:45.460Z"
   },
   {
    "duration": 0,
    "start_time": "2022-04-25T13:49:45.462Z"
   },
   {
    "duration": 0,
    "start_time": "2022-04-25T13:49:45.463Z"
   },
   {
    "duration": 0,
    "start_time": "2022-04-25T13:49:45.464Z"
   },
   {
    "duration": 0,
    "start_time": "2022-04-25T13:49:45.465Z"
   },
   {
    "duration": 0,
    "start_time": "2022-04-25T13:49:45.467Z"
   },
   {
    "duration": 0,
    "start_time": "2022-04-25T13:49:45.468Z"
   },
   {
    "duration": 0,
    "start_time": "2022-04-25T13:49:45.470Z"
   },
   {
    "duration": 0,
    "start_time": "2022-04-25T13:49:45.471Z"
   },
   {
    "duration": 0,
    "start_time": "2022-04-25T13:49:45.472Z"
   },
   {
    "duration": 0,
    "start_time": "2022-04-25T13:49:45.474Z"
   },
   {
    "duration": 0,
    "start_time": "2022-04-25T13:49:45.475Z"
   },
   {
    "duration": 0,
    "start_time": "2022-04-25T13:49:45.476Z"
   },
   {
    "duration": 0,
    "start_time": "2022-04-25T13:49:45.478Z"
   },
   {
    "duration": 0,
    "start_time": "2022-04-25T13:49:45.479Z"
   },
   {
    "duration": 0,
    "start_time": "2022-04-25T13:49:45.480Z"
   },
   {
    "duration": 0,
    "start_time": "2022-04-25T13:49:45.482Z"
   },
   {
    "duration": 0,
    "start_time": "2022-04-25T13:49:45.483Z"
   },
   {
    "duration": 0,
    "start_time": "2022-04-25T13:49:45.485Z"
   },
   {
    "duration": 0,
    "start_time": "2022-04-25T13:49:45.486Z"
   },
   {
    "duration": 0,
    "start_time": "2022-04-25T13:49:45.488Z"
   },
   {
    "duration": 0,
    "start_time": "2022-04-25T13:49:45.489Z"
   },
   {
    "duration": 0,
    "start_time": "2022-04-25T13:49:45.491Z"
   },
   {
    "duration": 0,
    "start_time": "2022-04-25T13:49:45.554Z"
   },
   {
    "duration": 0,
    "start_time": "2022-04-25T13:49:45.556Z"
   },
   {
    "duration": 3,
    "start_time": "2022-04-25T13:53:21.549Z"
   },
   {
    "duration": 1313,
    "start_time": "2022-04-25T13:53:21.557Z"
   },
   {
    "duration": 15,
    "start_time": "2022-04-25T13:53:22.872Z"
   },
   {
    "duration": 149,
    "start_time": "2022-04-25T13:53:22.889Z"
   },
   {
    "duration": 130,
    "start_time": "2022-04-25T13:53:23.041Z"
   },
   {
    "duration": 4,
    "start_time": "2022-04-25T13:53:23.174Z"
   },
   {
    "duration": 9,
    "start_time": "2022-04-25T13:53:23.180Z"
   },
   {
    "duration": 5,
    "start_time": "2022-04-25T13:53:23.191Z"
   },
   {
    "duration": 71,
    "start_time": "2022-04-25T13:53:23.198Z"
   },
   {
    "duration": 141,
    "start_time": "2022-04-25T13:53:23.271Z"
   },
   {
    "duration": 461,
    "start_time": "2022-04-25T13:53:23.415Z"
   },
   {
    "duration": 512,
    "start_time": "2022-04-25T13:53:23.879Z"
   },
   {
    "duration": 455,
    "start_time": "2022-04-25T13:53:24.393Z"
   },
   {
    "duration": 7,
    "start_time": "2022-04-25T13:53:24.850Z"
   },
   {
    "duration": 48,
    "start_time": "2022-04-25T13:53:24.859Z"
   },
   {
    "duration": 11,
    "start_time": "2022-04-25T13:53:24.910Z"
   },
   {
    "duration": 76,
    "start_time": "2022-04-25T13:53:24.923Z"
   },
   {
    "duration": 87,
    "start_time": "2022-04-25T13:53:25.002Z"
   },
   {
    "duration": 132,
    "start_time": "2022-04-25T13:53:25.091Z"
   },
   {
    "duration": 200,
    "start_time": "2022-04-25T13:53:25.225Z"
   },
   {
    "duration": 169,
    "start_time": "2022-04-25T13:53:25.427Z"
   },
   {
    "duration": 175,
    "start_time": "2022-04-25T13:53:25.598Z"
   },
   {
    "duration": 266,
    "start_time": "2022-04-25T13:53:25.775Z"
   },
   {
    "duration": 13,
    "start_time": "2022-04-25T13:53:26.043Z"
   },
   {
    "duration": 67,
    "start_time": "2022-04-25T13:53:26.058Z"
   },
   {
    "duration": 43,
    "start_time": "2022-04-25T13:53:26.127Z"
   },
   {
    "duration": 60,
    "start_time": "2022-04-25T13:53:26.173Z"
   },
   {
    "duration": 83,
    "start_time": "2022-04-25T13:53:26.235Z"
   },
   {
    "duration": 100,
    "start_time": "2022-04-25T13:53:26.324Z"
   },
   {
    "duration": 1339,
    "start_time": "2022-04-25T13:53:26.426Z"
   },
   {
    "duration": 197,
    "start_time": "2022-04-25T13:53:27.768Z"
   },
   {
    "duration": 5,
    "start_time": "2022-04-25T13:53:28.054Z"
   },
   {
    "duration": 31,
    "start_time": "2022-04-25T13:53:28.061Z"
   },
   {
    "duration": 76412,
    "start_time": "2022-04-25T13:53:28.094Z"
   },
   {
    "duration": 1485,
    "start_time": "2022-04-25T13:54:44.508Z"
   },
   {
    "duration": 540,
    "start_time": "2022-04-25T13:54:45.996Z"
   },
   {
    "duration": 17,
    "start_time": "2022-04-25T13:54:46.539Z"
   },
   {
    "duration": 40,
    "start_time": "2022-04-25T13:54:46.558Z"
   },
   {
    "duration": 121,
    "start_time": "2022-04-25T13:54:46.600Z"
   },
   {
    "duration": 2961,
    "start_time": "2022-04-25T13:54:46.724Z"
   },
   {
    "duration": 6,
    "start_time": "2022-04-25T13:54:49.688Z"
   },
   {
    "duration": 271178,
    "start_time": "2022-04-25T13:54:49.697Z"
   },
   {
    "duration": 0,
    "start_time": "2022-04-25T13:59:20.878Z"
   },
   {
    "duration": 5,
    "start_time": "2022-04-25T14:04:54.874Z"
   },
   {
    "duration": 189552,
    "start_time": "2022-04-25T14:06:33.005Z"
   },
   {
    "duration": 8,
    "start_time": "2022-04-25T14:09:42.559Z"
   },
   {
    "duration": 202462,
    "start_time": "2022-04-25T14:10:29.693Z"
   },
   {
    "duration": 4,
    "start_time": "2022-04-25T14:13:52.157Z"
   },
   {
    "duration": 3,
    "start_time": "2022-04-25T14:14:29.425Z"
   },
   {
    "duration": 201611,
    "start_time": "2022-04-25T14:14:32.304Z"
   },
   {
    "duration": 1048,
    "start_time": "2022-04-25T14:17:53.917Z"
   },
   {
    "duration": 6,
    "start_time": "2022-04-25T14:17:54.967Z"
   },
   {
    "duration": 397,
    "start_time": "2022-04-25T14:17:54.975Z"
   },
   {
    "duration": 5,
    "start_time": "2022-04-25T14:17:55.374Z"
   },
   {
    "duration": 5,
    "start_time": "2022-04-25T14:20:06.471Z"
   },
   {
    "duration": 200899,
    "start_time": "2022-04-25T14:22:58.595Z"
   },
   {
    "duration": 5,
    "start_time": "2022-04-25T14:26:19.496Z"
   },
   {
    "duration": 3,
    "start_time": "2022-04-25T14:26:47.602Z"
   },
   {
    "duration": 208565,
    "start_time": "2022-04-25T14:26:49.603Z"
   },
   {
    "duration": 1629,
    "start_time": "2022-04-25T14:30:18.170Z"
   },
   {
    "duration": 561,
    "start_time": "2022-04-25T14:30:19.801Z"
   },
   {
    "duration": 5,
    "start_time": "2022-04-25T14:30:20.364Z"
   },
   {
    "duration": 7936,
    "start_time": "2022-04-25T14:32:01.207Z"
   },
   {
    "duration": 4,
    "start_time": "2022-04-25T14:32:17.270Z"
   },
   {
    "duration": 8368,
    "start_time": "2022-04-25T14:32:40.962Z"
   },
   {
    "duration": 20,
    "start_time": "2022-04-25T14:33:07.249Z"
   },
   {
    "duration": 4,
    "start_time": "2022-04-25T14:34:03.295Z"
   },
   {
    "duration": 3,
    "start_time": "2022-04-25T14:34:26.910Z"
   },
   {
    "duration": 9886,
    "start_time": "2022-04-25T14:34:30.218Z"
   },
   {
    "duration": 77,
    "start_time": "2022-04-25T14:34:58.082Z"
   },
   {
    "duration": 4,
    "start_time": "2022-04-25T14:35:01.474Z"
   },
   {
    "duration": 29,
    "start_time": "2022-04-25T14:35:07.173Z"
   },
   {
    "duration": 4,
    "start_time": "2022-04-25T14:35:09.982Z"
   },
   {
    "duration": 4,
    "start_time": "2022-04-25T14:35:13.998Z"
   },
   {
    "duration": 2546,
    "start_time": "2022-04-25T14:45:36.612Z"
   },
   {
    "duration": 4,
    "start_time": "2022-04-25T14:45:39.161Z"
   },
   {
    "duration": 1258,
    "start_time": "2022-04-25T14:45:39.167Z"
   },
   {
    "duration": 15,
    "start_time": "2022-04-25T14:45:40.427Z"
   },
   {
    "duration": 135,
    "start_time": "2022-04-25T14:45:40.454Z"
   },
   {
    "duration": 92,
    "start_time": "2022-04-25T14:45:40.590Z"
   },
   {
    "duration": 3,
    "start_time": "2022-04-25T14:45:40.684Z"
   },
   {
    "duration": 7,
    "start_time": "2022-04-25T14:45:40.689Z"
   },
   {
    "duration": 5,
    "start_time": "2022-04-25T14:45:40.697Z"
   },
   {
    "duration": 64,
    "start_time": "2022-04-25T14:45:40.704Z"
   },
   {
    "duration": 124,
    "start_time": "2022-04-25T14:45:40.770Z"
   },
   {
    "duration": 684,
    "start_time": "2022-04-25T14:45:40.896Z"
   },
   {
    "duration": 694,
    "start_time": "2022-04-25T14:45:41.583Z"
   },
   {
    "duration": 650,
    "start_time": "2022-04-25T14:45:42.279Z"
   },
   {
    "duration": 24,
    "start_time": "2022-04-25T14:45:42.932Z"
   },
   {
    "duration": 65,
    "start_time": "2022-04-25T14:45:42.958Z"
   },
   {
    "duration": 10,
    "start_time": "2022-04-25T14:45:43.026Z"
   },
   {
    "duration": 75,
    "start_time": "2022-04-25T14:45:43.038Z"
   },
   {
    "duration": 73,
    "start_time": "2022-04-25T14:45:43.115Z"
   },
   {
    "duration": 170,
    "start_time": "2022-04-25T14:45:43.190Z"
   },
   {
    "duration": 241,
    "start_time": "2022-04-25T14:45:43.362Z"
   },
   {
    "duration": 249,
    "start_time": "2022-04-25T14:45:43.606Z"
   },
   {
    "duration": 208,
    "start_time": "2022-04-25T14:45:43.857Z"
   },
   {
    "duration": 284,
    "start_time": "2022-04-25T14:45:44.067Z"
   },
   {
    "duration": 5,
    "start_time": "2022-04-25T14:45:44.355Z"
   },
   {
    "duration": 60,
    "start_time": "2022-04-25T14:45:44.361Z"
   },
   {
    "duration": 38,
    "start_time": "2022-04-25T14:45:44.423Z"
   },
   {
    "duration": 40,
    "start_time": "2022-04-25T14:45:44.466Z"
   },
   {
    "duration": 60,
    "start_time": "2022-04-25T14:45:44.508Z"
   },
   {
    "duration": 96,
    "start_time": "2022-04-25T14:45:44.570Z"
   },
   {
    "duration": 1093,
    "start_time": "2022-04-25T14:45:44.668Z"
   },
   {
    "duration": 191,
    "start_time": "2022-04-25T14:45:45.763Z"
   },
   {
    "duration": 5,
    "start_time": "2022-04-25T14:45:45.957Z"
   },
   {
    "duration": 92,
    "start_time": "2022-04-25T14:45:45.964Z"
   },
   {
    "duration": 79290,
    "start_time": "2022-04-25T14:45:46.058Z"
   },
   {
    "duration": 1913,
    "start_time": "2022-04-25T14:47:05.355Z"
   },
   {
    "duration": 535,
    "start_time": "2022-04-25T14:47:07.270Z"
   },
   {
    "duration": 5,
    "start_time": "2022-04-25T14:47:07.807Z"
   },
   {
    "duration": 53,
    "start_time": "2022-04-25T14:47:07.813Z"
   },
   {
    "duration": 183,
    "start_time": "2022-04-25T14:47:07.868Z"
   },
   {
    "duration": 165208,
    "start_time": "2022-04-25T14:47:08.055Z"
   },
   {
    "duration": 23,
    "start_time": "2022-04-25T14:49:53.265Z"
   },
   {
    "duration": 0,
    "start_time": "2022-04-25T14:49:53.290Z"
   },
   {
    "duration": 0,
    "start_time": "2022-04-25T14:49:53.291Z"
   },
   {
    "duration": 0,
    "start_time": "2022-04-25T14:49:53.292Z"
   },
   {
    "duration": 0,
    "start_time": "2022-04-25T14:49:53.293Z"
   },
   {
    "duration": 0,
    "start_time": "2022-04-25T14:49:53.294Z"
   },
   {
    "duration": 0,
    "start_time": "2022-04-25T14:49:53.295Z"
   },
   {
    "duration": 0,
    "start_time": "2022-04-25T14:49:53.296Z"
   },
   {
    "duration": 0,
    "start_time": "2022-04-25T14:49:53.297Z"
   },
   {
    "duration": 0,
    "start_time": "2022-04-25T14:49:53.298Z"
   },
   {
    "duration": 0,
    "start_time": "2022-04-25T14:49:53.299Z"
   },
   {
    "duration": 0,
    "start_time": "2022-04-25T14:49:53.300Z"
   },
   {
    "duration": 0,
    "start_time": "2022-04-25T14:49:53.301Z"
   },
   {
    "duration": 0,
    "start_time": "2022-04-25T14:49:53.302Z"
   },
   {
    "duration": 0,
    "start_time": "2022-04-25T14:49:53.303Z"
   },
   {
    "duration": 0,
    "start_time": "2022-04-25T14:49:53.305Z"
   },
   {
    "duration": 0,
    "start_time": "2022-04-25T14:49:53.306Z"
   },
   {
    "duration": 0,
    "start_time": "2022-04-25T14:49:53.307Z"
   },
   {
    "duration": 0,
    "start_time": "2022-04-25T14:49:53.308Z"
   },
   {
    "duration": 0,
    "start_time": "2022-04-25T14:49:53.309Z"
   },
   {
    "duration": 0,
    "start_time": "2022-04-25T14:49:53.310Z"
   },
   {
    "duration": 0,
    "start_time": "2022-04-25T14:49:53.311Z"
   },
   {
    "duration": 0,
    "start_time": "2022-04-25T14:49:53.355Z"
   },
   {
    "duration": 344,
    "start_time": "2022-04-25T14:50:17.969Z"
   },
   {
    "duration": 444088,
    "start_time": "2022-04-25T14:50:33.624Z"
   },
   {
    "duration": 5,
    "start_time": "2022-04-25T14:57:57.756Z"
   },
   {
    "duration": 18,
    "start_time": "2022-04-25T14:57:57.763Z"
   },
   {
    "duration": 93124,
    "start_time": "2022-04-25T14:57:57.783Z"
   },
   {
    "duration": 24,
    "start_time": "2022-04-25T14:59:30.909Z"
   },
   {
    "duration": 0,
    "start_time": "2022-04-25T14:59:30.936Z"
   },
   {
    "duration": 0,
    "start_time": "2022-04-25T14:59:30.937Z"
   },
   {
    "duration": 0,
    "start_time": "2022-04-25T14:59:30.940Z"
   },
   {
    "duration": 0,
    "start_time": "2022-04-25T14:59:30.941Z"
   },
   {
    "duration": 0,
    "start_time": "2022-04-25T14:59:30.943Z"
   },
   {
    "duration": 0,
    "start_time": "2022-04-25T14:59:30.945Z"
   },
   {
    "duration": 0,
    "start_time": "2022-04-25T14:59:30.947Z"
   },
   {
    "duration": 0,
    "start_time": "2022-04-25T14:59:30.949Z"
   },
   {
    "duration": 0,
    "start_time": "2022-04-25T14:59:30.950Z"
   },
   {
    "duration": 0,
    "start_time": "2022-04-25T14:59:30.952Z"
   },
   {
    "duration": 0,
    "start_time": "2022-04-25T14:59:30.953Z"
   },
   {
    "duration": 0,
    "start_time": "2022-04-25T14:59:30.954Z"
   },
   {
    "duration": 0,
    "start_time": "2022-04-25T14:59:30.955Z"
   },
   {
    "duration": 0,
    "start_time": "2022-04-25T14:59:30.956Z"
   },
   {
    "duration": 0,
    "start_time": "2022-04-25T14:59:30.957Z"
   },
   {
    "duration": 0,
    "start_time": "2022-04-25T14:59:30.958Z"
   },
   {
    "duration": 0,
    "start_time": "2022-04-25T14:59:30.959Z"
   },
   {
    "duration": 0,
    "start_time": "2022-04-25T14:59:30.960Z"
   },
   {
    "duration": 213377,
    "start_time": "2022-04-25T14:59:37.899Z"
   },
   {
    "duration": 1201,
    "start_time": "2022-04-25T15:03:11.278Z"
   },
   {
    "duration": 9,
    "start_time": "2022-04-25T15:03:12.480Z"
   },
   {
    "duration": 466,
    "start_time": "2022-04-25T15:03:12.491Z"
   },
   {
    "duration": 5,
    "start_time": "2022-04-25T15:03:12.958Z"
   },
   {
    "duration": 16684,
    "start_time": "2022-04-25T15:03:22.215Z"
   },
   {
    "duration": 152002,
    "start_time": "2022-04-25T15:05:29.407Z"
   },
   {
    "duration": 5,
    "start_time": "2022-04-25T15:08:01.411Z"
   },
   {
    "duration": 3,
    "start_time": "2022-04-25T15:08:37.127Z"
   },
   {
    "duration": 196506,
    "start_time": "2022-04-25T15:08:40.159Z"
   },
   {
    "duration": 2056,
    "start_time": "2022-04-25T15:11:56.667Z"
   },
   {
    "duration": 688,
    "start_time": "2022-04-25T15:11:58.725Z"
   },
   {
    "duration": 41,
    "start_time": "2022-04-25T15:11:59.416Z"
   },
   {
    "duration": 53329,
    "start_time": "2022-04-25T15:13:58.410Z"
   },
   {
    "duration": 4,
    "start_time": "2022-04-25T15:14:51.742Z"
   },
   {
    "duration": 4,
    "start_time": "2022-04-25T15:15:25.070Z"
   },
   {
    "duration": 54259,
    "start_time": "2022-04-25T15:15:27.746Z"
   },
   {
    "duration": 312,
    "start_time": "2022-04-25T15:16:22.007Z"
   },
   {
    "duration": 4,
    "start_time": "2022-04-25T15:16:22.321Z"
   },
   {
    "duration": 119,
    "start_time": "2022-04-25T15:16:22.327Z"
   },
   {
    "duration": 9,
    "start_time": "2022-04-25T15:16:22.448Z"
   },
   {
    "duration": 5,
    "start_time": "2022-04-25T15:16:54.938Z"
   },
   {
    "duration": 140,
    "start_time": "2022-04-25T15:21:09.326Z"
   },
   {
    "duration": 13,
    "start_time": "2022-04-25T16:24:01.515Z"
   },
   {
    "duration": 3,
    "start_time": "2022-04-25T16:24:27.458Z"
   },
   {
    "duration": 2546,
    "start_time": "2022-04-25T16:24:39.563Z"
   },
   {
    "duration": 5,
    "start_time": "2022-04-25T16:24:42.111Z"
   },
   {
    "duration": 1220,
    "start_time": "2022-04-25T16:24:42.117Z"
   },
   {
    "duration": 15,
    "start_time": "2022-04-25T16:24:43.340Z"
   },
   {
    "duration": 146,
    "start_time": "2022-04-25T16:24:43.356Z"
   },
   {
    "duration": 100,
    "start_time": "2022-04-25T16:24:43.503Z"
   },
   {
    "duration": 3,
    "start_time": "2022-04-25T16:24:43.605Z"
   },
   {
    "duration": 11,
    "start_time": "2022-04-25T16:24:43.610Z"
   },
   {
    "duration": 7,
    "start_time": "2022-04-25T16:24:43.623Z"
   },
   {
    "duration": 70,
    "start_time": "2022-04-25T16:24:43.634Z"
   },
   {
    "duration": 197,
    "start_time": "2022-04-25T16:24:43.707Z"
   },
   {
    "duration": 480,
    "start_time": "2022-04-25T16:24:43.906Z"
   },
   {
    "duration": 506,
    "start_time": "2022-04-25T16:24:44.387Z"
   },
   {
    "duration": 635,
    "start_time": "2022-04-25T16:24:44.895Z"
   },
   {
    "duration": 7,
    "start_time": "2022-04-25T16:24:45.532Z"
   },
   {
    "duration": 71,
    "start_time": "2022-04-25T16:24:45.541Z"
   },
   {
    "duration": 10,
    "start_time": "2022-04-25T16:24:45.614Z"
   },
   {
    "duration": 65,
    "start_time": "2022-04-25T16:24:45.628Z"
   },
   {
    "duration": 96,
    "start_time": "2022-04-25T16:24:45.696Z"
   },
   {
    "duration": 240,
    "start_time": "2022-04-25T16:24:45.794Z"
   },
   {
    "duration": 268,
    "start_time": "2022-04-25T16:24:46.036Z"
   },
   {
    "duration": 179,
    "start_time": "2022-04-25T16:24:46.307Z"
   },
   {
    "duration": 182,
    "start_time": "2022-04-25T16:24:46.488Z"
   },
   {
    "duration": 254,
    "start_time": "2022-04-25T16:24:46.671Z"
   },
   {
    "duration": 5,
    "start_time": "2022-04-25T16:24:46.927Z"
   },
   {
    "duration": 70,
    "start_time": "2022-04-25T16:24:46.933Z"
   },
   {
    "duration": 24,
    "start_time": "2022-04-25T16:24:47.005Z"
   },
   {
    "duration": 57,
    "start_time": "2022-04-25T16:24:47.033Z"
   },
   {
    "duration": 38,
    "start_time": "2022-04-25T16:24:47.092Z"
   },
   {
    "duration": 34,
    "start_time": "2022-04-25T16:24:47.132Z"
   },
   {
    "duration": 36,
    "start_time": "2022-04-25T16:26:43.022Z"
   },
   {
    "duration": 2472,
    "start_time": "2022-04-25T16:31:16.758Z"
   },
   {
    "duration": 4,
    "start_time": "2022-04-25T16:31:19.232Z"
   },
   {
    "duration": 738,
    "start_time": "2022-04-25T16:31:19.238Z"
   },
   {
    "duration": 13,
    "start_time": "2022-04-25T16:31:19.978Z"
   },
   {
    "duration": 141,
    "start_time": "2022-04-25T16:31:19.993Z"
   },
   {
    "duration": 113,
    "start_time": "2022-04-25T16:31:20.135Z"
   },
   {
    "duration": 3,
    "start_time": "2022-04-25T16:31:20.254Z"
   },
   {
    "duration": 13,
    "start_time": "2022-04-25T16:31:20.259Z"
   },
   {
    "duration": 17,
    "start_time": "2022-04-25T16:31:20.274Z"
   },
   {
    "duration": 58,
    "start_time": "2022-04-25T16:31:20.295Z"
   },
   {
    "duration": 132,
    "start_time": "2022-04-25T16:31:20.355Z"
   },
   {
    "duration": 415,
    "start_time": "2022-04-25T16:31:20.489Z"
   },
   {
    "duration": 562,
    "start_time": "2022-04-25T16:31:20.905Z"
   },
   {
    "duration": 415,
    "start_time": "2022-04-25T16:31:21.469Z"
   },
   {
    "duration": 6,
    "start_time": "2022-04-25T16:31:21.885Z"
   },
   {
    "duration": 47,
    "start_time": "2022-04-25T16:31:21.892Z"
   },
   {
    "duration": 8,
    "start_time": "2022-04-25T16:31:21.955Z"
   },
   {
    "duration": 49,
    "start_time": "2022-04-25T16:31:21.965Z"
   },
   {
    "duration": 73,
    "start_time": "2022-04-25T16:31:22.016Z"
   },
   {
    "duration": 128,
    "start_time": "2022-04-25T16:31:22.091Z"
   },
   {
    "duration": 180,
    "start_time": "2022-04-25T16:31:22.221Z"
   },
   {
    "duration": 175,
    "start_time": "2022-04-25T16:31:22.403Z"
   },
   {
    "duration": 164,
    "start_time": "2022-04-25T16:31:22.580Z"
   },
   {
    "duration": 247,
    "start_time": "2022-04-25T16:31:22.746Z"
   },
   {
    "duration": 5,
    "start_time": "2022-04-25T16:31:22.995Z"
   },
   {
    "duration": 67,
    "start_time": "2022-04-25T16:31:23.001Z"
   },
   {
    "duration": 24,
    "start_time": "2022-04-25T16:31:23.070Z"
   },
   {
    "duration": 38,
    "start_time": "2022-04-25T16:31:23.098Z"
   },
   {
    "duration": 51,
    "start_time": "2022-04-25T16:31:23.137Z"
   },
   {
    "duration": 36,
    "start_time": "2022-04-25T16:31:23.189Z"
   },
   {
    "duration": 733,
    "start_time": "2022-04-25T16:31:23.227Z"
   },
   {
    "duration": 99,
    "start_time": "2022-04-25T16:31:23.962Z"
   },
   {
    "duration": 95,
    "start_time": "2022-04-25T16:31:24.063Z"
   },
   {
    "duration": 95,
    "start_time": "2022-04-25T16:31:24.161Z"
   },
   {
    "duration": 45497,
    "start_time": "2022-04-25T16:31:24.258Z"
   },
   {
    "duration": 357,
    "start_time": "2022-04-25T16:32:09.757Z"
   },
   {
    "duration": 366,
    "start_time": "2022-04-25T16:32:10.116Z"
   },
   {
    "duration": 5,
    "start_time": "2022-04-25T16:32:10.484Z"
   },
   {
    "duration": 223465,
    "start_time": "2022-04-25T16:32:10.491Z"
   },
   {
    "duration": 4,
    "start_time": "2022-04-25T16:35:53.957Z"
   },
   {
    "duration": 6,
    "start_time": "2022-04-25T16:35:53.962Z"
   },
   {
    "duration": 129318,
    "start_time": "2022-04-25T16:35:53.969Z"
   },
   {
    "duration": 480,
    "start_time": "2022-04-25T16:38:03.288Z"
   },
   {
    "duration": 7,
    "start_time": "2022-04-25T16:38:03.769Z"
   },
   {
    "duration": 586,
    "start_time": "2022-04-25T16:38:03.777Z"
   },
   {
    "duration": 5,
    "start_time": "2022-04-25T16:38:04.364Z"
   },
   {
    "duration": 6393,
    "start_time": "2022-04-25T16:38:04.370Z"
   },
   {
    "duration": 5,
    "start_time": "2022-04-25T16:38:10.765Z"
   },
   {
    "duration": 9,
    "start_time": "2022-04-25T16:38:10.771Z"
   },
   {
    "duration": 4981,
    "start_time": "2022-04-25T16:38:10.782Z"
   },
   {
    "duration": 595,
    "start_time": "2022-04-25T16:38:15.764Z"
   },
   {
    "duration": 502,
    "start_time": "2022-04-25T16:38:16.361Z"
   },
   {
    "duration": 4,
    "start_time": "2022-04-25T16:38:16.865Z"
   },
   {
    "duration": 23844,
    "start_time": "2022-04-25T16:38:16.870Z"
   },
   {
    "duration": 4,
    "start_time": "2022-04-25T16:38:40.715Z"
   },
   {
    "duration": 3,
    "start_time": "2022-04-25T16:38:40.721Z"
   },
   {
    "duration": 38261,
    "start_time": "2022-04-25T16:38:40.726Z"
   },
   {
    "duration": 90,
    "start_time": "2022-04-25T16:39:18.989Z"
   },
   {
    "duration": 5,
    "start_time": "2022-04-25T16:39:19.081Z"
   },
   {
    "duration": 97,
    "start_time": "2022-04-25T16:39:19.088Z"
   },
   {
    "duration": 5,
    "start_time": "2022-04-25T16:39:19.187Z"
   },
   {
    "duration": 9,
    "start_time": "2022-04-25T16:39:19.194Z"
   },
   {
    "duration": 3,
    "start_time": "2022-04-25T16:40:12.197Z"
   },
   {
    "duration": 101554,
    "start_time": "2022-04-25T16:40:14.137Z"
   },
   {
    "duration": 392,
    "start_time": "2022-04-25T16:41:55.693Z"
   },
   {
    "duration": 6,
    "start_time": "2022-04-25T16:41:56.087Z"
   },
   {
    "duration": 386,
    "start_time": "2022-04-25T16:41:56.095Z"
   },
   {
    "duration": 5,
    "start_time": "2022-04-25T16:41:56.483Z"
   },
   {
    "duration": 4,
    "start_time": "2022-04-25T16:41:56.490Z"
   },
   {
    "duration": 7661,
    "start_time": "2022-04-25T16:41:56.496Z"
   },
   {
    "duration": 612,
    "start_time": "2022-04-25T16:42:04.159Z"
   },
   {
    "duration": 690,
    "start_time": "2022-04-25T16:42:04.772Z"
   },
   {
    "duration": 5,
    "start_time": "2022-04-25T16:42:05.465Z"
   },
   {
    "duration": 6,
    "start_time": "2022-04-25T16:42:05.471Z"
   },
   {
    "duration": 22916,
    "start_time": "2022-04-25T16:42:05.479Z"
   },
   {
    "duration": 84,
    "start_time": "2022-04-25T16:42:28.397Z"
   },
   {
    "duration": 4,
    "start_time": "2022-04-25T16:42:28.483Z"
   },
   {
    "duration": 96,
    "start_time": "2022-04-25T16:42:28.488Z"
   },
   {
    "duration": 5,
    "start_time": "2022-04-25T16:42:28.586Z"
   },
   {
    "duration": 22,
    "start_time": "2022-04-25T16:42:28.592Z"
   },
   {
    "duration": 5769,
    "start_time": "2022-04-25T16:44:20.797Z"
   },
   {
    "duration": 553,
    "start_time": "2022-04-25T16:44:36.309Z"
   },
   {
    "duration": 577,
    "start_time": "2022-04-25T16:44:40.284Z"
   },
   {
    "duration": 5,
    "start_time": "2022-04-25T16:44:43.309Z"
   },
   {
    "duration": 147,
    "start_time": "2022-04-25T16:47:55.441Z"
   },
   {
    "duration": 8752,
    "start_time": "2022-04-26T01:53:13.943Z"
   },
   {
    "duration": 2512,
    "start_time": "2022-04-26T01:53:22.698Z"
   },
   {
    "duration": 1059,
    "start_time": "2022-04-26T01:53:25.213Z"
   },
   {
    "duration": 27,
    "start_time": "2022-04-26T01:53:26.275Z"
   },
   {
    "duration": 177,
    "start_time": "2022-04-26T01:53:26.304Z"
   },
   {
    "duration": 129,
    "start_time": "2022-04-26T01:53:26.484Z"
   },
   {
    "duration": 4,
    "start_time": "2022-04-26T01:53:26.615Z"
   },
   {
    "duration": 12,
    "start_time": "2022-04-26T01:53:26.621Z"
   },
   {
    "duration": 18,
    "start_time": "2022-04-26T01:53:26.634Z"
   },
   {
    "duration": 64,
    "start_time": "2022-04-26T01:53:26.656Z"
   },
   {
    "duration": 183,
    "start_time": "2022-04-26T01:53:26.722Z"
   },
   {
    "duration": 704,
    "start_time": "2022-04-26T01:53:26.907Z"
   },
   {
    "duration": 717,
    "start_time": "2022-04-26T01:53:27.613Z"
   },
   {
    "duration": 625,
    "start_time": "2022-04-26T01:53:28.332Z"
   },
   {
    "duration": 13,
    "start_time": "2022-04-26T01:53:28.959Z"
   },
   {
    "duration": 104,
    "start_time": "2022-04-26T01:53:28.974Z"
   },
   {
    "duration": 12,
    "start_time": "2022-04-26T01:53:29.080Z"
   },
   {
    "duration": 78,
    "start_time": "2022-04-26T01:53:29.094Z"
   },
   {
    "duration": 137,
    "start_time": "2022-04-26T01:53:29.174Z"
   },
   {
    "duration": 170,
    "start_time": "2022-04-26T01:53:29.314Z"
   },
   {
    "duration": 266,
    "start_time": "2022-04-26T01:53:29.487Z"
   },
   {
    "duration": 225,
    "start_time": "2022-04-26T01:53:29.755Z"
   },
   {
    "duration": 272,
    "start_time": "2022-04-26T01:53:29.983Z"
   },
   {
    "duration": 336,
    "start_time": "2022-04-26T01:53:30.257Z"
   },
   {
    "duration": 7,
    "start_time": "2022-04-26T01:53:30.597Z"
   },
   {
    "duration": 94,
    "start_time": "2022-04-26T01:53:30.607Z"
   },
   {
    "duration": 29,
    "start_time": "2022-04-26T01:53:30.704Z"
   },
   {
    "duration": 55,
    "start_time": "2022-04-26T01:53:30.753Z"
   },
   {
    "duration": 75,
    "start_time": "2022-04-26T01:53:30.810Z"
   },
   {
    "duration": 39,
    "start_time": "2022-04-26T01:53:55.516Z"
   },
   {
    "duration": 48,
    "start_time": "2022-04-26T01:54:24.832Z"
   },
   {
    "duration": 24,
    "start_time": "2022-04-26T01:56:10.397Z"
   },
   {
    "duration": 22,
    "start_time": "2022-04-26T01:56:23.933Z"
   },
   {
    "duration": 5,
    "start_time": "2022-04-26T02:05:38.581Z"
   },
   {
    "duration": 6,
    "start_time": "2022-04-26T02:05:53.425Z"
   },
   {
    "duration": 15242,
    "start_time": "2022-04-26T11:15:51.641Z"
   },
   {
    "duration": 3459,
    "start_time": "2022-04-26T11:16:06.886Z"
   },
   {
    "duration": 1594,
    "start_time": "2022-04-26T11:16:10.347Z"
   },
   {
    "duration": 25,
    "start_time": "2022-04-26T11:16:11.945Z"
   },
   {
    "duration": 182,
    "start_time": "2022-04-26T11:16:11.973Z"
   },
   {
    "duration": 107,
    "start_time": "2022-04-26T11:16:12.157Z"
   },
   {
    "duration": 3,
    "start_time": "2022-04-26T11:16:12.265Z"
   },
   {
    "duration": 12,
    "start_time": "2022-04-26T11:16:12.270Z"
   },
   {
    "duration": 15,
    "start_time": "2022-04-26T11:16:12.284Z"
   },
   {
    "duration": 52,
    "start_time": "2022-04-26T11:16:12.306Z"
   },
   {
    "duration": 210,
    "start_time": "2022-04-26T11:16:12.360Z"
   },
   {
    "duration": 549,
    "start_time": "2022-04-26T11:16:12.572Z"
   },
   {
    "duration": 794,
    "start_time": "2022-04-26T11:16:13.124Z"
   },
   {
    "duration": 709,
    "start_time": "2022-04-26T11:16:13.923Z"
   },
   {
    "duration": 12,
    "start_time": "2022-04-26T11:16:14.634Z"
   },
   {
    "duration": 92,
    "start_time": "2022-04-26T11:16:14.648Z"
   },
   {
    "duration": 12,
    "start_time": "2022-04-26T11:16:14.742Z"
   },
   {
    "duration": 69,
    "start_time": "2022-04-26T11:16:14.756Z"
   },
   {
    "duration": 157,
    "start_time": "2022-04-26T11:16:14.828Z"
   },
   {
    "duration": 247,
    "start_time": "2022-04-26T11:16:14.987Z"
   },
   {
    "duration": 205,
    "start_time": "2022-04-26T11:16:15.236Z"
   },
   {
    "duration": 176,
    "start_time": "2022-04-26T11:16:15.443Z"
   },
   {
    "duration": 202,
    "start_time": "2022-04-26T11:16:15.623Z"
   },
   {
    "duration": 299,
    "start_time": "2022-04-26T11:16:15.828Z"
   },
   {
    "duration": 9,
    "start_time": "2022-04-26T11:16:16.128Z"
   },
   {
    "duration": 71,
    "start_time": "2022-04-26T11:16:16.139Z"
   },
   {
    "duration": 181,
    "start_time": "2022-04-26T11:16:16.213Z"
   },
   {
    "duration": 222,
    "start_time": "2022-04-26T11:16:16.399Z"
   },
   {
    "duration": 0,
    "start_time": "2022-04-26T11:16:16.624Z"
   },
   {
    "duration": 4,
    "start_time": "2022-04-26T11:16:21.362Z"
   },
   {
    "duration": 23,
    "start_time": "2022-04-26T11:16:50.842Z"
   },
   {
    "duration": 3543,
    "start_time": "2022-04-26T11:24:42.671Z"
   },
   {
    "duration": 4,
    "start_time": "2022-04-26T11:24:46.217Z"
   },
   {
    "duration": 871,
    "start_time": "2022-04-26T11:24:46.223Z"
   },
   {
    "duration": 23,
    "start_time": "2022-04-26T11:24:47.098Z"
   },
   {
    "duration": 180,
    "start_time": "2022-04-26T11:24:47.123Z"
   },
   {
    "duration": 108,
    "start_time": "2022-04-26T11:24:47.306Z"
   },
   {
    "duration": 3,
    "start_time": "2022-04-26T11:24:47.416Z"
   },
   {
    "duration": 16,
    "start_time": "2022-04-26T11:24:47.421Z"
   },
   {
    "duration": 17,
    "start_time": "2022-04-26T11:24:47.439Z"
   },
   {
    "duration": 64,
    "start_time": "2022-04-26T11:24:47.459Z"
   },
   {
    "duration": 155,
    "start_time": "2022-04-26T11:24:47.524Z"
   },
   {
    "duration": 499,
    "start_time": "2022-04-26T11:24:47.680Z"
   },
   {
    "duration": 525,
    "start_time": "2022-04-26T11:24:48.180Z"
   },
   {
    "duration": 433,
    "start_time": "2022-04-26T11:24:48.709Z"
   },
   {
    "duration": 6,
    "start_time": "2022-04-26T11:24:49.144Z"
   },
   {
    "duration": 59,
    "start_time": "2022-04-26T11:24:49.152Z"
   },
   {
    "duration": 13,
    "start_time": "2022-04-26T11:24:49.214Z"
   },
   {
    "duration": 36,
    "start_time": "2022-04-26T11:24:49.229Z"
   },
   {
    "duration": 88,
    "start_time": "2022-04-26T11:24:49.266Z"
   },
   {
    "duration": 158,
    "start_time": "2022-04-26T11:24:49.356Z"
   },
   {
    "duration": 196,
    "start_time": "2022-04-26T11:24:49.516Z"
   },
   {
    "duration": 168,
    "start_time": "2022-04-26T11:24:49.714Z"
   },
   {
    "duration": 178,
    "start_time": "2022-04-26T11:24:49.884Z"
   },
   {
    "duration": 270,
    "start_time": "2022-04-26T11:24:50.063Z"
   },
   {
    "duration": 5,
    "start_time": "2022-04-26T11:24:50.335Z"
   },
   {
    "duration": 54,
    "start_time": "2022-04-26T11:24:50.341Z"
   },
   {
    "duration": 212,
    "start_time": "2022-04-26T11:24:50.397Z"
   },
   {
    "duration": 31,
    "start_time": "2022-04-26T11:24:50.616Z"
   },
   {
    "duration": 77,
    "start_time": "2022-04-26T11:24:50.649Z"
   },
   {
    "duration": 66,
    "start_time": "2022-04-26T11:24:50.728Z"
   },
   {
    "duration": 41,
    "start_time": "2022-04-26T11:24:50.797Z"
   },
   {
    "duration": 972,
    "start_time": "2022-04-26T11:24:50.841Z"
   },
   {
    "duration": 110,
    "start_time": "2022-04-26T11:24:51.815Z"
   },
   {
    "duration": 6,
    "start_time": "2022-04-26T11:24:52.004Z"
   },
   {
    "duration": 88,
    "start_time": "2022-04-26T11:24:52.012Z"
   },
   {
    "duration": 49360,
    "start_time": "2022-04-26T11:24:52.102Z"
   },
   {
    "duration": 380,
    "start_time": "2022-04-26T11:25:41.464Z"
   },
   {
    "duration": 389,
    "start_time": "2022-04-26T11:25:41.845Z"
   },
   {
    "duration": 5,
    "start_time": "2022-04-26T11:25:42.236Z"
   },
   {
    "duration": 296180,
    "start_time": "2022-04-26T11:25:42.242Z"
   },
   {
    "duration": 9,
    "start_time": "2022-04-26T11:30:38.428Z"
   },
   {
    "duration": 7,
    "start_time": "2022-04-26T11:30:38.439Z"
   },
   {
    "duration": 168603,
    "start_time": "2022-04-26T11:30:38.448Z"
   },
   {
    "duration": 21,
    "start_time": "2022-04-26T11:33:27.053Z"
   },
   {
    "duration": 0,
    "start_time": "2022-04-26T11:33:27.076Z"
   },
   {
    "duration": 0,
    "start_time": "2022-04-26T11:33:27.078Z"
   },
   {
    "duration": 0,
    "start_time": "2022-04-26T11:33:27.079Z"
   },
   {
    "duration": 0,
    "start_time": "2022-04-26T11:33:27.080Z"
   },
   {
    "duration": 0,
    "start_time": "2022-04-26T11:33:27.081Z"
   },
   {
    "duration": 0,
    "start_time": "2022-04-26T11:33:27.083Z"
   },
   {
    "duration": 0,
    "start_time": "2022-04-26T11:33:27.085Z"
   },
   {
    "duration": 0,
    "start_time": "2022-04-26T11:33:27.086Z"
   },
   {
    "duration": 0,
    "start_time": "2022-04-26T11:33:27.087Z"
   },
   {
    "duration": 0,
    "start_time": "2022-04-26T11:33:27.089Z"
   },
   {
    "duration": 0,
    "start_time": "2022-04-26T11:33:27.091Z"
   },
   {
    "duration": 0,
    "start_time": "2022-04-26T11:33:27.092Z"
   },
   {
    "duration": 0,
    "start_time": "2022-04-26T11:33:27.093Z"
   },
   {
    "duration": 0,
    "start_time": "2022-04-26T11:33:27.093Z"
   },
   {
    "duration": 0,
    "start_time": "2022-04-26T11:33:27.093Z"
   },
   {
    "duration": 0,
    "start_time": "2022-04-26T11:33:27.113Z"
   },
   {
    "duration": 0,
    "start_time": "2022-04-26T11:33:27.121Z"
   },
   {
    "duration": 1,
    "start_time": "2022-04-26T11:33:27.124Z"
   },
   {
    "duration": 0,
    "start_time": "2022-04-26T11:33:27.128Z"
   },
   {
    "duration": 0,
    "start_time": "2022-04-26T11:33:27.129Z"
   },
   {
    "duration": 5,
    "start_time": "2022-04-26T11:33:30.738Z"
   },
   {
    "duration": 3,
    "start_time": "2022-04-26T11:33:39.891Z"
   },
   {
    "duration": 298165,
    "start_time": "2022-04-26T11:33:43.706Z"
   },
   {
    "duration": 453,
    "start_time": "2022-04-26T11:38:41.873Z"
   },
   {
    "duration": 5,
    "start_time": "2022-04-26T11:39:40.571Z"
   },
   {
    "duration": 437,
    "start_time": "2022-04-26T11:39:44.174Z"
   },
   {
    "duration": 8,
    "start_time": "2022-04-26T11:39:46.819Z"
   },
   {
    "duration": 353133,
    "start_time": "2022-04-26T11:39:54.413Z"
   },
   {
    "duration": 5,
    "start_time": "2022-04-26T11:45:47.548Z"
   },
   {
    "duration": 49,
    "start_time": "2022-04-26T13:36:07.760Z"
   },
   {
    "duration": 9649,
    "start_time": "2022-04-26T13:36:22.410Z"
   },
   {
    "duration": 2705,
    "start_time": "2022-04-26T13:36:32.062Z"
   },
   {
    "duration": 829,
    "start_time": "2022-04-26T13:36:34.769Z"
   },
   {
    "duration": 23,
    "start_time": "2022-04-26T13:36:35.601Z"
   },
   {
    "duration": 128,
    "start_time": "2022-04-26T13:36:35.627Z"
   },
   {
    "duration": 92,
    "start_time": "2022-04-26T13:36:35.757Z"
   },
   {
    "duration": 3,
    "start_time": "2022-04-26T13:36:35.851Z"
   },
   {
    "duration": 38,
    "start_time": "2022-04-26T13:36:35.856Z"
   },
   {
    "duration": 20,
    "start_time": "2022-04-26T13:36:35.896Z"
   },
   {
    "duration": 63,
    "start_time": "2022-04-26T13:36:35.919Z"
   },
   {
    "duration": 118,
    "start_time": "2022-04-26T13:36:35.984Z"
   },
   {
    "duration": 467,
    "start_time": "2022-04-26T13:36:36.104Z"
   },
   {
    "duration": 501,
    "start_time": "2022-04-26T13:36:36.572Z"
   },
   {
    "duration": 420,
    "start_time": "2022-04-26T13:36:37.074Z"
   },
   {
    "duration": 9,
    "start_time": "2022-04-26T13:36:37.495Z"
   },
   {
    "duration": 61,
    "start_time": "2022-04-26T13:36:37.506Z"
   },
   {
    "duration": 8,
    "start_time": "2022-04-26T13:36:37.569Z"
   },
   {
    "duration": 57,
    "start_time": "2022-04-26T13:36:37.578Z"
   },
   {
    "duration": 113,
    "start_time": "2022-04-26T13:36:37.637Z"
   },
   {
    "duration": 118,
    "start_time": "2022-04-26T13:36:37.751Z"
   },
   {
    "duration": 207,
    "start_time": "2022-04-26T13:36:37.870Z"
   },
   {
    "duration": 174,
    "start_time": "2022-04-26T13:36:38.079Z"
   },
   {
    "duration": 191,
    "start_time": "2022-04-26T13:36:38.254Z"
   },
   {
    "duration": 252,
    "start_time": "2022-04-26T13:36:38.447Z"
   },
   {
    "duration": 5,
    "start_time": "2022-04-26T13:36:38.701Z"
   },
   {
    "duration": 69,
    "start_time": "2022-04-26T13:36:38.708Z"
   },
   {
    "duration": 140,
    "start_time": "2022-04-26T13:36:38.779Z"
   },
   {
    "duration": 20,
    "start_time": "2022-04-26T13:36:38.924Z"
   },
   {
    "duration": 50,
    "start_time": "2022-04-26T13:36:38.946Z"
   },
   {
    "duration": 56,
    "start_time": "2022-04-26T13:36:38.998Z"
   },
   {
    "duration": 36,
    "start_time": "2022-04-26T13:36:39.056Z"
   },
   {
    "duration": 767,
    "start_time": "2022-04-26T13:36:39.094Z"
   },
   {
    "duration": 168,
    "start_time": "2022-04-26T13:36:39.863Z"
   },
   {
    "duration": 9,
    "start_time": "2022-04-26T13:36:40.035Z"
   },
   {
    "duration": 108,
    "start_time": "2022-04-26T13:36:40.046Z"
   },
   {
    "duration": 49833,
    "start_time": "2022-04-26T13:36:40.156Z"
   },
   {
    "duration": 377,
    "start_time": "2022-04-26T13:37:29.990Z"
   },
   {
    "duration": 376,
    "start_time": "2022-04-26T13:37:30.369Z"
   },
   {
    "duration": 5,
    "start_time": "2022-04-26T13:37:30.747Z"
   },
   {
    "duration": 201281,
    "start_time": "2022-04-26T13:37:30.754Z"
   },
   {
    "duration": 6,
    "start_time": "2022-04-26T13:40:52.036Z"
   },
   {
    "duration": 4,
    "start_time": "2022-04-26T13:41:17.219Z"
   },
   {
    "duration": 198773,
    "start_time": "2022-04-26T13:41:20.907Z"
   },
   {
    "duration": 346,
    "start_time": "2022-04-26T13:44:39.683Z"
   },
   {
    "duration": 7,
    "start_time": "2022-04-26T13:44:40.032Z"
   },
   {
    "duration": 386,
    "start_time": "2022-04-26T13:44:40.042Z"
   },
   {
    "duration": 9,
    "start_time": "2022-04-26T13:44:40.430Z"
   },
   {
    "duration": 320465,
    "start_time": "2022-04-26T13:45:52.561Z"
   },
   {
    "duration": 10,
    "start_time": "2022-04-26T13:51:13.028Z"
   },
   {
    "duration": 7,
    "start_time": "2022-04-26T13:51:13.040Z"
   },
   {
    "duration": 3,
    "start_time": "2022-04-26T13:51:44.108Z"
   },
   {
    "duration": 265217,
    "start_time": "2022-04-26T13:51:46.308Z"
   },
   {
    "duration": 598,
    "start_time": "2022-04-26T13:56:11.527Z"
   },
   {
    "duration": 614,
    "start_time": "2022-04-26T13:56:12.127Z"
   },
   {
    "duration": 5,
    "start_time": "2022-04-26T13:56:12.743Z"
   },
   {
    "duration": 22803,
    "start_time": "2022-04-26T13:56:24.607Z"
   },
   {
    "duration": 4,
    "start_time": "2022-04-26T13:56:47.412Z"
   },
   {
    "duration": 8,
    "start_time": "2022-04-26T13:56:47.417Z"
   },
   {
    "duration": 20152,
    "start_time": "2022-04-26T13:56:47.427Z"
   },
   {
    "duration": 2,
    "start_time": "2022-04-26T13:57:07.581Z"
   },
   {
    "duration": 3,
    "start_time": "2022-04-26T13:57:38.562Z"
   },
   {
    "duration": 22227,
    "start_time": "2022-04-26T13:57:41.470Z"
   },
   {
    "duration": 57,
    "start_time": "2022-04-26T13:58:08.006Z"
   },
   {
    "duration": 4,
    "start_time": "2022-04-26T13:58:11.038Z"
   },
   {
    "duration": 58,
    "start_time": "2022-04-26T13:58:14.297Z"
   },
   {
    "duration": 4,
    "start_time": "2022-04-26T13:58:17.674Z"
   },
   {
    "duration": 5,
    "start_time": "2022-04-26T13:58:46.074Z"
   }
  ],
  "kernelspec": {
   "display_name": "Python 3",
   "language": "python",
   "name": "python3"
  },
  "language_info": {
   "codemirror_mode": {
    "name": "ipython",
    "version": 3
   },
   "file_extension": ".py",
   "mimetype": "text/x-python",
   "name": "python",
   "nbconvert_exporter": "python",
   "pygments_lexer": "ipython3",
   "version": "3.8.8"
  },
  "toc": {
   "base_numbering": 1,
   "nav_menu": {},
   "number_sections": true,
   "sideBar": true,
   "skip_h1_title": true,
   "title_cell": "Table of Contents",
   "title_sidebar": "Contents",
   "toc_cell": false,
   "toc_position": {},
   "toc_section_display": true,
   "toc_window_display": true
  }
 },
 "nbformat": 4,
 "nbformat_minor": 2
}
